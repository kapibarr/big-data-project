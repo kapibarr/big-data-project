{
 "cells": [
  {
   "cell_type": "code",
<<<<<<< Updated upstream
   "execution_count": 96,
=======
   "execution_count": 1,
>>>>>>> Stashed changes
   "metadata": {
    "ExecuteTime": {
     "end_time": "2023-04-20T20:06:09.360455Z",
     "start_time": "2023-04-20T20:06:07.985136Z"
    },
    "pycharm": {
     "is_executing": true
    }
   },
   "outputs": [],
   "source": [
    "from dateutil.parser import parse\n",
    "\n",
    "import pandas as pd\n",
    "import datetime\n",
<<<<<<< Updated upstream
    "import numpy as np\n",
    "import matplotlib.pyplot as plt\n",
    "\n",
    "import warnings\n",
    "warnings.filterwarnings('ignore')"
   ]
  },
  {
   "cell_type": "code",
   "execution_count": 97,
   "metadata": {
    "ExecuteTime": {
     "end_time": "2023-04-11T01:13:15.567072Z",
     "start_time": "2023-04-11T01:13:09.326603Z"
    }
   },
   "outputs": [],
   "source": [
    "df = pd.read_csv(\"data/Divvy_Trips_2022_full.csv.gz\", compression=\"gzip\")"
=======
    "import matplotlib.pyplot as plt"
>>>>>>> Stashed changes
   ]
  },
  {
   "cell_type": "markdown",
   "metadata": {},
   "source": [
    "# Получение модели оплаты 2021-2023\n",
    "Получим цены с [официального сайта](https://www.divvybikes.com/pricing) и соответственно построим тариф:\n",
    "## Для member пользователей:\n",
    "- поездки 45- минут на классических велосипедах - бесплатно\n",
    "- поездки 45+ минут на классических велосипедах - 0.17 доллара за минуты выше тарифа\n",
    "- поездки на электрических велосипедах - 0.17 доллара за минуту\n",
    "- **Вне зависимости от поездок** - 130.90 доллара в год\n",
    "\n",
    "## Для casual пользователей:\n",
    "- поездки 30- минут на классических велосипедах - бесплатно\n",
    "- поездки 30+ минут на классических велосипедах - 0.17 доллара за минуты выше тарифа\n",
    "- поездки на электрических велосипедах - 0.42 доллара за минуту\n",
    "- **Вне зависимости от длительности и типа велосипеда** - 1 доллар за разблокировку\n",
    "\n",
    "За потерю велосипеда штраф 1200 долларов\n",
    "\n",
    "----\n",
    "\n",
    "Для упрощения расчетов, сделаем следующие предположения:\n",
    "- Велосипеды, которые не были взяты и были возвращены - найденные велосипеды\n",
    "- Велосипеды, которые были взяты и не были возвращены - потерянные велосипеды\n",
    "\n",
    "Тогда количество потерянных велосипедов = потерянные велосипеды - найденные велосипеды."
   ]
  },
  {
   "cell_type": "code",
<<<<<<< Updated upstream
   "execution_count": 98,
=======
   "execution_count": null,
>>>>>>> Stashed changes
   "metadata": {
    "ExecuteTime": {
     "end_time": "2023-04-20T20:12:20.452768Z",
     "start_time": "2023-04-20T20:06:10.368271Z"
    }
   },
<<<<<<< Updated upstream
   "outputs": [
    {
     "data": {
      "text/html": [
       "<div>\n",
       "<style scoped>\n",
       "    .dataframe tbody tr th:only-of-type {\n",
       "        vertical-align: middle;\n",
       "    }\n",
       "\n",
       "    .dataframe tbody tr th {\n",
       "        vertical-align: top;\n",
       "    }\n",
       "\n",
       "    .dataframe thead th {\n",
       "        text-align: right;\n",
       "    }\n",
       "</style>\n",
       "<table border=\"1\" class=\"dataframe\">\n",
       "  <thead>\n",
       "    <tr style=\"text-align: right;\">\n",
       "      <th></th>\n",
       "      <th>ride_id</th>\n",
       "      <th>rideable_type</th>\n",
       "      <th>started_at</th>\n",
       "      <th>ended_at</th>\n",
       "      <th>start_station_name</th>\n",
       "      <th>start_station_id</th>\n",
       "      <th>end_station_name</th>\n",
       "      <th>end_station_id</th>\n",
       "      <th>start_lat</th>\n",
       "      <th>start_lng</th>\n",
       "      <th>end_lat</th>\n",
       "      <th>end_lng</th>\n",
       "      <th>member_casual</th>\n",
       "    </tr>\n",
       "  </thead>\n",
       "  <tbody>\n",
       "    <tr>\n",
       "      <th>0</th>\n",
       "      <td>C2F7DD78E82EC875</td>\n",
       "      <td>electric_bike</td>\n",
       "      <td>2022-01-13 11:59:47</td>\n",
       "      <td>2022-01-13 12:02:44</td>\n",
       "      <td>Glenwood Ave &amp; Touhy Ave</td>\n",
       "      <td>525</td>\n",
       "      <td>Clark St &amp; Touhy Ave</td>\n",
       "      <td>RP-007</td>\n",
       "      <td>42.012800</td>\n",
       "      <td>-87.665906</td>\n",
       "      <td>42.012560</td>\n",
       "      <td>-87.674367</td>\n",
       "      <td>casual</td>\n",
       "    </tr>\n",
       "    <tr>\n",
       "      <th>1</th>\n",
       "      <td>A6CF8980A652D272</td>\n",
       "      <td>electric_bike</td>\n",
       "      <td>2022-01-10 08:41:56</td>\n",
       "      <td>2022-01-10 08:46:17</td>\n",
       "      <td>Glenwood Ave &amp; Touhy Ave</td>\n",
       "      <td>525</td>\n",
       "      <td>Clark St &amp; Touhy Ave</td>\n",
       "      <td>RP-007</td>\n",
       "      <td>42.012763</td>\n",
       "      <td>-87.665967</td>\n",
       "      <td>42.012560</td>\n",
       "      <td>-87.674367</td>\n",
       "      <td>casual</td>\n",
       "    </tr>\n",
       "    <tr>\n",
       "      <th>2</th>\n",
       "      <td>BD0F91DFF741C66D</td>\n",
       "      <td>classic_bike</td>\n",
       "      <td>2022-01-25 04:53:40</td>\n",
       "      <td>2022-01-25 04:58:01</td>\n",
       "      <td>Sheffield Ave &amp; Fullerton Ave</td>\n",
       "      <td>TA1306000016</td>\n",
       "      <td>Greenview Ave &amp; Fullerton Ave</td>\n",
       "      <td>TA1307000001</td>\n",
       "      <td>41.925602</td>\n",
       "      <td>-87.653708</td>\n",
       "      <td>41.925330</td>\n",
       "      <td>-87.665800</td>\n",
       "      <td>member</td>\n",
       "    </tr>\n",
       "    <tr>\n",
       "      <th>3</th>\n",
       "      <td>CBB80ED419105406</td>\n",
       "      <td>classic_bike</td>\n",
       "      <td>2022-01-04 00:18:04</td>\n",
       "      <td>2022-01-04 00:33:00</td>\n",
       "      <td>Clark St &amp; Bryn Mawr Ave</td>\n",
       "      <td>KA1504000151</td>\n",
       "      <td>Paulina St &amp; Montrose Ave</td>\n",
       "      <td>TA1309000021</td>\n",
       "      <td>41.983593</td>\n",
       "      <td>-87.669154</td>\n",
       "      <td>41.961507</td>\n",
       "      <td>-87.671387</td>\n",
       "      <td>casual</td>\n",
       "    </tr>\n",
       "    <tr>\n",
       "      <th>4</th>\n",
       "      <td>DDC963BFDDA51EEA</td>\n",
       "      <td>classic_bike</td>\n",
       "      <td>2022-01-20 01:31:10</td>\n",
       "      <td>2022-01-20 01:37:12</td>\n",
       "      <td>Michigan Ave &amp; Jackson Blvd</td>\n",
       "      <td>TA1309000002</td>\n",
       "      <td>State St &amp; Randolph St</td>\n",
       "      <td>TA1305000029</td>\n",
       "      <td>41.877850</td>\n",
       "      <td>-87.624080</td>\n",
       "      <td>41.884621</td>\n",
       "      <td>-87.627834</td>\n",
       "      <td>member</td>\n",
       "    </tr>\n",
       "  </tbody>\n",
       "</table>\n",
       "</div>"
      ],
      "text/plain": [
       "            ride_id  rideable_type           started_at             ended_at  \\\n",
       "0  C2F7DD78E82EC875  electric_bike  2022-01-13 11:59:47  2022-01-13 12:02:44   \n",
       "1  A6CF8980A652D272  electric_bike  2022-01-10 08:41:56  2022-01-10 08:46:17   \n",
       "2  BD0F91DFF741C66D   classic_bike  2022-01-25 04:53:40  2022-01-25 04:58:01   \n",
       "3  CBB80ED419105406   classic_bike  2022-01-04 00:18:04  2022-01-04 00:33:00   \n",
       "4  DDC963BFDDA51EEA   classic_bike  2022-01-20 01:31:10  2022-01-20 01:37:12   \n",
       "\n",
       "              start_station_name start_station_id  \\\n",
       "0       Glenwood Ave & Touhy Ave              525   \n",
       "1       Glenwood Ave & Touhy Ave              525   \n",
       "2  Sheffield Ave & Fullerton Ave     TA1306000016   \n",
       "3       Clark St & Bryn Mawr Ave     KA1504000151   \n",
       "4    Michigan Ave & Jackson Blvd     TA1309000002   \n",
       "\n",
       "                end_station_name end_station_id  start_lat  start_lng  \\\n",
       "0           Clark St & Touhy Ave         RP-007  42.012800 -87.665906   \n",
       "1           Clark St & Touhy Ave         RP-007  42.012763 -87.665967   \n",
       "2  Greenview Ave & Fullerton Ave   TA1307000001  41.925602 -87.653708   \n",
       "3      Paulina St & Montrose Ave   TA1309000021  41.983593 -87.669154   \n",
       "4         State St & Randolph St   TA1305000029  41.877850 -87.624080   \n",
       "\n",
       "     end_lat    end_lng member_casual  \n",
       "0  42.012560 -87.674367        casual  \n",
       "1  42.012560 -87.674367        casual  \n",
       "2  41.925330 -87.665800        member  \n",
       "3  41.961507 -87.671387        casual  \n",
       "4  41.884621 -87.627834        member  "
      ]
     },
     "execution_count": 98,
     "metadata": {},
     "output_type": "execute_result"
    }
   ],
=======
   "outputs": [],
>>>>>>> Stashed changes
   "source": [
    "result_sums = []\n",
    "\n",
    "for year in range(2020, 2024):\n",
    "    df = pd.read_csv(f\"data/{year}/Divvy_Trips_{year}_full.csv.gz\", compression=\"gzip\")\n",
    "    df.drop(\n",
    "        columns=[\n",
    "            \"start_station_id\",\n",
    "            \"end_station_id\",\n",
    "            \"start_lat\",\n",
    "            \"start_lng\",\n",
    "            \"end_lat\",\n",
    "            \"end_lng\",\n",
    "        ],\n",
    "        inplace=True,\n",
    "    )\n",
    "    # Колонка с длительностью поездки\n",
    "    df[\"duration\"] = pd.to_datetime(df[\"ended_at\"]) - pd.to_datetime(df[\"started_at\"])\n",
    "    # Переводим в минуты\n",
    "    df[\"duration\"] = round(df[\"duration\"].dt.total_seconds().div(60), 1)\n",
    "    found_df = df[df[\"start_station_name\"].isna()]\n",
    "    lost_df = df[df[\"end_station_name\"].isna()]\n",
    "    # Считаем итоговое количество потерянных велосипедов\n",
    "    lost_bikes = lost_df[\"ride_id\"].count() - found_df[\"ride_id\"].count()\n",
    "    # Для основного подсчета надо убрать поездки с потерянными/найденными велосипедами\n",
    "    df = df[df[\"start_station_name\"].notna() & df[\"end_station_name\"].notna()]\n",
    "    # Разделяем пользователей на категории и считаем превышение тарифа для каждой\n",
    "    casual_df = df[df[\"member_casual\"] == \"casual\"]\n",
    "    member_df = df[df[\"member_casual\"] == \"member\"]\n",
    "    casual_df[\"more_than_30\"] = casual_df[\"duration\"].apply(\n",
    "        lambda x: x - 30 if x > 30 else 0\n",
    "    )\n",
    "    member_df[\"more_than_45\"] = member_df[\"duration\"].apply(\n",
    "        lambda x: x - 45 if x > 45 else 0\n",
    "    )\n",
    "    # Считаем доход по категориям\n",
    "    casual_df[\"cost\"] = casual_df.apply(\n",
    "        lambda x: 1 + x[\"duration\"] * 0.42\n",
    "        if x[\"rideable_type\"] == \"electric_bike\"\n",
    "        else 1 + x[\"more_than_30\"] * 0.17,\n",
    "        axis=1,\n",
    "    )\n",
    "    member_df[\"cost\"] = member_df.apply(\n",
    "        lambda x: x[\"duration\"] * 0.17\n",
    "        if x[\"rideable_type\"] == \"electric_bike\"\n",
    "        else x[\"more_than_45\"] * 0.17,\n",
    "        axis=1,\n",
    "    )\n",
    "    # Добавляем результат в список\n",
    "    result_sums.append(\n",
    "        (year, casual_df[\"cost\"].sum() + member_df[\"cost\"].sum() + 1200 * lost_bikes)\n",
    "    )"
   ]
  },
  {
   "cell_type": "markdown",
   "metadata": {},
   "source": [
    "# Получение модели оплаты 2013-2019\n",
    "В 2013-2019 были другие тарифы:\n",
    ">...Usertype: 'Customer' is a rider who purchased a 24-Hour Pass; 'Subscriber' is a rider who purchased an Annual Membership\n",
    "\n",
    "Исходя из этого и цен на сайте, можно сформировать такой тариф:\n",
    "## Для customer пользователей:\n",
    "- поездки до 3 часов на велосипедах - бесплатно\n",
    "- поездки 3+ часов на велосипедах - 0.17 доллара за минуты выше тарифа\n",
    "- **Вне зависимости от поездок** - 16.50 долларов за разблокировку\n",
    "\n",
    "## Для subscriber пользователей:\n",
    "- поездки до 45 минут на велосипедах - бесплатно\n",
    "- поездки 45+ минут на велосипедах - 0.17 доллара за минуты выше тарифа\n",
    "- **Вне зависимости от поездок** - 130.90 доллара в год\n",
    "\n",
    "**Примечание**: в 2013-2019 не было разделения поездок по типу велосипедов, поэтому предпологаем что все велосипеды были классическими"
   ]
  },
  {
   "cell_type": "code",
<<<<<<< Updated upstream
   "execution_count": 99,
=======
   "execution_count": null,
>>>>>>> Stashed changes
   "metadata": {
    "ExecuteTime": {
     "end_time": "2023-04-20T20:13:34.813041Z",
     "start_time": "2023-04-20T20:12:28.361754Z"
    }
   },
   "outputs": [],
   "source": [
    "for year in range(2013, 2018):\n",
    "    if year == 2013:\n",
    "        # В 2013 другое название файла\n",
    "        df = pd.read_csv(\"data/2013/Divvy_Trips_2013.csv\")\n",
    "    else:\n",
    "        df = pd.read_csv(\n",
    "            f\"data/{year}/Divvy_Trips_{year}_full.csv.gz\", compression=\"gzip\"\n",
    "        )\n",
    "    # Получаем время в минутах\n",
    "    df[\"duration\"] = round(df[\"tripduration\"].div(60), 1)\n",
    "    # Отделяем найденные/потерянные велосипеды\n",
    "    lost_df = df[df[\"to_station_name\"].isna()]\n",
    "    found_df = df[df[\"from_station_name\"].isna()]\n",
    "    lost_bikes = lost_df[\"trip_id\"].count() - found_df[\"trip_id\"].count()\n",
    "    df = df[df[\"from_station_name\"].notna() & df[\"to_station_name\"].notna()]\n",
    "    # Разделяем пользователей на две категории\n",
    "    customer_df = df[df[\"usertype\"] == \"Customer\"]\n",
    "    member_df = df[df[\"usertype\"] == \"Subscriber\"]\n",
    "    # Считаем платные минуты\n",
    "    customer_df[\"more_than_3\"] = customer_df[\"duration\"].apply(\n",
    "        lambda x: x - 180 if x > 180 else 0\n",
    "    )\n",
    "    member_df[\"more_than_45\"] = member_df[\"duration\"].apply(\n",
    "        lambda x: x - 45 if x > 45 else 0\n",
    "    )\n",
    "    customer_df[\"cost\"] = customer_df[\"more_than_3\"] * 0.17\n",
    "    member_df[\"cost\"] = member_df[\"more_than_45\"] * 0.17\n",
    "    # Добавляем результат\n",
    "    result_sums.append(\n",
    "        (year, customer_df[\"cost\"].sum() + member_df[\"cost\"].sum() + 1200 * lost_bikes)\n",
    "    )"
   ]
  },
  {
   "cell_type": "code",
   "execution_count": null,
   "metadata": {
    "ExecuteTime": {
     "end_time": "2023-04-20T20:17:56.560385Z",
     "start_time": "2023-04-20T20:16:49.069040Z"
    }
   },
   "outputs": [],
   "source": [
    "# 2018/2019 с особым форматом, их обрабатываем отдельно\n",
    "df = pd.read_csv(\"data/2018/Divvy_Trips_2018_full.csv.gz\", compression=\"gzip\")\n",
    "# Убираем запятые, чтобы починить перевод в float\n",
    "df[\"01 - Rental Details Duration In Seconds Uncapped\"] = df[\n",
    "    \"01 - Rental Details Duration In Seconds Uncapped\"\n",
    "].replace({\",\": \"\"}, regex=True)\n",
    "df[\"01 - Rental Details Duration In Seconds Uncapped\"] = df[\n",
    "    \"01 - Rental Details Duration In Seconds Uncapped\"\n",
    "].astype(float)\n",
    "# Продолжительность в минутах\n",
    "df[\"duration\"] = round(\n",
    "    df[\"01 - Rental Details Duration In Seconds Uncapped\"].div(60), 1\n",
    ")\n",
    "# Отделяем потерянные/найденные велосипеды\n",
    "lost_df = df[df[\"02 - Rental End Station Name\"].isna()]\n",
    "found_df = df[df[\"03 - Rental Start Station Name\"].isna()]\n",
    "lost_bikes = (\n",
    "    lost_df[\"01 - Rental Details Rental ID\"].count()\n",
    "    - found_df[\"01 - Rental Details Rental ID\"].count()\n",
    ")\n",
    "df = df[\n",
    "    df[\"03 - Rental Start Station Name\"].notna()\n",
    "    & df[\"02 - Rental End Station Name\"].notna()\n",
    "]\n",
    "# Считаем доход по категориям\n",
    "customer_df = df[df[\"User Type\"] == \"Customer\"]\n",
    "member_df = df[df[\"User Type\"] == \"Subscriber\"]\n",
    "customer_df[\"more_than_3\"] = customer_df[\"duration\"].apply(\n",
    "    lambda x: x - 180 if x > 180 else 0\n",
    ")\n",
    "member_df[\"more_than_45\"] = member_df[\"duration\"].apply(\n",
    "    lambda x: x - 45 if x > 45 else 0\n",
    ")\n",
    "customer_df[\"cost\"] = customer_df[\"more_than_3\"] * 0.17\n",
    "member_df[\"cost\"] = member_df[\"more_than_45\"] * 0.17\n",
    "# Добавляем результат в список\n",
    "result_sums.append(\n",
    "    (2018, customer_df[\"cost\"].sum() + member_df[\"cost\"].sum() + 1200 * lost_bikes)\n",
    ")"
   ]
  },
  {
   "cell_type": "code",
   "execution_count": null,
   "metadata": {
    "ExecuteTime": {
     "end_time": "2023-04-20T20:19:24.939116Z",
     "start_time": "2023-04-20T20:18:52.727892Z"
    }
   },
   "outputs": [],
   "source": [
    "df = pd.read_csv(\"data/2019/Divvy_Trips_2019_full.csv.gz\", compression=\"gzip\")\n",
    "# Снова убираем странный формат числа\n",
    "df[\"tripduration\"] = df[\"tripduration\"].replace({\",\": \"\"}, regex=True).astype(float)\n",
    "df[\"duration\"] = round(df[\"tripduration\"].div(60), 1)\n",
    "# Отделяем потерянные/найденные велосипеды\n",
    "lost_df = df[df[\"to_station_name\"].isna()]\n",
    "found_df = df[df[\"from_station_name\"].isna()]\n",
    "lost_bikes = lost_df[\"trip_id\"].count() - found_df[\"trip_id\"].count()\n",
    "df = df[df[\"from_station_name\"].notna() & df[\"to_station_name\"].notna()]\n",
    "# Считаем доход по категориям\n",
    "customer_df = df[df[\"usertype\"] == \"Customer\"]\n",
    "member_df = df[df[\"usertype\"] == \"Subscriber\"]\n",
    "customer_df[\"more_than_3\"] = customer_df[\"duration\"].apply(\n",
    "    lambda x: x - 180 if x > 180 else 0\n",
    ")\n",
    "member_df[\"more_than_45\"] = member_df[\"duration\"].apply(\n",
    "    lambda x: x - 45 if x > 45 else 0\n",
    ")\n",
    "customer_df[\"cost\"] = customer_df[\"more_than_3\"] * 0.17\n",
    "member_df[\"cost\"] = member_df[\"more_than_45\"] * 0.17\n",
    "# Добавляем результат в список\n",
    "result_sums.append(\n",
    "    (2019, customer_df[\"cost\"].sum() + member_df[\"cost\"].sum() + 1200 * lost_bikes)\n",
    ")"
   ]
  },
  {
   "cell_type": "markdown",
   "metadata": {},
   "source": [
    "## Посчитаем доход от подписок"
   ]
  },
  {
   "cell_type": "code",
<<<<<<< Updated upstream
   "execution_count": 100,
   "metadata": {},
=======
   "execution_count": 6,
   "metadata": {
    "ExecuteTime": {
     "end_time": "2023-04-20T20:20:05.884991Z",
     "start_time": "2023-04-20T20:19:32.569422Z"
    }
   },
>>>>>>> Stashed changes
   "outputs": [],
   "source": [
    "df = pd.read_csv(\"data/2022/Divvy_Trips_2022_full.csv.gz\", compression=\"gzip\")\n",
    "\n",
    "grouped_by_bike_2022 = df[[\"start_station_name\", \"started_at\", \"member_casual\"]]\n",
<<<<<<< Updated upstream
    "grouped_by_bike_2022 = grouped_by_bike_2022.rename(columns = {\"start_station_name\": \"count\", \"started_at\" : \"start_time\"})"
   ]
  },
  {
   "cell_type": "code",
   "execution_count": 101,
   "metadata": {},
   "outputs": [],
   "source": [
    "df_2 = pd.read_csv(\"data/Divvy_Trips_2021_full.csv.gz\", compression=\"gzip\")\n",
    "\n",
    "grouped_by_bike_2021 = df_2[[\"start_station_name\", \"started_at\", \"member_casual\"]]\n",
    "grouped_by_bike_2021 = grouped_by_bike_2021.rename(columns = {\"start_station_name\": \"count\", \"started_at\" : \"start_time\"})"
   ]
  },
  {
   "cell_type": "code",
   "execution_count": 102,
   "metadata": {},
   "outputs": [],
   "source": [
    "df_2 = pd.read_csv(\"data/Divvy_Trips_2020_full.csv.gz\", compression=\"gzip\")\n",
    "\n",
    "grouped_by_bike_2020 = df_2[[\"start_station_name\", \"started_at\", \"member_casual\"]]\n",
    "grouped_by_bike_2020 = grouped_by_bike_2020.rename(columns = {\"start_station_name\": \"count\", \"started_at\" : \"start_time\"})"
   ]
  },
  {
   "cell_type": "code",
   "execution_count": 103,
   "metadata": {},
   "outputs": [],
   "source": [
    "df_2 = pd.read_csv(\"data/2019/Divvy_Trips_2019_full.csv.gz\", compression=\"gzip\")\n",
    "\n",
    "grouped_by_bike_2019 = df_2[[\"from_station_name\", \"start_time\", \"usertype\"]]\n",
    "grouped_by_bike_2019 = grouped_by_bike_2019.rename(columns = {\"from_station_name\": \"count\", \"usertype\": \"member_casual\"})"
   ]
  },
  {
   "cell_type": "code",
   "execution_count": 104,
   "metadata": {},
   "outputs": [],
   "source": [
    "df_2 = pd.read_csv(\"data/2018/Divvy_Trips_2018_full.csv.gz\", compression=\"gzip\")\n",
    "\n",
    "grouped_by_bike_2018 = df_2[[\"03 - Rental Start Station Name\", \"01 - Rental Details Local Start Time\", \"User Type\"]]\n",
    "grouped_by_bike_2018 = grouped_by_bike_2018.rename(columns = {\"03 - Rental Start Station Name\": \"count\",\n",
    "                                      \"01 - Rental Details Local Start Time\": \"start_time\", \n",
    "                                      \"User Type\": \"member_casual\"})"
   ]
  },
  {
   "cell_type": "code",
   "execution_count": 105,
   "metadata": {},
   "outputs": [],
   "source": [
    "df_2 = pd.read_csv(\"data/2017/Divvy_Trips_2017_full.csv.gz\", compression=\"gzip\")\n",
    "\n",
    "grouped_by_bike_2017 = df_2[[\"from_station_name\", \"start_time\", \"usertype\"]]\n",
    "grouped_by_bike_2017 = grouped_by_bike_2017.rename(columns = {\"from_station_name\": \"count\", \"usertype\": \"member_casual\"})"
   ]
  },
  {
   "cell_type": "code",
   "execution_count": 106,
   "metadata": {},
   "outputs": [],
   "source": [
    "df_2 = pd.read_csv(\"data/2016/Divvy_Trips_2016_full.csv.gz\", compression=\"gzip\")\n",
    "\n",
    "grouped_by_bike_2016 = df_2[[\"from_station_name\", \"starttime\", \"usertype\"]]\n",
    "grouped_by_bike_2016 = grouped_by_bike_2016.rename(columns = {\"from_station_name\": \"count\",\"starttime\": \"start_time\", \"usertype\": \"member_casual\"})"
   ]
  },
  {
   "cell_type": "code",
   "execution_count": 107,
   "metadata": {},
   "outputs": [],
   "source": [
    "df_2 = pd.read_csv(\"data/2015/Divvy_Trips_2015_full.csv.gz\", compression=\"gzip\")\n",
    "\n",
    "grouped_by_bike_2015 = df_2[[\"from_station_name\", \"starttime\", \"usertype\"]]\n",
    "grouped_by_bike_2015 = grouped_by_bike_2015.rename(columns = {\"from_station_name\": \"count\",\"starttime\": \"start_time\", \"usertype\": \"member_casual\"})"
   ]
  },
  {
   "cell_type": "code",
   "execution_count": 108,
   "metadata": {},
   "outputs": [],
   "source": [
    "df_2 = pd.read_csv(\"data/2014/Divvy_Trips_2014_full.csv.gz\", compression=\"gzip\")\n",
    "\n",
    "grouped_by_bike_2014 = df_2[[\"from_station_name\", \"starttime\", \"usertype\"]]\n",
    "grouped_by_bike_2014 = grouped_by_bike_2014.rename(columns = {\"from_station_name\": \"count\",\"starttime\": \"start_time\", \"usertype\": \"member_casual\"})"
   ]
  },
  {
   "cell_type": "code",
   "execution_count": 109,
   "metadata": {},
   "outputs": [],
   "source": [
    "df_2 = pd.read_csv(\"data/2013/Divvy_Trips_2013.csv\")\n",
=======
    "grouped_by_bike_2022 = grouped_by_bike_2022.rename(\n",
    "    columns={\"start_station_name\": \"count\", \"started_at\": \"start_time\"}\n",
    ")\n",
    "\n",
    "\n",
    "df = pd.read_csv(\"data/2021/Divvy_Trips_2021_full.csv.gz\", compression=\"gzip\")\n",
    "\n",
    "grouped_by_bike_2021 = df[[\"start_station_name\", \"started_at\", \"member_casual\"]]\n",
    "grouped_by_bike_2021 = grouped_by_bike_2021.rename(\n",
    "    columns={\"start_station_name\": \"count\", \"started_at\": \"start_time\"}\n",
    ")\n",
    "\n",
    "\n",
    "df = pd.read_csv(\"data/2020/Divvy_Trips_2020_full.csv.gz\", compression=\"gzip\")\n",
    "\n",
    "grouped_by_bike_2020 = df[[\"start_station_name\", \"started_at\", \"member_casual\"]]\n",
    "grouped_by_bike_2020 = grouped_by_bike_2020.rename(\n",
    "    columns={\"start_station_name\": \"count\", \"started_at\": \"start_time\"}\n",
    ")\n",
    "\n",
    "\n",
    "df = pd.read_csv(\"data/2019/Divvy_Trips_2019_full.csv.gz\", compression=\"gzip\")\n",
>>>>>>> Stashed changes
    "\n",
    "grouped_by_bike_2019 = df[[\"from_station_name\", \"start_time\", \"usertype\"]]\n",
    "grouped_by_bike_2019 = grouped_by_bike_2019.rename(\n",
    "    columns={\"from_station_name\": \"count\", \"usertype\": \"member_casual\"}\n",
    ")\n",
    "\n",
    "\n",
    "df = pd.read_csv(\"data/2018/Divvy_Trips_2018_full.csv.gz\", compression=\"gzip\")\n",
    "\n",
    "grouped_by_bike_2018 = df[\n",
    "    [\n",
    "        \"03 - Rental Start Station Name\",\n",
    "        \"01 - Rental Details Local Start Time\",\n",
    "        \"User Type\",\n",
    "    ]\n",
    "]\n",
    "grouped_by_bike_2018 = grouped_by_bike_2018.rename(\n",
    "    columns={\n",
    "        \"03 - Rental Start Station Name\": \"count\",\n",
    "        \"01 - Rental Details Local Start Time\": \"start_time\",\n",
    "        \"User Type\": \"member_casual\",\n",
    "    }\n",
    ")\n",
    "\n",
    "\n",
    "df = pd.read_csv(\"data/2017/Divvy_Trips_2017_full.csv.gz\", compression=\"gzip\")\n",
    "\n",
    "grouped_by_bike_2017 = df[[\"from_station_name\", \"start_time\", \"usertype\"]]\n",
    "grouped_by_bike_2017 = grouped_by_bike_2017.rename(\n",
    "    columns={\"from_station_name\": \"count\", \"usertype\": \"member_casual\"}\n",
    ")\n",
    "\n",
    "\n",
    "df = pd.read_csv(\"data/2016/Divvy_Trips_2016_full.csv.gz\", compression=\"gzip\")\n",
    "\n",
    "grouped_by_bike_2016 = df[[\"from_station_name\", \"starttime\", \"usertype\"]]\n",
    "grouped_by_bike_2016 = grouped_by_bike_2016.rename(\n",
    "    columns={\n",
    "        \"from_station_name\": \"count\",\n",
    "        \"starttime\": \"start_time\",\n",
    "        \"usertype\": \"member_casual\",\n",
    "    }\n",
    ")\n",
    "\n",
    "\n",
    "df = pd.read_csv(\"data/2015/Divvy_Trips_2015_full.csv.gz\", compression=\"gzip\")\n",
    "\n",
    "grouped_by_bike_2015 = df[[\"from_station_name\", \"starttime\", \"usertype\"]]\n",
    "grouped_by_bike_2015 = grouped_by_bike_2015.rename(\n",
    "    columns={\n",
    "        \"from_station_name\": \"count\",\n",
    "        \"starttime\": \"start_time\",\n",
    "        \"usertype\": \"member_casual\",\n",
    "    }\n",
    ")\n",
    "\n",
    "\n",
    "df = pd.read_csv(\"data/2014/Divvy_Trips_2014_full.csv.gz\", compression=\"gzip\")\n",
    "\n",
    "grouped_by_bike_2014 = df[[\"from_station_name\", \"starttime\", \"usertype\"]]\n",
    "grouped_by_bike_2014 = grouped_by_bike_2014.rename(\n",
    "    columns={\n",
    "        \"from_station_name\": \"count\",\n",
    "        \"starttime\": \"start_time\",\n",
    "        \"usertype\": \"member_casual\",\n",
    "    }\n",
    ")\n",
    "\n",
    "df = pd.read_csv(\"data/2013/Divvy_Trips_2013.csv\")\n",
    "\n",
    "grouped_by_bike_2013 = df[[\"from_station_name\", \"starttime\", \"usertype\"]]\n",
    "grouped_by_bike_2013 = grouped_by_bike_2013.rename(\n",
    "    columns={\n",
    "        \"from_station_name\": \"count\",\n",
    "        \"starttime\": \"start_time\",\n",
    "        \"usertype\": \"member_casual\",\n",
    "    }\n",
    ")"
   ]
  },
  {
   "cell_type": "markdown",
   "metadata": {},
   "source": [
    "## Считаем прибыль от подписок"
   ]
  },
  {
   "cell_type": "code",
<<<<<<< Updated upstream
   "execution_count": 143,
   "metadata": {},
=======
   "execution_count": 54,
   "metadata": {
    "ExecuteTime": {
     "end_time": "2023-04-20T20:37:06.446860Z",
     "start_time": "2023-04-20T20:26:52.282579Z"
    },
    "scrolled": true
   },
>>>>>>> Stashed changes
   "outputs": [
    {
     "ename": "TypeError",
     "evalue": "string indices must be integers",
     "output_type": "error",
     "traceback": [
      "\u001B[1;31m---------------------------------------------------------------------------\u001B[0m",
      "\u001B[1;31mTypeError\u001B[0m                                 Traceback (most recent call last)",
      "Cell \u001B[1;32mIn[54], line 29\u001B[0m\n\u001B[0;32m     27\u001B[0m \u001B[38;5;66;03m# Если формат даты смешанный, то отдельно обрабатываем\u001B[39;00m\n\u001B[0;32m     28\u001B[0m \u001B[38;5;28;01mtry\u001B[39;00m:\n\u001B[1;32m---> 29\u001B[0m     station[\u001B[38;5;124m\"\u001B[39m\u001B[38;5;124mstart_time\u001B[39m\u001B[38;5;124m\"\u001B[39m] \u001B[38;5;241m=\u001B[39m pd\u001B[38;5;241m.\u001B[39mto_datetime(\u001B[43mstation\u001B[49m\u001B[43m[\u001B[49m\u001B[38;5;124;43m\"\u001B[39;49m\u001B[38;5;124;43mstart_time\u001B[39;49m\u001B[38;5;124;43m\"\u001B[39;49m\u001B[43m]\u001B[49m)\u001B[38;5;241m.\u001B[39mdt\u001B[38;5;241m.\u001B[39mdate\n\u001B[0;32m     30\u001B[0m \u001B[38;5;28;01mexcept\u001B[39;00m \u001B[38;5;167;01mValueError\u001B[39;00m:\n\u001B[0;32m     31\u001B[0m     station[\u001B[38;5;124m\"\u001B[39m\u001B[38;5;124mstart_time\u001B[39m\u001B[38;5;124m\"\u001B[39m] \u001B[38;5;241m=\u001B[39m station[\u001B[38;5;124m\"\u001B[39m\u001B[38;5;124mstart_time\u001B[39m\u001B[38;5;124m\"\u001B[39m]\u001B[38;5;241m.\u001B[39mapply(\u001B[38;5;28;01mlambda\u001B[39;00m x: parse(x))\u001B[38;5;241m.\u001B[39mdt\u001B[38;5;241m.\u001B[39mdate\n",
      "\u001B[1;31mTypeError\u001B[0m: string indices must be integers"
     ]
    }
   ],
   "source": [
    "cost = 0\n",
    "results = []\n",
    "'''for year in range(2013, 2023):\n",
    "    if year == 2013:\n",
    "        station = grouped_by_bike_2013\n",
    "    elif year == 2014:\n",
    "        station = grouped_by_bike_2014\n",
    "    elif year == 2015:\n",
    "        station = grouped_by_bike_2015\n",
    "    elif year == 2016:\n",
    "        station = grouped_by_bike_2016\n",
    "    elif year == 2017:\n",
    "        station = grouped_by_bike_2017\n",
    "    elif year == 2018:\n",
    "        station = grouped_by_bike_2018\n",
    "    elif year == 2019:\n",
    "        station = grouped_by_bike_2019[(grouped_by_bike_2019[\"start_time\"] >= \"2019-01-01\") & (grouped_by_bike_2019[\"start_time\"] < \"2020-01-01\")]\n",
    "    elif year == 2020:\n",
    "        station = grouped_by_bike_2020\n",
    "    elif year == 2021:\n",
    "        station = grouped_by_bike_2021\n",
    "    elif year == 2022:\n",
    "        station = grouped_by_bike_2022\n",
    "'''\n",
    "for year \n",
    "    # Если формат даты смешанный, то отдельно обрабатываем\n",
    "    try:\n",
    "        station[\"start_time\"] = pd.to_datetime(station[\"start_time\"]).dt.date\n",
    "    except ValueError:\n",
    "        station[\"start_time\"] = station[\"start_time\"].apply(lambda x: parse(x)).dt.date\n",
    "\n",
<<<<<<< Updated upstream
    "for year in range(2013, 2023):\n",
    "    if year == 2013: station = grouped_by_bike_2013\n",
    "    if year == 2014: station = grouped_by_bike_2014\n",
    "    if year == 2015: station = grouped_by_bike_2015\n",
    "    if year == 2016: station = grouped_by_bike_2016\n",
    "    if year == 2017: station = grouped_by_bike_2017\n",
    "    if year == 2018: station = grouped_by_bike_2018\n",
    "    if year == 2019: \n",
    "        station = grouped_by_bike_2019\n",
    "        station = station[((station['start_time'] >= f\"{2019}-01-01\") & (station['start_time'] < f\"{2019 + 1}-01-01\"))]  \n",
    "    if year == 2020: station = grouped_by_bike_2020\n",
    "    if year == 2021: station = grouped_by_bike_2021\n",
    "    if year == 2022: station = grouped_by_bike_2022\n",
    "    \n",
    "    station[\"start_time\"] = station[\"start_time\"].astype('datetime64[D]')\n",
    "    \n",
=======
>>>>>>> Stashed changes
    "    day = station.groupby([\"start_time\"]).count()\n",
    "    day.rename(columns={\"station_name\": \"count\"}, inplace=True)\n",
    "\n",
    "    sorted_day = day.sort_values(by=\"count\", ascending=False)\n",
    "    sorted_day.drop(\"member_casual\", axis=1, inplace=True)\n",
    "    sorted_day.reset_index([\"start_time\"], inplace=True)\n",
    "\n",
    "    max_day = sorted_day[\"start_time\"].iloc[0]\n",
    "\n",
    "    ride = station[\n",
    "        (station[\"start_time\"] >= max_day)\n",
    "        & (station[\"start_time\"] < max_day + datetime.timedelta(days=1))\n",
    "    ]\n",
    "    ride = ride.groupby([\"start_time\", \"member_casual\"]).count()\n",
    "    ride = ride.reset_index([\"start_time\", \"member_casual\"])\n",
    "    ride.rename(columns={\"station_name\": \"count\"}, inplace=True)\n",
    "\n",
    "    # Подсчет кол-ва подписчиков за 2020 - 2023\n",
    "    if 2020 <= year <= 2022:\n",
    "        member = int(ride[ride[\"member_casual\"] == \"member\"][\"count\"])\n",
    "        casual = int(ride[ride[\"member_casual\"] == \"casual\"][\"count\"])\n",
    "\n",
    "        people = member // 2 + casual\n",
    "\n",
    "        member = int(people * 0.74)\n",
    "        casual = 0\n",
    "\n",
    "    # Подсчет кол-ва подписчиков за 2013 - 2019\n",
    "    if 2013 <= year <= 2019:\n",
    "        member = int(ride[ride[\"member_casual\"] == \"Subscriber\"][\"count\"])\n",
    "        casual = int(ride[ride[\"member_casual\"] == \"Customer\"][\"count\"])\n",
    "\n",
    "        people = member // 2 + casual\n",
    "\n",
    "        member = int(people * 0.74)\n",
    "        casual = int(people * 0.26)\n",
    "\n",
    "    results.append((year, int(member * 130.9 + casual * 16.5)))"
   ]
  },
  {
   "cell_type": "code",
<<<<<<< Updated upstream
   "execution_count": null,
   "metadata": {},
   "outputs": [],
   "source": [
    "cost"
   ]
  },
  {
   "cell_type": "code",
   "execution_count": 142,
   "metadata": {},
=======
   "execution_count": 26,
   "metadata": {
    "ExecuteTime": {
     "end_time": "2023-04-20T20:40:57.683316Z",
     "start_time": "2023-04-20T20:40:57.564017Z"
    }
   },
>>>>>>> Stashed changes
   "outputs": [
    {
     "data": {
      "text/html": [
       "<div>\n",
       "<style scoped>\n",
       "    .dataframe tbody tr th:only-of-type {\n",
       "        vertical-align: middle;\n",
       "    }\n",
       "\n",
       "    .dataframe tbody tr th {\n",
       "        vertical-align: top;\n",
       "    }\n",
       "\n",
       "    .dataframe thead th {\n",
       "        text-align: right;\n",
       "    }\n",
       "</style>\n",
       "<table border=\"1\" class=\"dataframe\">\n",
       "  <thead>\n",
       "    <tr style=\"text-align: right;\">\n",
       "      <th></th>\n",
       "      <th>count</th>\n",
       "      <th>start_time</th>\n",
       "      <th>member_casual</th>\n",
       "    </tr>\n",
       "  </thead>\n",
       "  <tbody>\n",
       "    <tr>\n",
       "      <th>0</th>\n",
       "      <td>Wabash Ave &amp; Grand Ave</td>\n",
       "      <td>2019-01-01 00:04:37</td>\n",
       "      <td>Subscriber</td>\n",
       "    </tr>\n",
       "    <tr>\n",
       "      <th>1</th>\n",
       "      <td>State St &amp; Randolph St</td>\n",
       "      <td>2019-01-01 00:08:13</td>\n",
       "      <td>Subscriber</td>\n",
       "    </tr>\n",
       "    <tr>\n",
       "      <th>2</th>\n",
       "      <td>Racine Ave &amp; 18th St</td>\n",
       "      <td>2019-01-01 00:13:23</td>\n",
       "      <td>Subscriber</td>\n",
       "    </tr>\n",
       "    <tr>\n",
       "      <th>3</th>\n",
       "      <td>California Ave &amp; Milwaukee Ave</td>\n",
       "      <td>2019-01-01 00:13:45</td>\n",
       "      <td>Subscriber</td>\n",
       "    </tr>\n",
       "    <tr>\n",
       "      <th>4</th>\n",
       "      <td>Mies van der Rohe Way &amp; Chicago Ave</td>\n",
       "      <td>2019-01-01 00:14:52</td>\n",
       "      <td>Subscriber</td>\n",
       "    </tr>\n",
       "    <tr>\n",
       "      <th>...</th>\n",
       "      <td>...</td>\n",
       "      <td>...</td>\n",
       "      <td>...</td>\n",
       "    </tr>\n",
       "    <tr>\n",
       "      <th>4194078</th>\n",
       "      <td>Wells St &amp; Concord Ln</td>\n",
       "      <td>10/1/2017 0:01</td>\n",
       "      <td>Subscriber</td>\n",
       "    </tr>\n",
       "    <tr>\n",
       "      <th>4194079</th>\n",
       "      <td>Michigan Ave &amp; Congress Pkwy</td>\n",
       "      <td>10/1/2017 0:00</td>\n",
       "      <td>Customer</td>\n",
       "    </tr>\n",
       "    <tr>\n",
       "      <th>4194080</th>\n",
       "      <td>Greenview Ave &amp; Jarvis Ave</td>\n",
       "      <td>10/1/2017 0:00</td>\n",
       "      <td>Customer</td>\n",
       "    </tr>\n",
       "    <tr>\n",
       "      <th>4194081</th>\n",
       "      <td>Larrabee St &amp; Armitage Ave</td>\n",
       "      <td>10/1/2017 0:00</td>\n",
       "      <td>Subscriber</td>\n",
       "    </tr>\n",
       "    <tr>\n",
       "      <th>4194082</th>\n",
       "      <td>Halsted St &amp; 21st St</td>\n",
       "      <td>10/1/2017 0:00</td>\n",
       "      <td>Subscriber</td>\n",
       "    </tr>\n",
       "  </tbody>\n",
       "</table>\n",
       "<p>4194083 rows × 3 columns</p>\n",
       "</div>"
      ],
      "text/plain": [
<<<<<<< Updated upstream
       "                                       count           start_time  \\\n",
       "0                     Wabash Ave & Grand Ave  2019-01-01 00:04:37   \n",
       "1                     State St & Randolph St  2019-01-01 00:08:13   \n",
       "2                       Racine Ave & 18th St  2019-01-01 00:13:23   \n",
       "3             California Ave & Milwaukee Ave  2019-01-01 00:13:45   \n",
       "4        Mies van der Rohe Way & Chicago Ave  2019-01-01 00:14:52   \n",
       "...                                      ...                  ...   \n",
       "4194078                Wells St & Concord Ln       10/1/2017 0:01   \n",
       "4194079         Michigan Ave & Congress Pkwy       10/1/2017 0:00   \n",
       "4194080           Greenview Ave & Jarvis Ave       10/1/2017 0:00   \n",
       "4194081           Larrabee St & Armitage Ave       10/1/2017 0:00   \n",
       "4194082                 Halsted St & 21st St       10/1/2017 0:00   \n",
       "\n",
       "        member_casual  \n",
       "0          Subscriber  \n",
       "1          Subscriber  \n",
       "2          Subscriber  \n",
       "3          Subscriber  \n",
       "4          Subscriber  \n",
       "...               ...  \n",
       "4194078    Subscriber  \n",
       "4194079      Customer  \n",
       "4194080      Customer  \n",
       "4194081    Subscriber  \n",
       "4194082    Subscriber  \n",
       "\n",
       "[4194083 rows x 3 columns]"
      ]
     },
     "execution_count": 142,
=======
       "[(2013, 920241),\n",
       " (2014, 1442962),\n",
       " (2015, 2178815),\n",
       " (2016, 1986078),\n",
       " (2017, 2041697),\n",
       " (2018, 500165),\n",
       " (2019, 529841),\n",
       " (2020, 2172285),\n",
       " (2021, 2680439),\n",
       " (2022, 2406334)]"
      ]
     },
     "execution_count": 26,
>>>>>>> Stashed changes
     "metadata": {},
     "output_type": "execute_result"
    }
   ],
   "source": [
<<<<<<< Updated upstream
    "station = grouped_by_bike_2019\n",
    "station = station[((station['start_time'] >= f\"{2014}-01-01\") & (station['start_time'] < f\"{2014 + 1}-01-01\"))]  \n",
    "grouped_by_bike_2019"
   ]
  },
  {
   "cell_type": "code",
   "execution_count": 139,
   "metadata": {},
   "outputs": [
    {
     "data": {
      "text/html": [
       "<div>\n",
       "<style scoped>\n",
       "    .dataframe tbody tr th:only-of-type {\n",
       "        vertical-align: middle;\n",
       "    }\n",
       "\n",
       "    .dataframe tbody tr th {\n",
       "        vertical-align: top;\n",
       "    }\n",
       "\n",
       "    .dataframe thead th {\n",
       "        text-align: right;\n",
       "    }\n",
       "</style>\n",
       "<table border=\"1\" class=\"dataframe\">\n",
       "  <thead>\n",
       "    <tr style=\"text-align: right;\">\n",
       "      <th></th>\n",
       "      <th>start_time</th>\n",
       "      <th>count</th>\n",
       "    </tr>\n",
       "  </thead>\n",
       "  <tbody>\n",
       "  </tbody>\n",
       "</table>\n",
       "</div>"
      ],
      "text/plain": [
       "Empty DataFrame\n",
       "Columns: [start_time, count]\n",
       "Index: []"
      ]
     },
     "execution_count": 139,
     "metadata": {},
     "output_type": "execute_result"
    }
   ],
   "source": [
    "station[\"start_time\"] = station[\"start_time\"].astype('datetime64[D]')\n",
    "\n",
    "day = station.groupby([\"start_time\"]).count()\n",
    "day.rename(columns={\"station_name\":\"count\"}, inplace = True)\n",
    "\n",
    "sorted_day = day.sort_values(by='count', ascending = False)\n",
    "sorted_day.drop('member_casual', axis = 1, inplace = True)\n",
    "sorted_day.reset_index([\"start_time\"], inplace = True)\n",
    "sorted_day\n",
    "\n",
    "# max_day = sorted_day[\"start_time\"].iloc[0]"
=======
    "# Доходы от подписки\n",
    "results"
>>>>>>> Stashed changes
   ]
  },
  {
   "cell_type": "code",
   "execution_count": 28,
   "metadata": {
    "ExecuteTime": {
     "end_time": "2023-04-20T20:42:43.219932Z",
     "start_time": "2023-04-20T20:42:43.194931Z"
    }
   },
   "outputs": [],
   "source": [
    "result_sums = sorted(result_sums, key=lambda x: x[0])"
   ]
  },
  {
   "cell_type": "code",
   "execution_count": 29,
   "metadata": {
    "ExecuteTime": {
     "end_time": "2023-04-20T20:42:51.566456Z",
     "start_time": "2023-04-20T20:42:51.547459Z"
    }
   },
   "outputs": [
    {
     "data": {
      "text/plain": [
       "[(2013, 227405.39600000004),\n",
       " (2014, 367348.46100000007),\n",
       " (2015, 535040.0480000002),\n",
       " (2016, 530124.8550000003),\n",
       " (2017, 398109.94400000025),\n",
       " (2018, 376044.794),\n",
       " (2019, 658154.3880000005),\n",
       " (2020, 28189989.562),\n",
       " (2021, 70108683.105),\n",
       " (2022, 82165275.882),\n",
       " (2023, 6582605.744)]"
      ]
     },
     "execution_count": 29,
     "metadata": {},
     "output_type": "execute_result"
    }
   ],
   "source": [
    "# Доходы от поездок сверх тарифа\n",
    "result_sums"
   ]
  },
  {
   "cell_type": "code",
   "execution_count": 38,
   "metadata": {
    "ExecuteTime": {
     "end_time": "2023-04-20T20:52:59.396814Z",
     "start_time": "2023-04-20T20:52:59.387813Z"
    }
   },
   "outputs": [],
   "source": [
    "# Объединяем результаты\n",
    "final_sums = {}\n",
    "\n",
    "for year, income in result_sums + results:\n",
    "    if year in final_sums:\n",
    "        final_sums[year] += income\n",
    "    else:\n",
    "        final_sums[year] = income"
   ]
  },
  {
   "cell_type": "code",
   "execution_count": 39,
   "metadata": {
    "ExecuteTime": {
     "end_time": "2023-04-20T20:53:00.817540Z",
     "start_time": "2023-04-20T20:53:00.793979Z"
    }
   },
   "outputs": [
    {
     "data": {
      "text/plain": [
       "{2013: 1147646.396,\n",
       " 2014: 1810310.4610000001,\n",
       " 2015: 2713855.0480000004,\n",
       " 2016: 2516202.8550000004,\n",
       " 2017: 2439806.944,\n",
       " 2018: 876209.794,\n",
       " 2019: 1187995.3880000005,\n",
       " 2020: 30362274.562,\n",
       " 2021: 72789122.105,\n",
       " 2022: 84571609.882,\n",
       " 2023: 6582605.744}"
      ]
     },
     "execution_count": 39,
     "metadata": {},
     "output_type": "execute_result"
    }
   ],
   "source": [
    "final_sums"
   ]
  },
  {
   "cell_type": "code",
   "execution_count": 41,
   "metadata": {
    "ExecuteTime": {
     "end_time": "2023-04-20T20:53:39.696867Z",
     "start_time": "2023-04-20T20:53:39.678869Z"
    }
   },
   "outputs": [],
   "source": [
    "years = [x[0] for x in final_sums.items()]\n",
    "income = [x[1] / 1000 for x in final_sums.items()]\n",
    "years_with_first_formula = years[:5]\n",
    "income_with_first_formula = income[:5]\n",
    "years_with_second_formula = years[5:]\n",
    "income_with_second_formula = income[5:]"
   ]
  },
  {
   "cell_type": "code",
   "execution_count": 53,
   "metadata": {
    "ExecuteTime": {
     "end_time": "2023-04-20T20:59:05.956730Z",
     "start_time": "2023-04-20T20:59:04.962229Z"
    }
   },
   "outputs": [
    {
     "data": {
      "image/png": "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",
      "text/plain": [
       "<Figure size 1000x900 with 4 Axes>"
      ]
     },
     "metadata": {},
     "output_type": "display_data"
    }
   ],
   "source": [
    "fig, axs = plt.subplots(4, 1, figsize=(10, 9))\n",
    "axs[0].plot(years, income)\n",
    "axs[0].set_title(\"Доход от аренды велосипедов в тысячах долларов за все время\")\n",
    "axs[0].set_xlabel(\"Год\")\n",
    "axs[0].set_ylabel(\"Доход, тысячи долларов\")\n",
    "axs[0].axvline(x=2021, color=\"r\", linestyle=\"--\")\n",
    "axs[0].text(2021.1, 370, \"Введение нового тарифа\", fontsize=9)\n",
    "axs[0].set_xticks(years)\n",
    "\n",
    "axs[1].plot(years_with_first_formula, income_with_first_formula)\n",
    "axs[1].set_title(\n",
    "    \"Доход от аренды велосипедов в тысячах долларов за года до нового тарифа\"\n",
    ")\n",
    "axs[1].set_xlabel(\"Год\")\n",
    "axs[1].set_ylabel(\"Доход, тысячи долларов\")\n",
    "axs[1].set_xticks(years_with_first_formula)\n",
    "\n",
    "axs[2].plot(years_with_second_formula, income_with_second_formula)\n",
    "axs[2].set_title(\n",
    "    \"Доход от аренды велосипедов в тысячах долларов за года после нового тарифа\"\n",
    ")\n",
    "axs[2].set_xlabel(\"Год\")\n",
    "axs[2].set_ylabel(\"Доход, тысячи долларов\")\n",
    "axs[2].set_xticks(years_with_second_formula)\n",
    "axs[2].axvline(x=2021, color=\"r\", linestyle=\"--\")\n",
    "axs[2].text(2021.1, 370, \"Введение нового тарифа\", fontsize=9)\n",
    "\n",
    "\n",
    "axs[3].plot(years[:-1], income[:-1])\n",
    "axs[3].set_title(\"Доход от аренды велосипедов в тысячах долларов за все время\")\n",
    "axs[3].set_xlabel(\"Год\")\n",
    "axs[3].set_ylabel(\"Доход, тысячи долларов\")\n",
    "axs[3].axvline(x=2021, color=\"r\", linestyle=\"--\")\n",
    "axs[3].text(2021.1, 370, \"Введение нового тарифа\", fontsize=6)\n",
    "axs[3].set_xticks(years[:-1])\n",
    "plt.tight_layout()"
   ]
  }
 ],
 "metadata": {
  "kernelspec": {
   "display_name": "Python 3 (ipykernel)",
   "language": "python",
   "name": "python3"
  },
  "language_info": {
   "codemirror_mode": {
    "name": "ipython",
    "version": 3
   },
   "file_extension": ".py",
   "mimetype": "text/x-python",
   "name": "python",
   "nbconvert_exporter": "python",
   "pygments_lexer": "ipython3",
   "version": "3.10.7"
  },
  "toc": {
   "base_numbering": 1,
   "nav_menu": {},
   "number_sections": true,
   "sideBar": true,
   "skip_h1_title": false,
   "title_cell": "Table of Contents",
   "title_sidebar": "Contents",
   "toc_cell": false,
   "toc_position": {},
   "toc_section_display": true,
   "toc_window_display": false
  }
 },
 "nbformat": 4,
 "nbformat_minor": 1
}
