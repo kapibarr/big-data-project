{
 "cells": [
  {
   "cell_type": "code",
   "execution_count": 96,
   "metadata": {
    "ExecuteTime": {
     "end_time": "2023-04-11T01:13:09.316709Z",
     "start_time": "2023-04-11T01:13:06.815521Z"
    }
   },
   "outputs": [],
   "source": [
    "from math import floor\n",
    "import pandas as pd\n",
    "import datetime\n",
    "import numpy as np\n",
    "import matplotlib.pyplot as plt\n",
    "\n",
    "import warnings\n",
    "warnings.filterwarnings('ignore')"
   ]
  },
  {
   "cell_type": "code",
   "execution_count": 97,
   "metadata": {
    "ExecuteTime": {
     "end_time": "2023-04-11T01:13:15.567072Z",
     "start_time": "2023-04-11T01:13:09.326603Z"
    }
   },
   "outputs": [],
   "source": [
    "df = pd.read_csv(\"data/Divvy_Trips_2022_full.csv.gz\", compression=\"gzip\")"
   ]
  },
  {
   "cell_type": "markdown",
   "metadata": {},
   "source": [
    "# Общая информация о датасете"
   ]
  },
  {
   "cell_type": "code",
   "execution_count": 98,
   "metadata": {
    "ExecuteTime": {
     "end_time": "2023-04-11T01:13:15.679974Z",
     "start_time": "2023-04-11T01:13:15.583076Z"
    }
   },
   "outputs": [
    {
     "data": {
      "text/html": [
       "<div>\n",
       "<style scoped>\n",
       "    .dataframe tbody tr th:only-of-type {\n",
       "        vertical-align: middle;\n",
       "    }\n",
       "\n",
       "    .dataframe tbody tr th {\n",
       "        vertical-align: top;\n",
       "    }\n",
       "\n",
       "    .dataframe thead th {\n",
       "        text-align: right;\n",
       "    }\n",
       "</style>\n",
       "<table border=\"1\" class=\"dataframe\">\n",
       "  <thead>\n",
       "    <tr style=\"text-align: right;\">\n",
       "      <th></th>\n",
       "      <th>ride_id</th>\n",
       "      <th>rideable_type</th>\n",
       "      <th>started_at</th>\n",
       "      <th>ended_at</th>\n",
       "      <th>start_station_name</th>\n",
       "      <th>start_station_id</th>\n",
       "      <th>end_station_name</th>\n",
       "      <th>end_station_id</th>\n",
       "      <th>start_lat</th>\n",
       "      <th>start_lng</th>\n",
       "      <th>end_lat</th>\n",
       "      <th>end_lng</th>\n",
       "      <th>member_casual</th>\n",
       "    </tr>\n",
       "  </thead>\n",
       "  <tbody>\n",
       "    <tr>\n",
       "      <th>0</th>\n",
       "      <td>C2F7DD78E82EC875</td>\n",
       "      <td>electric_bike</td>\n",
       "      <td>2022-01-13 11:59:47</td>\n",
       "      <td>2022-01-13 12:02:44</td>\n",
       "      <td>Glenwood Ave &amp; Touhy Ave</td>\n",
       "      <td>525</td>\n",
       "      <td>Clark St &amp; Touhy Ave</td>\n",
       "      <td>RP-007</td>\n",
       "      <td>42.012800</td>\n",
       "      <td>-87.665906</td>\n",
       "      <td>42.012560</td>\n",
       "      <td>-87.674367</td>\n",
       "      <td>casual</td>\n",
       "    </tr>\n",
       "    <tr>\n",
       "      <th>1</th>\n",
       "      <td>A6CF8980A652D272</td>\n",
       "      <td>electric_bike</td>\n",
       "      <td>2022-01-10 08:41:56</td>\n",
       "      <td>2022-01-10 08:46:17</td>\n",
       "      <td>Glenwood Ave &amp; Touhy Ave</td>\n",
       "      <td>525</td>\n",
       "      <td>Clark St &amp; Touhy Ave</td>\n",
       "      <td>RP-007</td>\n",
       "      <td>42.012763</td>\n",
       "      <td>-87.665967</td>\n",
       "      <td>42.012560</td>\n",
       "      <td>-87.674367</td>\n",
       "      <td>casual</td>\n",
       "    </tr>\n",
       "    <tr>\n",
       "      <th>2</th>\n",
       "      <td>BD0F91DFF741C66D</td>\n",
       "      <td>classic_bike</td>\n",
       "      <td>2022-01-25 04:53:40</td>\n",
       "      <td>2022-01-25 04:58:01</td>\n",
       "      <td>Sheffield Ave &amp; Fullerton Ave</td>\n",
       "      <td>TA1306000016</td>\n",
       "      <td>Greenview Ave &amp; Fullerton Ave</td>\n",
       "      <td>TA1307000001</td>\n",
       "      <td>41.925602</td>\n",
       "      <td>-87.653708</td>\n",
       "      <td>41.925330</td>\n",
       "      <td>-87.665800</td>\n",
       "      <td>member</td>\n",
       "    </tr>\n",
       "    <tr>\n",
       "      <th>3</th>\n",
       "      <td>CBB80ED419105406</td>\n",
       "      <td>classic_bike</td>\n",
       "      <td>2022-01-04 00:18:04</td>\n",
       "      <td>2022-01-04 00:33:00</td>\n",
       "      <td>Clark St &amp; Bryn Mawr Ave</td>\n",
       "      <td>KA1504000151</td>\n",
       "      <td>Paulina St &amp; Montrose Ave</td>\n",
       "      <td>TA1309000021</td>\n",
       "      <td>41.983593</td>\n",
       "      <td>-87.669154</td>\n",
       "      <td>41.961507</td>\n",
       "      <td>-87.671387</td>\n",
       "      <td>casual</td>\n",
       "    </tr>\n",
       "    <tr>\n",
       "      <th>4</th>\n",
       "      <td>DDC963BFDDA51EEA</td>\n",
       "      <td>classic_bike</td>\n",
       "      <td>2022-01-20 01:31:10</td>\n",
       "      <td>2022-01-20 01:37:12</td>\n",
       "      <td>Michigan Ave &amp; Jackson Blvd</td>\n",
       "      <td>TA1309000002</td>\n",
       "      <td>State St &amp; Randolph St</td>\n",
       "      <td>TA1305000029</td>\n",
       "      <td>41.877850</td>\n",
       "      <td>-87.624080</td>\n",
       "      <td>41.884621</td>\n",
       "      <td>-87.627834</td>\n",
       "      <td>member</td>\n",
       "    </tr>\n",
       "  </tbody>\n",
       "</table>\n",
       "</div>"
      ],
      "text/plain": [
       "            ride_id  rideable_type           started_at             ended_at  \\\n",
       "0  C2F7DD78E82EC875  electric_bike  2022-01-13 11:59:47  2022-01-13 12:02:44   \n",
       "1  A6CF8980A652D272  electric_bike  2022-01-10 08:41:56  2022-01-10 08:46:17   \n",
       "2  BD0F91DFF741C66D   classic_bike  2022-01-25 04:53:40  2022-01-25 04:58:01   \n",
       "3  CBB80ED419105406   classic_bike  2022-01-04 00:18:04  2022-01-04 00:33:00   \n",
       "4  DDC963BFDDA51EEA   classic_bike  2022-01-20 01:31:10  2022-01-20 01:37:12   \n",
       "\n",
       "              start_station_name start_station_id  \\\n",
       "0       Glenwood Ave & Touhy Ave              525   \n",
       "1       Glenwood Ave & Touhy Ave              525   \n",
       "2  Sheffield Ave & Fullerton Ave     TA1306000016   \n",
       "3       Clark St & Bryn Mawr Ave     KA1504000151   \n",
       "4    Michigan Ave & Jackson Blvd     TA1309000002   \n",
       "\n",
       "                end_station_name end_station_id  start_lat  start_lng  \\\n",
       "0           Clark St & Touhy Ave         RP-007  42.012800 -87.665906   \n",
       "1           Clark St & Touhy Ave         RP-007  42.012763 -87.665967   \n",
       "2  Greenview Ave & Fullerton Ave   TA1307000001  41.925602 -87.653708   \n",
       "3      Paulina St & Montrose Ave   TA1309000021  41.983593 -87.669154   \n",
       "4         State St & Randolph St   TA1305000029  41.877850 -87.624080   \n",
       "\n",
       "     end_lat    end_lng member_casual  \n",
       "0  42.012560 -87.674367        casual  \n",
       "1  42.012560 -87.674367        casual  \n",
       "2  41.925330 -87.665800        member  \n",
       "3  41.961507 -87.671387        casual  \n",
       "4  41.884621 -87.627834        member  "
      ]
     },
     "execution_count": 98,
     "metadata": {},
     "output_type": "execute_result"
    }
   ],
   "source": [
    "df.head()"
   ]
  },
  {
   "cell_type": "code",
   "execution_count": 99,
   "metadata": {
    "ExecuteTime": {
     "end_time": "2023-04-11T01:13:17.242977Z",
     "start_time": "2023-04-11T01:13:15.686980Z"
    },
    "scrolled": true
   },
   "outputs": [
    {
     "name": "stdout",
     "output_type": "stream",
     "text": [
      "<class 'pandas.core.frame.DataFrame'>\n",
      "RangeIndex: 5667717 entries, 0 to 5667716\n",
      "Data columns (total 13 columns):\n",
      " #   Column              Dtype  \n",
      "---  ------              -----  \n",
      " 0   ride_id             object \n",
      " 1   rideable_type       object \n",
      " 2   started_at          object \n",
      " 3   ended_at            object \n",
      " 4   start_station_name  object \n",
      " 5   start_station_id    object \n",
      " 6   end_station_name    object \n",
      " 7   end_station_id      object \n",
      " 8   start_lat           float64\n",
      " 9   start_lng           float64\n",
      " 10  end_lat             float64\n",
      " 11  end_lng             float64\n",
      " 12  member_casual       object \n",
      "dtypes: float64(4), object(9)\n",
      "memory usage: 562.1+ MB\n"
     ]
    }
   ],
   "source": [
    "df.info()"
   ]
  },
  {
   "cell_type": "code",
   "execution_count": 100,
   "metadata": {},
   "outputs": [],
   "source": [
    "grouped_by_bike_2022 = df[[\"start_station_name\", \"started_at\", \"member_casual\"]]\n",
    "grouped_by_bike_2022 = grouped_by_bike_2022.rename(columns = {\"start_station_name\": \"count\", \"started_at\" : \"start_time\"})"
   ]
  },
  {
   "cell_type": "code",
   "execution_count": 101,
   "metadata": {},
   "outputs": [],
   "source": [
    "df_2 = pd.read_csv(\"data/Divvy_Trips_2021_full.csv.gz\", compression=\"gzip\")\n",
    "\n",
    "grouped_by_bike_2021 = df_2[[\"start_station_name\", \"started_at\", \"member_casual\"]]\n",
    "grouped_by_bike_2021 = grouped_by_bike_2021.rename(columns = {\"start_station_name\": \"count\", \"started_at\" : \"start_time\"})"
   ]
  },
  {
   "cell_type": "code",
   "execution_count": 102,
   "metadata": {},
   "outputs": [],
   "source": [
    "df_2 = pd.read_csv(\"data/Divvy_Trips_2020_full.csv.gz\", compression=\"gzip\")\n",
    "\n",
    "grouped_by_bike_2020 = df_2[[\"start_station_name\", \"started_at\", \"member_casual\"]]\n",
    "grouped_by_bike_2020 = grouped_by_bike_2020.rename(columns = {\"start_station_name\": \"count\", \"started_at\" : \"start_time\"})"
   ]
  },
  {
   "cell_type": "code",
   "execution_count": 103,
   "metadata": {},
   "outputs": [],
   "source": [
    "df_2 = pd.read_csv(\"data/2019/Divvy_Trips_2019_full.csv.gz\", compression=\"gzip\")\n",
    "\n",
    "grouped_by_bike_2019 = df_2[[\"from_station_name\", \"start_time\", \"usertype\"]]\n",
    "grouped_by_bike_2019 = grouped_by_bike_2019.rename(columns = {\"from_station_name\": \"count\", \"usertype\": \"member_casual\"})"
   ]
  },
  {
   "cell_type": "code",
   "execution_count": 104,
   "metadata": {},
   "outputs": [],
   "source": [
    "df_2 = pd.read_csv(\"data/2018/Divvy_Trips_2018_full.csv.gz\", compression=\"gzip\")\n",
    "\n",
    "grouped_by_bike_2018 = df_2[[\"03 - Rental Start Station Name\", \"01 - Rental Details Local Start Time\", \"User Type\"]]\n",
    "grouped_by_bike_2018 = grouped_by_bike_2018.rename(columns = {\"03 - Rental Start Station Name\": \"count\",\n",
    "                                      \"01 - Rental Details Local Start Time\": \"start_time\", \n",
    "                                      \"User Type\": \"member_casual\"})"
   ]
  },
  {
   "cell_type": "code",
   "execution_count": 105,
   "metadata": {},
   "outputs": [],
   "source": [
    "df_2 = pd.read_csv(\"data/2017/Divvy_Trips_2017_full.csv.gz\", compression=\"gzip\")\n",
    "\n",
    "grouped_by_bike_2017 = df_2[[\"from_station_name\", \"start_time\", \"usertype\"]]\n",
    "grouped_by_bike_2017 = grouped_by_bike_2017.rename(columns = {\"from_station_name\": \"count\", \"usertype\": \"member_casual\"})"
   ]
  },
  {
   "cell_type": "code",
   "execution_count": 106,
   "metadata": {},
   "outputs": [],
   "source": [
    "df_2 = pd.read_csv(\"data/2016/Divvy_Trips_2016_full.csv.gz\", compression=\"gzip\")\n",
    "\n",
    "grouped_by_bike_2016 = df_2[[\"from_station_name\", \"starttime\", \"usertype\"]]\n",
    "grouped_by_bike_2016 = grouped_by_bike_2016.rename(columns = {\"from_station_name\": \"count\",\"starttime\": \"start_time\", \"usertype\": \"member_casual\"})"
   ]
  },
  {
   "cell_type": "code",
   "execution_count": 107,
   "metadata": {},
   "outputs": [],
   "source": [
    "df_2 = pd.read_csv(\"data/2015/Divvy_Trips_2015_full.csv.gz\", compression=\"gzip\")\n",
    "\n",
    "grouped_by_bike_2015 = df_2[[\"from_station_name\", \"starttime\", \"usertype\"]]\n",
    "grouped_by_bike_2015 = grouped_by_bike_2015.rename(columns = {\"from_station_name\": \"count\",\"starttime\": \"start_time\", \"usertype\": \"member_casual\"})"
   ]
  },
  {
   "cell_type": "code",
   "execution_count": 108,
   "metadata": {},
   "outputs": [],
   "source": [
    "df_2 = pd.read_csv(\"data/2014/Divvy_Trips_2014_full.csv.gz\", compression=\"gzip\")\n",
    "\n",
    "grouped_by_bike_2014 = df_2[[\"from_station_name\", \"starttime\", \"usertype\"]]\n",
    "grouped_by_bike_2014 = grouped_by_bike_2014.rename(columns = {\"from_station_name\": \"count\",\"starttime\": \"start_time\", \"usertype\": \"member_casual\"})"
   ]
  },
  {
   "cell_type": "code",
   "execution_count": 109,
   "metadata": {},
   "outputs": [],
   "source": [
    "df_2 = pd.read_csv(\"data/2013/Divvy_Trips_2013.csv\")\n",
    "\n",
    "grouped_by_bike_2013 = df_2[[\"from_station_name\", \"starttime\", \"usertype\"]]\n",
    "grouped_by_bike_2013 = grouped_by_bike_2013.rename(columns = {\"from_station_name\": \"count\",\"starttime\": \"start_time\", \"usertype\": \"member_casual\"})"
   ]
  },
  {
   "cell_type": "markdown",
   "metadata": {},
   "source": [
    "## Работа с данными"
   ]
  },
  {
   "cell_type": "code",
   "execution_count": 143,
   "metadata": {},
   "outputs": [
    {
     "name": "stdout",
     "output_type": "stream",
     "text": [
      "2013 920241\n",
      "2014 1442962\n",
      "2015 2178815\n",
      "2016 1986078\n",
      "2017 2041697\n",
      "2018 500165\n",
      "2019 529841\n",
      "2020 2172285\n",
      "2021 2680439\n",
      "2022 2406334\n"
     ]
    }
   ],
   "source": [
    "cost = 0\n",
    "\n",
    "for year in range(2013, 2023):\n",
    "    if year == 2013: station = grouped_by_bike_2013\n",
    "    if year == 2014: station = grouped_by_bike_2014\n",
    "    if year == 2015: station = grouped_by_bike_2015\n",
    "    if year == 2016: station = grouped_by_bike_2016\n",
    "    if year == 2017: station = grouped_by_bike_2017\n",
    "    if year == 2018: station = grouped_by_bike_2018\n",
    "    if year == 2019: \n",
    "        station = grouped_by_bike_2019\n",
    "        station = station[((station['start_time'] >= f\"{2019}-01-01\") & (station['start_time'] < f\"{2019 + 1}-01-01\"))]  \n",
    "    if year == 2020: station = grouped_by_bike_2020\n",
    "    if year == 2021: station = grouped_by_bike_2021\n",
    "    if year == 2022: station = grouped_by_bike_2022\n",
    "    \n",
    "    station[\"start_time\"] = station[\"start_time\"].astype('datetime64[D]')\n",
    "    \n",
    "    day = station.groupby([\"start_time\"]).count()\n",
    "    day.rename(columns={\"station_name\":\"count\"}, inplace = True)\n",
    "    \n",
    "    sorted_day = day.sort_values(by='count', ascending = False)\n",
    "    sorted_day.drop('member_casual', axis = 1, inplace = True)\n",
    "    sorted_day.reset_index([\"start_time\"], inplace = True)\n",
    "    \n",
    "    max_day = sorted_day[\"start_time\"].iloc[0]\n",
    "    \n",
    "    ride = station[(station['start_time'] >= max_day) & (station['start_time'] < max_day + datetime.timedelta(days = 1))]\n",
    "    ride = ride.groupby([\"start_time\", \"member_casual\"]).count()\n",
    "    ride = ride.reset_index([\"start_time\", \"member_casual\"])\n",
    "    ride.rename(columns={\"station_name\":\"count\"}, inplace=True)\n",
    "    \n",
    "    \n",
    "    # Подсчет кол-ва подписчиков за 2020 - 2023\n",
    "    if 2020 <= year <= 2022:\n",
    "        member = int(ride[ride[\"member_casual\"] == \"member\"][\"count\"])\n",
    "        casual = int(ride[ride[\"member_casual\"] == \"casual\"][\"count\"])\n",
    "\n",
    "        people = member // 2 + casual\n",
    "\n",
    "        member = int(people * 0.74)\n",
    "        casual = 0\n",
    "    \n",
    "    \n",
    "    # Подсчет кол-ва подписчиков за 2013 - 2019\n",
    "    if 2013 <= year <= 2019:\n",
    "        member = int(ride[ride[\"member_casual\"] == \"Subscriber\"][\"count\"])\n",
    "        casual = int(ride[ride[\"member_casual\"] == \"Customer\"][\"count\"])\n",
    "\n",
    "        people = member // 2 + casual\n",
    "\n",
    "        member = int(people * 0.74)\n",
    "        casual = int(people * 0.26)\n",
    "    \n",
    "    print(year, int(member * 130.9 + casual * 16.5))\n",
    "    cost = cost + int(member * 130.9 + casual * 16.5)"
   ]
  },
  {
   "cell_type": "code",
   "execution_count": null,
   "metadata": {},
   "outputs": [],
   "source": [
    "cost"
   ]
  },
  {
   "cell_type": "code",
   "execution_count": 142,
   "metadata": {},
   "outputs": [
    {
     "data": {
      "text/html": [
       "<div>\n",
       "<style scoped>\n",
       "    .dataframe tbody tr th:only-of-type {\n",
       "        vertical-align: middle;\n",
       "    }\n",
       "\n",
       "    .dataframe tbody tr th {\n",
       "        vertical-align: top;\n",
       "    }\n",
       "\n",
       "    .dataframe thead th {\n",
       "        text-align: right;\n",
       "    }\n",
       "</style>\n",
       "<table border=\"1\" class=\"dataframe\">\n",
       "  <thead>\n",
       "    <tr style=\"text-align: right;\">\n",
       "      <th></th>\n",
       "      <th>count</th>\n",
       "      <th>start_time</th>\n",
       "      <th>member_casual</th>\n",
       "    </tr>\n",
       "  </thead>\n",
       "  <tbody>\n",
       "    <tr>\n",
       "      <th>0</th>\n",
       "      <td>Wabash Ave &amp; Grand Ave</td>\n",
       "      <td>2019-01-01 00:04:37</td>\n",
       "      <td>Subscriber</td>\n",
       "    </tr>\n",
       "    <tr>\n",
       "      <th>1</th>\n",
       "      <td>State St &amp; Randolph St</td>\n",
       "      <td>2019-01-01 00:08:13</td>\n",
       "      <td>Subscriber</td>\n",
       "    </tr>\n",
       "    <tr>\n",
       "      <th>2</th>\n",
       "      <td>Racine Ave &amp; 18th St</td>\n",
       "      <td>2019-01-01 00:13:23</td>\n",
       "      <td>Subscriber</td>\n",
       "    </tr>\n",
       "    <tr>\n",
       "      <th>3</th>\n",
       "      <td>California Ave &amp; Milwaukee Ave</td>\n",
       "      <td>2019-01-01 00:13:45</td>\n",
       "      <td>Subscriber</td>\n",
       "    </tr>\n",
       "    <tr>\n",
       "      <th>4</th>\n",
       "      <td>Mies van der Rohe Way &amp; Chicago Ave</td>\n",
       "      <td>2019-01-01 00:14:52</td>\n",
       "      <td>Subscriber</td>\n",
       "    </tr>\n",
       "    <tr>\n",
       "      <th>...</th>\n",
       "      <td>...</td>\n",
       "      <td>...</td>\n",
       "      <td>...</td>\n",
       "    </tr>\n",
       "    <tr>\n",
       "      <th>4194078</th>\n",
       "      <td>Wells St &amp; Concord Ln</td>\n",
       "      <td>10/1/2017 0:01</td>\n",
       "      <td>Subscriber</td>\n",
       "    </tr>\n",
       "    <tr>\n",
       "      <th>4194079</th>\n",
       "      <td>Michigan Ave &amp; Congress Pkwy</td>\n",
       "      <td>10/1/2017 0:00</td>\n",
       "      <td>Customer</td>\n",
       "    </tr>\n",
       "    <tr>\n",
       "      <th>4194080</th>\n",
       "      <td>Greenview Ave &amp; Jarvis Ave</td>\n",
       "      <td>10/1/2017 0:00</td>\n",
       "      <td>Customer</td>\n",
       "    </tr>\n",
       "    <tr>\n",
       "      <th>4194081</th>\n",
       "      <td>Larrabee St &amp; Armitage Ave</td>\n",
       "      <td>10/1/2017 0:00</td>\n",
       "      <td>Subscriber</td>\n",
       "    </tr>\n",
       "    <tr>\n",
       "      <th>4194082</th>\n",
       "      <td>Halsted St &amp; 21st St</td>\n",
       "      <td>10/1/2017 0:00</td>\n",
       "      <td>Subscriber</td>\n",
       "    </tr>\n",
       "  </tbody>\n",
       "</table>\n",
       "<p>4194083 rows × 3 columns</p>\n",
       "</div>"
      ],
      "text/plain": [
       "                                       count           start_time  \\\n",
       "0                     Wabash Ave & Grand Ave  2019-01-01 00:04:37   \n",
       "1                     State St & Randolph St  2019-01-01 00:08:13   \n",
       "2                       Racine Ave & 18th St  2019-01-01 00:13:23   \n",
       "3             California Ave & Milwaukee Ave  2019-01-01 00:13:45   \n",
       "4        Mies van der Rohe Way & Chicago Ave  2019-01-01 00:14:52   \n",
       "...                                      ...                  ...   \n",
       "4194078                Wells St & Concord Ln       10/1/2017 0:01   \n",
       "4194079         Michigan Ave & Congress Pkwy       10/1/2017 0:00   \n",
       "4194080           Greenview Ave & Jarvis Ave       10/1/2017 0:00   \n",
       "4194081           Larrabee St & Armitage Ave       10/1/2017 0:00   \n",
       "4194082                 Halsted St & 21st St       10/1/2017 0:00   \n",
       "\n",
       "        member_casual  \n",
       "0          Subscriber  \n",
       "1          Subscriber  \n",
       "2          Subscriber  \n",
       "3          Subscriber  \n",
       "4          Subscriber  \n",
       "...               ...  \n",
       "4194078    Subscriber  \n",
       "4194079      Customer  \n",
       "4194080      Customer  \n",
       "4194081    Subscriber  \n",
       "4194082    Subscriber  \n",
       "\n",
       "[4194083 rows x 3 columns]"
      ]
     },
     "execution_count": 142,
     "metadata": {},
     "output_type": "execute_result"
    }
   ],
   "source": [
    "station = grouped_by_bike_2019\n",
    "station = station[((station['start_time'] >= f\"{2014}-01-01\") & (station['start_time'] < f\"{2014 + 1}-01-01\"))]  \n",
    "grouped_by_bike_2019"
   ]
  },
  {
   "cell_type": "code",
   "execution_count": 139,
   "metadata": {},
   "outputs": [
    {
     "data": {
      "text/html": [
       "<div>\n",
       "<style scoped>\n",
       "    .dataframe tbody tr th:only-of-type {\n",
       "        vertical-align: middle;\n",
       "    }\n",
       "\n",
       "    .dataframe tbody tr th {\n",
       "        vertical-align: top;\n",
       "    }\n",
       "\n",
       "    .dataframe thead th {\n",
       "        text-align: right;\n",
       "    }\n",
       "</style>\n",
       "<table border=\"1\" class=\"dataframe\">\n",
       "  <thead>\n",
       "    <tr style=\"text-align: right;\">\n",
       "      <th></th>\n",
       "      <th>start_time</th>\n",
       "      <th>count</th>\n",
       "    </tr>\n",
       "  </thead>\n",
       "  <tbody>\n",
       "  </tbody>\n",
       "</table>\n",
       "</div>"
      ],
      "text/plain": [
       "Empty DataFrame\n",
       "Columns: [start_time, count]\n",
       "Index: []"
      ]
     },
     "execution_count": 139,
     "metadata": {},
     "output_type": "execute_result"
    }
   ],
   "source": [
    "station[\"start_time\"] = station[\"start_time\"].astype('datetime64[D]')\n",
    "\n",
    "day = station.groupby([\"start_time\"]).count()\n",
    "day.rename(columns={\"station_name\":\"count\"}, inplace = True)\n",
    "\n",
    "sorted_day = day.sort_values(by='count', ascending = False)\n",
    "sorted_day.drop('member_casual', axis = 1, inplace = True)\n",
    "sorted_day.reset_index([\"start_time\"], inplace = True)\n",
    "sorted_day\n",
    "\n",
    "# max_day = sorted_day[\"start_time\"].iloc[0]"
   ]
  },
  {
   "cell_type": "code",
   "execution_count": null,
   "metadata": {},
   "outputs": [],
   "source": []
  }
 ],
 "metadata": {
  "kernelspec": {
   "display_name": "Python 3 (ipykernel)",
   "language": "python",
   "name": "python3"
  },
  "language_info": {
   "codemirror_mode": {
    "name": "ipython",
    "version": 3
   },
   "file_extension": ".py",
   "mimetype": "text/x-python",
   "name": "python",
   "nbconvert_exporter": "python",
   "pygments_lexer": "ipython3",
   "version": "3.10.9"
  },
  "toc": {
   "base_numbering": 1,
   "nav_menu": {},
   "number_sections": true,
   "sideBar": true,
   "skip_h1_title": false,
   "title_cell": "Table of Contents",
   "title_sidebar": "Contents",
   "toc_cell": false,
   "toc_position": {},
   "toc_section_display": true,
   "toc_window_display": false
  }
 },
 "nbformat": 4,
 "nbformat_minor": 1
}
