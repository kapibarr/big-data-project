{
 "cells": [
  {
   "cell_type": "code",
   "execution_count": 13,
   "id": "7489efbb",
   "metadata": {
    "ExecuteTime": {
     "end_time": "2023-04-16T08:58:43.813336Z",
     "start_time": "2023-04-16T08:58:43.796336Z"
    }
   },
   "outputs": [],
   "source": [
    "import pandas as pd\n",
    "import matplotlib.pyplot as plt"
   ]
  },
  {
   "cell_type": "code",
   "execution_count": 14,
   "id": "a27423a7",
   "metadata": {
    "ExecuteTime": {
     "end_time": "2023-04-16T08:59:18.069337Z",
     "start_time": "2023-04-16T08:58:44.645213Z"
    }
   },
   "outputs": [
    {
     "name": "stderr",
     "output_type": "stream",
     "text": [
      "C:\\Users\\fpokr\\AppData\\Local\\Temp\\ipykernel_12848\\672813569.py:1: DtypeWarning: Columns (4) have mixed types. Specify dtype option on import or set low_memory=False.\n",
      "  df = pd.read_csv(\"data/2019/Divvy_Trips_2019_full.csv.gz\", compression=\"gzip\")\n"
     ]
    }
   ],
   "source": [
    "df = pd.read_csv(\"data/2019/Divvy_Trips_2019_full.csv.gz\", compression=\"gzip\")"
   ]
  },
  {
   "cell_type": "code",
   "execution_count": 15,
   "id": "c90ebc6c",
   "metadata": {
    "ExecuteTime": {
     "end_time": "2023-04-16T08:59:18.989286Z",
     "start_time": "2023-04-16T08:59:18.109745Z"
    }
   },
   "outputs": [
    {
     "data": {
      "text/html": [
       "<div>\n",
       "<style scoped>\n",
       "    .dataframe tbody tr th:only-of-type {\n",
       "        vertical-align: middle;\n",
       "    }\n",
       "\n",
       "    .dataframe tbody tr th {\n",
       "        vertical-align: top;\n",
       "    }\n",
       "\n",
       "    .dataframe thead th {\n",
       "        text-align: right;\n",
       "    }\n",
       "</style>\n",
       "<table border=\"1\" class=\"dataframe\">\n",
       "  <thead>\n",
       "    <tr style=\"text-align: right;\">\n",
       "      <th></th>\n",
       "      <th>gender</th>\n",
       "      <th>birthyear</th>\n",
       "    </tr>\n",
       "  </thead>\n",
       "  <tbody>\n",
       "    <tr>\n",
       "      <th>0</th>\n",
       "      <td>Male</td>\n",
       "      <td>1989.0</td>\n",
       "    </tr>\n",
       "    <tr>\n",
       "      <th>1</th>\n",
       "      <td>Female</td>\n",
       "      <td>1990.0</td>\n",
       "    </tr>\n",
       "    <tr>\n",
       "      <th>2</th>\n",
       "      <td>Female</td>\n",
       "      <td>1994.0</td>\n",
       "    </tr>\n",
       "    <tr>\n",
       "      <th>3</th>\n",
       "      <td>Male</td>\n",
       "      <td>1993.0</td>\n",
       "    </tr>\n",
       "    <tr>\n",
       "      <th>4</th>\n",
       "      <td>Male</td>\n",
       "      <td>1994.0</td>\n",
       "    </tr>\n",
       "    <tr>\n",
       "      <th>...</th>\n",
       "      <td>...</td>\n",
       "      <td>...</td>\n",
       "    </tr>\n",
       "    <tr>\n",
       "      <th>4194076</th>\n",
       "      <td>Female</td>\n",
       "      <td>1994.0</td>\n",
       "    </tr>\n",
       "    <tr>\n",
       "      <th>4194077</th>\n",
       "      <td>Male</td>\n",
       "      <td>1993.0</td>\n",
       "    </tr>\n",
       "    <tr>\n",
       "      <th>4194078</th>\n",
       "      <td>Male</td>\n",
       "      <td>1991.0</td>\n",
       "    </tr>\n",
       "    <tr>\n",
       "      <th>4194081</th>\n",
       "      <td>Female</td>\n",
       "      <td>1984.0</td>\n",
       "    </tr>\n",
       "    <tr>\n",
       "      <th>4194082</th>\n",
       "      <td>Female</td>\n",
       "      <td>1994.0</td>\n",
       "    </tr>\n",
       "  </tbody>\n",
       "</table>\n",
       "<p>3337297 rows × 2 columns</p>\n",
       "</div>"
      ],
      "text/plain": [
       "         gender  birthyear\n",
       "0          Male     1989.0\n",
       "1        Female     1990.0\n",
       "2        Female     1994.0\n",
       "3          Male     1993.0\n",
       "4          Male     1994.0\n",
       "...         ...        ...\n",
       "4194076  Female     1994.0\n",
       "4194077    Male     1993.0\n",
       "4194078    Male     1991.0\n",
       "4194081  Female     1984.0\n",
       "4194082  Female     1994.0\n",
       "\n",
       "[3337297 rows x 2 columns]"
      ]
     },
     "execution_count": 15,
     "metadata": {},
     "output_type": "execute_result"
    }
   ],
   "source": [
    "people = df[['gender', 'birthyear']]\n",
    "people = people.dropna()\n",
    "\n",
    "people"
   ]
  },
  {
   "cell_type": "code",
   "execution_count": 17,
   "id": "e3e08802",
   "metadata": {
    "ExecuteTime": {
     "end_time": "2023-04-16T09:04:43.237389Z",
     "start_time": "2023-04-16T09:04:42.511536Z"
    }
   },
   "outputs": [
    {
     "data": {
      "text/html": [
       "<div>\n",
       "<style scoped>\n",
       "    .dataframe tbody tr th:only-of-type {\n",
       "        vertical-align: middle;\n",
       "    }\n",
       "\n",
       "    .dataframe tbody tr th {\n",
       "        vertical-align: top;\n",
       "    }\n",
       "\n",
       "    .dataframe thead th {\n",
       "        text-align: right;\n",
       "    }\n",
       "</style>\n",
       "<table border=\"1\" class=\"dataframe\">\n",
       "  <thead>\n",
       "    <tr style=\"text-align: right;\">\n",
       "      <th></th>\n",
       "      <th>count</th>\n",
       "    </tr>\n",
       "    <tr>\n",
       "      <th>gender</th>\n",
       "      <th></th>\n",
       "    </tr>\n",
       "  </thead>\n",
       "  <tbody>\n",
       "    <tr>\n",
       "      <th>Male</th>\n",
       "      <td>2523744</td>\n",
       "    </tr>\n",
       "    <tr>\n",
       "      <th>Female</th>\n",
       "      <td>813553</td>\n",
       "    </tr>\n",
       "  </tbody>\n",
       "</table>\n",
       "</div>"
      ],
      "text/plain": [
       "          count\n",
       "gender         \n",
       "Male    2523744\n",
       "Female   813553"
      ]
     },
     "execution_count": 17,
     "metadata": {},
     "output_type": "execute_result"
    }
   ],
   "source": [
    "grouped_gender = pd.DataFrame(people[\"gender\"].value_counts())\n",
    "# grouped_gender = grouped_gender.reset_index()\n",
    "\n",
    "\n",
    "grouped_gender"
   ]
  },
  {
   "cell_type": "code",
   "execution_count": 29,
   "id": "5450ce59",
   "metadata": {
    "ExecuteTime": {
     "end_time": "2023-04-16T09:07:46.273169Z",
     "start_time": "2023-04-16T09:07:45.994171Z"
    }
   },
   "outputs": [
    {
     "data": {
      "text/plain": [
       "Text(0.5, 1.0, 'Распределение по полу в 2019 году')"
      ]
     },
     "execution_count": 29,
     "metadata": {},
     "output_type": "execute_result"
    },
    {
     "data": {
      "image/png": "[encoded data removed]",
      "text/plain": [
       "<Figure size 640x480 with 1 Axes>"
      ]
     },
     "metadata": {},
     "output_type": "display_data"
    }
   ],
   "source": [
    "plt.pie(grouped_gender['count'], autopct=\"%1.1f%%\", labels=grouped_gender.index)\n",
    "plt.title(\"Распределение по полу в 2019 году\")"
   ]
  },
  {
   "cell_type": "code",
   "execution_count": 6,
   "id": "3ad37091",
   "metadata": {},
   "outputs": [
    {
     "data": {
      "text/html": [
       "<div>\n",
       "<style scoped>\n",
       "    .dataframe tbody tr th:only-of-type {\n",
       "        vertical-align: middle;\n",
       "    }\n",
       "\n",
       "    .dataframe tbody tr th {\n",
       "        vertical-align: top;\n",
       "    }\n",
       "\n",
       "    .dataframe thead th {\n",
       "        text-align: right;\n",
       "    }\n",
       "</style>\n",
       "<table border=\"1\" class=\"dataframe\">\n",
       "  <thead>\n",
       "    <tr style=\"text-align: right;\">\n",
       "      <th></th>\n",
       "      <th>birthyear</th>\n",
       "      <th>count</th>\n",
       "    </tr>\n",
       "  </thead>\n",
       "  <tbody>\n",
       "    <tr>\n",
       "      <th>0</th>\n",
       "      <td>1989.0</td>\n",
       "      <td>203242</td>\n",
       "    </tr>\n",
       "    <tr>\n",
       "      <th>1</th>\n",
       "      <td>1990.0</td>\n",
       "      <td>182454</td>\n",
       "    </tr>\n",
       "    <tr>\n",
       "      <th>2</th>\n",
       "      <td>1991.0</td>\n",
       "      <td>179418</td>\n",
       "    </tr>\n",
       "    <tr>\n",
       "      <th>3</th>\n",
       "      <td>1992.0</td>\n",
       "      <td>175098</td>\n",
       "    </tr>\n",
       "    <tr>\n",
       "      <th>4</th>\n",
       "      <td>1987.0</td>\n",
       "      <td>171085</td>\n",
       "    </tr>\n",
       "    <tr>\n",
       "      <th>...</th>\n",
       "      <td>...</td>\n",
       "      <td>...</td>\n",
       "    </tr>\n",
       "    <tr>\n",
       "      <th>82</th>\n",
       "      <td>1933.0</td>\n",
       "      <td>8</td>\n",
       "    </tr>\n",
       "    <tr>\n",
       "      <th>83</th>\n",
       "      <td>2017.0</td>\n",
       "      <td>7</td>\n",
       "    </tr>\n",
       "    <tr>\n",
       "      <th>84</th>\n",
       "      <td>1915.0</td>\n",
       "      <td>4</td>\n",
       "    </tr>\n",
       "    <tr>\n",
       "      <th>85</th>\n",
       "      <td>1936.0</td>\n",
       "      <td>1</td>\n",
       "    </tr>\n",
       "    <tr>\n",
       "      <th>86</th>\n",
       "      <td>1910.0</td>\n",
       "      <td>1</td>\n",
       "    </tr>\n",
       "  </tbody>\n",
       "</table>\n",
       "<p>87 rows × 2 columns</p>\n",
       "</div>"
      ],
      "text/plain": [
       "    birthyear   count\n",
       "0      1989.0  203242\n",
       "1      1990.0  182454\n",
       "2      1991.0  179418\n",
       "3      1992.0  175098\n",
       "4      1987.0  171085\n",
       "..        ...     ...\n",
       "82     1933.0       8\n",
       "83     2017.0       7\n",
       "84     1915.0       4\n",
       "85     1936.0       1\n",
       "86     1910.0       1\n",
       "\n",
       "[87 rows x 2 columns]"
      ]
     },
     "execution_count": 6,
     "metadata": {},
     "output_type": "execute_result"
    }
   ],
   "source": [
    "grouped_age = pd.DataFrame(people[\"birthyear\"].value_counts())\n",
    "grouped_age = grouped_age.reset_index()\n",
    "grouped_age = grouped_age.rename(columns={\"index\": \"birthyear\", \"birthyear\": \"count\"})\n",
    "\n",
    "grouped_age"
   ]
  },
  {
   "cell_type": "code",
   "execution_count": 7,
   "id": "b7a3a3f3",
   "metadata": {},
   "outputs": [
    {
     "data": {
      "text/html": [
       "<div>\n",
       "<style scoped>\n",
       "    .dataframe tbody tr th:only-of-type {\n",
       "        vertical-align: middle;\n",
       "    }\n",
       "\n",
       "    .dataframe tbody tr th {\n",
       "        vertical-align: top;\n",
       "    }\n",
       "\n",
       "    .dataframe thead th {\n",
       "        text-align: right;\n",
       "    }\n",
       "</style>\n",
       "<table border=\"1\" class=\"dataframe\">\n",
       "  <thead>\n",
       "    <tr style=\"text-align: right;\">\n",
       "      <th></th>\n",
       "      <th>birthyear</th>\n",
       "      <th>count</th>\n",
       "    </tr>\n",
       "  </thead>\n",
       "  <tbody>\n",
       "    <tr>\n",
       "      <th>0</th>\n",
       "      <td>1989.0</td>\n",
       "      <td>203242</td>\n",
       "    </tr>\n",
       "    <tr>\n",
       "      <th>1</th>\n",
       "      <td>1990.0</td>\n",
       "      <td>182454</td>\n",
       "    </tr>\n",
       "    <tr>\n",
       "      <th>2</th>\n",
       "      <td>1991.0</td>\n",
       "      <td>179418</td>\n",
       "    </tr>\n",
       "    <tr>\n",
       "      <th>3</th>\n",
       "      <td>1992.0</td>\n",
       "      <td>175098</td>\n",
       "    </tr>\n",
       "    <tr>\n",
       "      <th>4</th>\n",
       "      <td>1987.0</td>\n",
       "      <td>171085</td>\n",
       "    </tr>\n",
       "    <tr>\n",
       "      <th>...</th>\n",
       "      <td>...</td>\n",
       "      <td>...</td>\n",
       "    </tr>\n",
       "    <tr>\n",
       "      <th>77</th>\n",
       "      <td>2004.0</td>\n",
       "      <td>31</td>\n",
       "    </tr>\n",
       "    <tr>\n",
       "      <th>78</th>\n",
       "      <td>1931.0</td>\n",
       "      <td>24</td>\n",
       "    </tr>\n",
       "    <tr>\n",
       "      <th>81</th>\n",
       "      <td>1937.0</td>\n",
       "      <td>9</td>\n",
       "    </tr>\n",
       "    <tr>\n",
       "      <th>82</th>\n",
       "      <td>1933.0</td>\n",
       "      <td>8</td>\n",
       "    </tr>\n",
       "    <tr>\n",
       "      <th>85</th>\n",
       "      <td>1936.0</td>\n",
       "      <td>1</td>\n",
       "    </tr>\n",
       "  </tbody>\n",
       "</table>\n",
       "<p>72 rows × 2 columns</p>\n",
       "</div>"
      ],
      "text/plain": [
       "    birthyear   count\n",
       "0      1989.0  203242\n",
       "1      1990.0  182454\n",
       "2      1991.0  179418\n",
       "3      1992.0  175098\n",
       "4      1987.0  171085\n",
       "..        ...     ...\n",
       "77     2004.0      31\n",
       "78     1931.0      24\n",
       "81     1937.0       9\n",
       "82     1933.0       8\n",
       "85     1936.0       1\n",
       "\n",
       "[72 rows x 2 columns]"
      ]
     },
     "execution_count": 7,
     "metadata": {},
     "output_type": "execute_result"
    }
   ],
   "source": [
    "grouped_age = grouped_age[grouped_age['birthyear'] > 1930.0]\n",
    "grouped_age = grouped_age[grouped_age['birthyear'] < 2010.0]\n",
    "grouped_age"
   ]
  },
  {
   "cell_type": "code",
   "execution_count": 18,
   "id": "ca0ddf4e",
   "metadata": {},
   "outputs": [],
   "source": [
    "age_retiree = grouped_age[(grouped_age['birthyear'] > 1930.0) & (grouped_age['birthyear'] < 1965.0)]\n",
    "age_adults = grouped_age[(grouped_age['birthyear'] >= 1965.0) & (grouped_age['birthyear'] < 1995.0)]\n",
    "age_student = grouped_age[(grouped_age['birthyear'] >= 1995.0) & (grouped_age['birthyear'] < 2010.0)]"
   ]
  },
  {
   "cell_type": "code",
   "execution_count": 19,
   "id": "fbee9add",
   "metadata": {},
   "outputs": [],
   "source": [
    "import seaborn as sns\n",
    "import numpy as np"
   ]
  },
  {
   "cell_type": "code",
   "execution_count": 23,
   "id": "bcf100f5",
   "metadata": {},
   "outputs": [
    {
     "name": "stderr",
     "output_type": "stream",
     "text": [
      "C:\\Users\\79500\\AppData\\Local\\Temp\\ipykernel_15844\\4086490855.py:7: UserWarning: \n",
      "\n",
      "`distplot` is a deprecated function and will be removed in seaborn v0.14.0.\n",
      "\n",
      "Please adapt your code to use either `displot` (a figure-level function with\n",
      "similar flexibility) or `histplot` (an axes-level function for histograms).\n",
      "\n",
      "For a guide to updating your code to use the new functions, please see\n",
      "https://gist.github.com/mwaskom/de44147ed2974457ad6372750bbe5751\n",
      "\n",
      "  sns.distplot(\n"
     ]
    },
    {
     "data": {
      "text/plain": [
       "<matplotlib.lines.Line2D at 0x27bbdfab0a0>"
      ]
     },
     "execution_count": 23,
     "metadata": {},
     "output_type": "execute_result"
    },
    {
     "data": {
      "image/png": "[encoded data removed]",
      "text/plain": [
       "<Figure size 640x480 with 1 Axes>"
      ]
     },
     "metadata": {},
     "output_type": "display_data"
    }
   ],
   "source": [
    "# matplotlib histogram\n",
    "plt.hist(age_retiree[\"birthyear\"], weights=age_retiree[\"count\"], color=\"blue\", edgecolor=\"black\")\n",
    "plt.hist(age_adults[\"birthyear\"], weights=age_adults[\"count\"], color=\"purple\", edgecolor=\"black\")\n",
    "plt.hist(age_student[\"birthyear\"], weights=age_student[\"count\"], color=\"violet\", edgecolor=\"black\")\n",
    "\n",
    "# seaborn histogram\n",
    "sns.distplot(\n",
    "    grouped_age[\"birthyear\"],\n",
    "    hist=True,\n",
    "    kde=False,\n",
    "    bins=int(180 / 5),\n",
    "    color=\"blue\",\n",
    "    hist_kws={\"edgecolor\": \"black\"},\n",
    ")\n",
    "# Add labels\n",
    "plt.title(\"Histogram of age\")\n",
    "plt.xlabel(\"birthyear\")\n",
    "plt.ylabel(\"count\")\n",
    "mean = np.mean(grouped_age[\"birthyear\"])\n",
    "plt.axvline(mean, color=\"r\", linestyle=\"dashed\", linewidth=2)\n",
    "median = np.median(grouped_age[\"birthyear\"])\n",
    "plt.axvline(median, color=\"orange\", linestyle=\"dashed\", linewidth=2)\n",
    "q1 = np.quantile(grouped_age[\"birthyear\"], 0.025)\n",
    "q3 = np.quantile(grouped_age[\"birthyear\"], 0.975)\n",
    "plt.axvline(q1, color=\"green\", linestyle=\"-.\")\n",
    "plt.axvline(q3, color=\"yellow\", linestyle=\"-.\")"
   ]
  },
  {
   "cell_type": "code",
   "execution_count": 44,
   "id": "00bb1d22",
   "metadata": {},
   "outputs": [
    {
     "data": {
      "text/plain": [
       "1968.4444444444443"
      ]
     },
     "execution_count": 44,
     "metadata": {},
     "output_type": "execute_result"
    }
   ],
   "source": [
    "mean"
   ]
  },
  {
   "cell_type": "code",
   "execution_count": 45,
   "id": "8b860ab5",
   "metadata": {},
   "outputs": [
    {
     "data": {
      "text/plain": [
       "1968.5"
      ]
     },
     "execution_count": 45,
     "metadata": {},
     "output_type": "execute_result"
    }
   ],
   "source": [
    "median"
   ]
  },
  {
   "cell_type": "code",
   "execution_count": null,
   "id": "d60cfa9e",
   "metadata": {},
   "outputs": [],
   "source": []
  }
 ],
 "metadata": {
  "kernelspec": {
   "display_name": "Python 3 (ipykernel)",
   "language": "python",
   "name": "python3"
  },
  "language_info": {
   "codemirror_mode": {
    "name": "ipython",
    "version": 3
   },
   "file_extension": ".py",
   "mimetype": "text/x-python",
   "name": "python",
   "nbconvert_exporter": "python",
   "pygments_lexer": "ipython3",
   "version": "3.10.7"
  },
  "toc": {
   "base_numbering": 1,
   "nav_menu": {},
   "number_sections": true,
   "sideBar": true,
   "skip_h1_title": false,
   "title_cell": "Table of Contents",
   "title_sidebar": "Contents",
   "toc_cell": false,
   "toc_position": {},
   "toc_section_display": true,
   "toc_window_display": false
  }
 },
 "nbformat": 4,
 "nbformat_minor": 5
}
