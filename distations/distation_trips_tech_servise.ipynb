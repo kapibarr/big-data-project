{
 "cells": [
  {
   "cell_type": "code",
   "execution_count": 24,
   "id": "71fd9eac",
   "metadata": {},
   "outputs": [],
   "source": [
    "# from pyspark import SparkContext, SparkConf\n",
    "import matplotlib.pyplot as plt\n",
    "from itertools import islice\n",
    "from datetime import datetime\n",
    "import seaborn as sns\n",
    "from operator import add\n",
    "import pandas as pd\n",
    "import numpy as np\n",
    "import json\n",
    "from geopy.distance import geodesic as GD\n",
    "# sc = SparkContext()"
   ]
  },
  {
   "cell_type": "code",
   "execution_count": 2,
   "id": "345f46e0",
   "metadata": {},
   "outputs": [
    {
     "name": "stderr",
     "output_type": "stream",
     "text": [
      "/tmp/ipykernel_15264/2296370465.py:1: DtypeWarning: Columns (4) have mixed types. Specify dtype option on import or set low_memory=False.\n",
      "  data_2019 = pd.read_csv(\"Divvy_Trips_2019_full.csv\")\n"
     ]
    }
   ],
   "source": [
    "data_2019 = pd.read_csv(\"Divvy_Trips_2019_full.csv\")"
   ]
  },
  {
   "cell_type": "code",
   "execution_count": 3,
   "id": "9e21421a",
   "metadata": {},
   "outputs": [
    {
     "data": {
      "text/html": [
       "<div>\n",
       "<style scoped>\n",
       "    .dataframe tbody tr th:only-of-type {\n",
       "        vertical-align: middle;\n",
       "    }\n",
       "\n",
       "    .dataframe tbody tr th {\n",
       "        vertical-align: top;\n",
       "    }\n",
       "\n",
       "    .dataframe thead th {\n",
       "        text-align: right;\n",
       "    }\n",
       "</style>\n",
       "<table border=\"1\" class=\"dataframe\">\n",
       "  <thead>\n",
       "    <tr style=\"text-align: right;\">\n",
       "      <th></th>\n",
       "      <th>trip_id</th>\n",
       "      <th>start_time</th>\n",
       "      <th>end_time</th>\n",
       "      <th>bikeid</th>\n",
       "      <th>tripduration</th>\n",
       "      <th>from_station_id</th>\n",
       "      <th>from_station_name</th>\n",
       "      <th>to_station_id</th>\n",
       "      <th>to_station_name</th>\n",
       "      <th>usertype</th>\n",
       "      <th>gender</th>\n",
       "      <th>birthyear</th>\n",
       "    </tr>\n",
       "  </thead>\n",
       "  <tbody>\n",
       "    <tr>\n",
       "      <th>0</th>\n",
       "      <td>21742443</td>\n",
       "      <td>2019-01-01 00:04:37</td>\n",
       "      <td>2019-01-01 00:11:07</td>\n",
       "      <td>2167</td>\n",
       "      <td>390.0</td>\n",
       "      <td>199</td>\n",
       "      <td>Wabash Ave &amp; Grand Ave</td>\n",
       "      <td>84</td>\n",
       "      <td>Milwaukee Ave &amp; Grand Ave</td>\n",
       "      <td>Subscriber</td>\n",
       "      <td>Male</td>\n",
       "      <td>1989.0</td>\n",
       "    </tr>\n",
       "    <tr>\n",
       "      <th>1</th>\n",
       "      <td>21742444</td>\n",
       "      <td>2019-01-01 00:08:13</td>\n",
       "      <td>2019-01-01 00:15:34</td>\n",
       "      <td>4386</td>\n",
       "      <td>441.0</td>\n",
       "      <td>44</td>\n",
       "      <td>State St &amp; Randolph St</td>\n",
       "      <td>624</td>\n",
       "      <td>Dearborn St &amp; Van Buren St (*)</td>\n",
       "      <td>Subscriber</td>\n",
       "      <td>Female</td>\n",
       "      <td>1990.0</td>\n",
       "    </tr>\n",
       "    <tr>\n",
       "      <th>2</th>\n",
       "      <td>21742445</td>\n",
       "      <td>2019-01-01 00:13:23</td>\n",
       "      <td>2019-01-01 00:27:12</td>\n",
       "      <td>1524</td>\n",
       "      <td>829.0</td>\n",
       "      <td>15</td>\n",
       "      <td>Racine Ave &amp; 18th St</td>\n",
       "      <td>644</td>\n",
       "      <td>Western Ave &amp; Fillmore St (*)</td>\n",
       "      <td>Subscriber</td>\n",
       "      <td>Female</td>\n",
       "      <td>1994.0</td>\n",
       "    </tr>\n",
       "    <tr>\n",
       "      <th>3</th>\n",
       "      <td>21742446</td>\n",
       "      <td>2019-01-01 00:13:45</td>\n",
       "      <td>2019-01-01 00:43:28</td>\n",
       "      <td>252</td>\n",
       "      <td>1,783.0</td>\n",
       "      <td>123</td>\n",
       "      <td>California Ave &amp; Milwaukee Ave</td>\n",
       "      <td>176</td>\n",
       "      <td>Clark St &amp; Elm St</td>\n",
       "      <td>Subscriber</td>\n",
       "      <td>Male</td>\n",
       "      <td>1993.0</td>\n",
       "    </tr>\n",
       "    <tr>\n",
       "      <th>4</th>\n",
       "      <td>21742447</td>\n",
       "      <td>2019-01-01 00:14:52</td>\n",
       "      <td>2019-01-01 00:20:56</td>\n",
       "      <td>1170</td>\n",
       "      <td>364.0</td>\n",
       "      <td>173</td>\n",
       "      <td>Mies van der Rohe Way &amp; Chicago Ave</td>\n",
       "      <td>35</td>\n",
       "      <td>Streeter Dr &amp; Grand Ave</td>\n",
       "      <td>Subscriber</td>\n",
       "      <td>Male</td>\n",
       "      <td>1994.0</td>\n",
       "    </tr>\n",
       "  </tbody>\n",
       "</table>\n",
       "</div>"
      ],
      "text/plain": [
       "    trip_id           start_time             end_time  bikeid tripduration  \\\n",
       "0  21742443  2019-01-01 00:04:37  2019-01-01 00:11:07    2167        390.0   \n",
       "1  21742444  2019-01-01 00:08:13  2019-01-01 00:15:34    4386        441.0   \n",
       "2  21742445  2019-01-01 00:13:23  2019-01-01 00:27:12    1524        829.0   \n",
       "3  21742446  2019-01-01 00:13:45  2019-01-01 00:43:28     252      1,783.0   \n",
       "4  21742447  2019-01-01 00:14:52  2019-01-01 00:20:56    1170        364.0   \n",
       "\n",
       "   from_station_id                    from_station_name  to_station_id  \\\n",
       "0              199               Wabash Ave & Grand Ave             84   \n",
       "1               44               State St & Randolph St            624   \n",
       "2               15                 Racine Ave & 18th St            644   \n",
       "3              123       California Ave & Milwaukee Ave            176   \n",
       "4              173  Mies van der Rohe Way & Chicago Ave             35   \n",
       "\n",
       "                  to_station_name    usertype  gender  birthyear  \n",
       "0       Milwaukee Ave & Grand Ave  Subscriber    Male     1989.0  \n",
       "1  Dearborn St & Van Buren St (*)  Subscriber  Female     1990.0  \n",
       "2   Western Ave & Fillmore St (*)  Subscriber  Female     1994.0  \n",
       "3               Clark St & Elm St  Subscriber    Male     1993.0  \n",
       "4         Streeter Dr & Grand Ave  Subscriber    Male     1994.0  "
      ]
     },
     "execution_count": 3,
     "metadata": {},
     "output_type": "execute_result"
    }
   ],
   "source": [
    "data_2019.head()"
   ]
  },
  {
   "cell_type": "code",
   "execution_count": 7,
   "id": "3531717e",
   "metadata": {},
   "outputs": [
    {
     "data": {
      "text/plain": [
       "6259"
      ]
     },
     "execution_count": 7,
     "metadata": {},
     "output_type": "execute_result"
    }
   ],
   "source": [
    "len(data_2019['bikeid'].unique())\n",
    "#количество велосипедов"
   ]
  },
  {
   "cell_type": "code",
   "execution_count": null,
   "id": "fc8d445f",
   "metadata": {},
   "outputs": [
    {
     "name": "stderr",
     "output_type": "stream",
     "text": [
      "/tmp/ipykernel_58260/3578714930.py:1: DtypeWarning: Columns (5,7) have mixed types. Specify dtype option on import or set low_memory=False.\n",
      "  data_2020 = pd.read_csv(\"Divvy_Trips_2020_full.csv\")\n"
     ]
    }
   ],
   "source": [
    "data_2020 = pd.read_csv(\"Divvy_Trips_2020_full.csv\")"
   ]
  },
  {
   "cell_type": "code",
   "execution_count": null,
   "id": "1ce093d9",
   "metadata": {},
   "outputs": [],
   "source": [
    "data_2020.head()"
   ]
  },
  {
   "cell_type": "code",
   "execution_count": 10,
   "id": "01d90f38",
   "metadata": {},
   "outputs": [],
   "source": [
    "def get(line):\n",
    "    r = line.split(',')\n",
    "    trip_id = r[0]\n",
    "    start_time = r[1]\n",
    "    end_time = r[2]\n",
    "    bikeid = r[3]\n",
    "    tripduration = r[4]\n",
    "    from_station = r[5]\n",
    "    from_station_name = r[6]\n",
    "    to_station_id = r[7]\n",
    "    to_station_name = r[8]\n",
    "    usertype = r[9]\n",
    "    gender = r[10]\n",
    "    birthyear = r[11]\n",
    "    return trip_id, start_time, end_time, bikeid, tripduration, from_station_name, to_station_name\n",
    "def get2(line):\n",
    "    r = line[0]\n",
    "    l = line\n",
    "def get3(line):\n",
    "    p = line.split(',')\n",
    "    return p[4], (p[8], p[9])\n",
    "def result_table(line):\n",
    "    main_part = line[0][0]\n",
    "    from_place = line[0][1]\n",
    "    to_place = line[1]\n",
    "    return f\"{main_part[0]},{main_part[1]},{main_part[2]},{main_part[3]},{main_part[4]},{main_part[5]},{main_part[6]},{from_place[0]},{from_place[1]},{to_place[0]},{to_place[1]}\""
   ]
  },
  {
   "cell_type": "code",
   "execution_count": 12,
   "id": "52cf6952",
   "metadata": {},
   "outputs": [
    {
     "name": "stderr",
     "output_type": "stream",
     "text": [
      "                                                                                \r"
     ]
    }
   ],
   "source": [
    "data = sc.textFile(\"Divvy_Trips_2019_full.csv\").map(get).keyBy(lambda x: x[5])\n",
    "\n",
    "station_info = sc.textFile(\"Divvy_Trips_2020_full.csv\").map(get3) \\\n",
    ".reduceByKey(lambda a, b: a)\n",
    "\n",
    "data = data.join(station_info).map(lambda x: x[1]).keyBy(lambda x: x[0][6]).join(station_info) \\\n",
    ".map(lambda x: x[1]).map(result_table).coalesce(1).saveAsTextFile(\"table_with_geo\")"
   ]
  },
  {
   "cell_type": "code",
   "execution_count": 3,
   "id": "64abbf7b",
   "metadata": {},
   "outputs": [],
   "source": [
    "df = pd.read_csv(\"table_with_geo/part-00000\")"
   ]
  },
  {
   "cell_type": "code",
   "execution_count": 4,
   "id": "527f67df",
   "metadata": {},
   "outputs": [],
   "source": [
    "df.columns = ['trip_id', 'start_time', 'end_time', 'bikeid', 'tripduration', 'from_station_name', 'to_station_name', 'start_lat', 'start_lng', 'end_lat', 'end_lng']"
   ]
  },
  {
   "cell_type": "code",
   "execution_count": 5,
   "id": "c1ba24e6",
   "metadata": {},
   "outputs": [],
   "source": [
    "df = df[df[\"start_time\"] < df['end_time']]\n",
    "df = df.dropna(subset=['start_time', 'end_time'])"
   ]
  },
  {
   "cell_type": "code",
   "execution_count": 6,
   "id": "a74c6fd2",
   "metadata": {},
   "outputs": [],
   "source": [
    "df[\"distance\"] = df.apply(\n",
    "    lambda x: float(str(GD(\n",
    "        (x[\"start_lat\"], x[\"start_lng\"]), (x[\"end_lat\"], x[\"start_lng\"])))[:-3]\n",
    "    ) +\n",
    "    float(str(GD(\n",
    "        (x[\"end_lat\"], x[\"start_lng\"]), (x[\"end_lat\"], x[\"end_lng\"])))[:-3]\n",
    "    )\n",
    "    ,\n",
    "    axis=1,\n",
    ")"
   ]
  },
  {
   "cell_type": "code",
   "execution_count": 7,
   "id": "a6793f68",
   "metadata": {},
   "outputs": [],
   "source": [
    "df.columns = ['trip_id', 'start_time', 'end_time', 'bikeid', 'tripduration', 'from_station_name', 'to_station_name', 'start_lat', 'start_lng', 'end_lat','end_lng', 'distance, km']"
   ]
  },
  {
   "cell_type": "code",
   "execution_count": 8,
   "id": "43f21e29",
   "metadata": {},
   "outputs": [],
   "source": [
    "df[\"speed\"] = df.apply(\n",
    "    lambda x: x['distance, km'] / (x['tripduration'] / 3600),\n",
    "    axis=1,\n",
    ")"
   ]
  },
  {
   "cell_type": "code",
   "execution_count": 9,
   "id": "0ed9b7d5",
   "metadata": {},
   "outputs": [
    {
     "data": {
      "text/html": [
       "<div>\n",
       "<style scoped>\n",
       "    .dataframe tbody tr th:only-of-type {\n",
       "        vertical-align: middle;\n",
       "    }\n",
       "\n",
       "    .dataframe tbody tr th {\n",
       "        vertical-align: top;\n",
       "    }\n",
       "\n",
       "    .dataframe thead th {\n",
       "        text-align: right;\n",
       "    }\n",
       "</style>\n",
       "<table border=\"1\" class=\"dataframe\">\n",
       "  <thead>\n",
       "    <tr style=\"text-align: right;\">\n",
       "      <th></th>\n",
       "      <th>trip_id</th>\n",
       "      <th>start_time</th>\n",
       "      <th>end_time</th>\n",
       "      <th>bikeid</th>\n",
       "      <th>tripduration</th>\n",
       "      <th>from_station_name</th>\n",
       "      <th>to_station_name</th>\n",
       "      <th>start_lat</th>\n",
       "      <th>start_lng</th>\n",
       "      <th>end_lat</th>\n",
       "      <th>end_lng</th>\n",
       "      <th>distance, km</th>\n",
       "      <th>speed</th>\n",
       "    </tr>\n",
       "  </thead>\n",
       "  <tbody>\n",
       "    <tr>\n",
       "      <th>0</th>\n",
       "      <td>13381389</td>\n",
       "      <td>3/8/2017 17:28:08</td>\n",
       "      <td>3/8/2017 17:40:32</td>\n",
       "      <td>1193</td>\n",
       "      <td>744.0</td>\n",
       "      <td>Sheridan Rd &amp; Montrose Ave</td>\n",
       "      <td>Lakefront Trail &amp; Bryn Mawr Ave</td>\n",
       "      <td>41.9617</td>\n",
       "      <td>-87.6546</td>\n",
       "      <td>41.984</td>\n",
       "      <td>-87.6523</td>\n",
       "      <td>2.667527</td>\n",
       "      <td>12.907388</td>\n",
       "    </tr>\n",
       "    <tr>\n",
       "      <th>1</th>\n",
       "      <td>13319510</td>\n",
       "      <td>2/27/2017 17:32:05</td>\n",
       "      <td>2/27/2017 17:44:16</td>\n",
       "      <td>199</td>\n",
       "      <td>731.0</td>\n",
       "      <td>Sheridan Rd &amp; Montrose Ave</td>\n",
       "      <td>Lakefront Trail &amp; Bryn Mawr Ave</td>\n",
       "      <td>41.9617</td>\n",
       "      <td>-87.6546</td>\n",
       "      <td>41.984</td>\n",
       "      <td>-87.6523</td>\n",
       "      <td>2.667527</td>\n",
       "      <td>13.136932</td>\n",
       "    </tr>\n",
       "    <tr>\n",
       "      <th>2</th>\n",
       "      <td>13289642</td>\n",
       "      <td>2/22/2017 17:29:51</td>\n",
       "      <td>2/22/2017 17:41:50</td>\n",
       "      <td>5430</td>\n",
       "      <td>719.0</td>\n",
       "      <td>Sheridan Rd &amp; Montrose Ave</td>\n",
       "      <td>Lakefront Trail &amp; Bryn Mawr Ave</td>\n",
       "      <td>41.9617</td>\n",
       "      <td>-87.6546</td>\n",
       "      <td>41.984</td>\n",
       "      <td>-87.6523</td>\n",
       "      <td>2.667527</td>\n",
       "      <td>13.356185</td>\n",
       "    </tr>\n",
       "    <tr>\n",
       "      <th>3</th>\n",
       "      <td>13284692</td>\n",
       "      <td>2/22/2017 12:17:16</td>\n",
       "      <td>2/22/2017 12:32:05</td>\n",
       "      <td>2735</td>\n",
       "      <td>889.0</td>\n",
       "      <td>Sheridan Rd &amp; Montrose Ave</td>\n",
       "      <td>Lakefront Trail &amp; Bryn Mawr Ave</td>\n",
       "      <td>41.9617</td>\n",
       "      <td>-87.6546</td>\n",
       "      <td>41.984</td>\n",
       "      <td>-87.6523</td>\n",
       "      <td>2.667527</td>\n",
       "      <td>10.802134</td>\n",
       "    </tr>\n",
       "    <tr>\n",
       "      <th>4</th>\n",
       "      <td>13228790</td>\n",
       "      <td>2/17/2017 17:23:00</td>\n",
       "      <td>2/17/2017 17:33:56</td>\n",
       "      <td>3845</td>\n",
       "      <td>656.0</td>\n",
       "      <td>Sheridan Rd &amp; Montrose Ave</td>\n",
       "      <td>Lakefront Trail &amp; Bryn Mawr Ave</td>\n",
       "      <td>41.9617</td>\n",
       "      <td>-87.6546</td>\n",
       "      <td>41.984</td>\n",
       "      <td>-87.6523</td>\n",
       "      <td>2.667527</td>\n",
       "      <td>14.638867</td>\n",
       "    </tr>\n",
       "    <tr>\n",
       "      <th>...</th>\n",
       "      <td>...</td>\n",
       "      <td>...</td>\n",
       "      <td>...</td>\n",
       "      <td>...</td>\n",
       "      <td>...</td>\n",
       "      <td>...</td>\n",
       "      <td>...</td>\n",
       "      <td>...</td>\n",
       "      <td>...</td>\n",
       "      <td>...</td>\n",
       "      <td>...</td>\n",
       "      <td>...</td>\n",
       "      <td>...</td>\n",
       "    </tr>\n",
       "    <tr>\n",
       "      <th>95</th>\n",
       "      <td>14220321</td>\n",
       "      <td>5/29/2017 15:48:45</td>\n",
       "      <td>5/29/2017 16:15:05</td>\n",
       "      <td>4356</td>\n",
       "      <td>1580.0</td>\n",
       "      <td>Broadway &amp; Belmont Ave</td>\n",
       "      <td>Lakefront Trail &amp; Bryn Mawr Ave</td>\n",
       "      <td>41.9401</td>\n",
       "      <td>-87.6455</td>\n",
       "      <td>41.984</td>\n",
       "      <td>-87.6523</td>\n",
       "      <td>5.439611</td>\n",
       "      <td>12.394051</td>\n",
       "    </tr>\n",
       "    <tr>\n",
       "      <th>96</th>\n",
       "      <td>14186539</td>\n",
       "      <td>5/27/2017 16:51:54</td>\n",
       "      <td>5/27/2017 17:21:26</td>\n",
       "      <td>5141</td>\n",
       "      <td>1772.0</td>\n",
       "      <td>Broadway &amp; Belmont Ave</td>\n",
       "      <td>Lakefront Trail &amp; Bryn Mawr Ave</td>\n",
       "      <td>41.9401</td>\n",
       "      <td>-87.6455</td>\n",
       "      <td>41.984</td>\n",
       "      <td>-87.6523</td>\n",
       "      <td>5.439611</td>\n",
       "      <td>11.051129</td>\n",
       "    </tr>\n",
       "    <tr>\n",
       "      <th>97</th>\n",
       "      <td>14186523</td>\n",
       "      <td>5/27/2017 16:51:22</td>\n",
       "      <td>5/27/2017 17:21:35</td>\n",
       "      <td>865</td>\n",
       "      <td>1813.0</td>\n",
       "      <td>Broadway &amp; Belmont Ave</td>\n",
       "      <td>Lakefront Trail &amp; Bryn Mawr Ave</td>\n",
       "      <td>41.9401</td>\n",
       "      <td>-87.6455</td>\n",
       "      <td>41.984</td>\n",
       "      <td>-87.6523</td>\n",
       "      <td>5.439611</td>\n",
       "      <td>10.801213</td>\n",
       "    </tr>\n",
       "    <tr>\n",
       "      <th>98</th>\n",
       "      <td>13998479</td>\n",
       "      <td>5/14/2017 11:30:56</td>\n",
       "      <td>5/14/2017 11:54:24</td>\n",
       "      <td>866</td>\n",
       "      <td>1408.0</td>\n",
       "      <td>Broadway &amp; Belmont Ave</td>\n",
       "      <td>Lakefront Trail &amp; Bryn Mawr Ave</td>\n",
       "      <td>41.9401</td>\n",
       "      <td>-87.6455</td>\n",
       "      <td>41.984</td>\n",
       "      <td>-87.6523</td>\n",
       "      <td>5.439611</td>\n",
       "      <td>13.908097</td>\n",
       "    </tr>\n",
       "    <tr>\n",
       "      <th>99</th>\n",
       "      <td>13936020</td>\n",
       "      <td>5/9/2017 19:09:45</td>\n",
       "      <td>5/9/2017 19:29:23</td>\n",
       "      <td>3518</td>\n",
       "      <td>1178.0</td>\n",
       "      <td>Broadway &amp; Belmont Ave</td>\n",
       "      <td>Lakefront Trail &amp; Bryn Mawr Ave</td>\n",
       "      <td>41.9401</td>\n",
       "      <td>-87.6455</td>\n",
       "      <td>41.984</td>\n",
       "      <td>-87.6523</td>\n",
       "      <td>5.439611</td>\n",
       "      <td>16.623599</td>\n",
       "    </tr>\n",
       "  </tbody>\n",
       "</table>\n",
       "<p>100 rows × 13 columns</p>\n",
       "</div>"
      ],
      "text/plain": [
       "     trip_id          start_time            end_time  bikeid  tripduration  \\\n",
       "0   13381389   3/8/2017 17:28:08   3/8/2017 17:40:32    1193         744.0   \n",
       "1   13319510  2/27/2017 17:32:05  2/27/2017 17:44:16     199         731.0   \n",
       "2   13289642  2/22/2017 17:29:51  2/22/2017 17:41:50    5430         719.0   \n",
       "3   13284692  2/22/2017 12:17:16  2/22/2017 12:32:05    2735         889.0   \n",
       "4   13228790  2/17/2017 17:23:00  2/17/2017 17:33:56    3845         656.0   \n",
       "..       ...                 ...                 ...     ...           ...   \n",
       "95  14220321  5/29/2017 15:48:45  5/29/2017 16:15:05    4356        1580.0   \n",
       "96  14186539  5/27/2017 16:51:54  5/27/2017 17:21:26    5141        1772.0   \n",
       "97  14186523  5/27/2017 16:51:22  5/27/2017 17:21:35     865        1813.0   \n",
       "98  13998479  5/14/2017 11:30:56  5/14/2017 11:54:24     866        1408.0   \n",
       "99  13936020   5/9/2017 19:09:45   5/9/2017 19:29:23    3518        1178.0   \n",
       "\n",
       "             from_station_name                  to_station_name  start_lat  \\\n",
       "0   Sheridan Rd & Montrose Ave  Lakefront Trail & Bryn Mawr Ave    41.9617   \n",
       "1   Sheridan Rd & Montrose Ave  Lakefront Trail & Bryn Mawr Ave    41.9617   \n",
       "2   Sheridan Rd & Montrose Ave  Lakefront Trail & Bryn Mawr Ave    41.9617   \n",
       "3   Sheridan Rd & Montrose Ave  Lakefront Trail & Bryn Mawr Ave    41.9617   \n",
       "4   Sheridan Rd & Montrose Ave  Lakefront Trail & Bryn Mawr Ave    41.9617   \n",
       "..                         ...                              ...        ...   \n",
       "95      Broadway & Belmont Ave  Lakefront Trail & Bryn Mawr Ave    41.9401   \n",
       "96      Broadway & Belmont Ave  Lakefront Trail & Bryn Mawr Ave    41.9401   \n",
       "97      Broadway & Belmont Ave  Lakefront Trail & Bryn Mawr Ave    41.9401   \n",
       "98      Broadway & Belmont Ave  Lakefront Trail & Bryn Mawr Ave    41.9401   \n",
       "99      Broadway & Belmont Ave  Lakefront Trail & Bryn Mawr Ave    41.9401   \n",
       "\n",
       "    start_lng  end_lat  end_lng  distance, km      speed  \n",
       "0    -87.6546   41.984 -87.6523      2.667527  12.907388  \n",
       "1    -87.6546   41.984 -87.6523      2.667527  13.136932  \n",
       "2    -87.6546   41.984 -87.6523      2.667527  13.356185  \n",
       "3    -87.6546   41.984 -87.6523      2.667527  10.802134  \n",
       "4    -87.6546   41.984 -87.6523      2.667527  14.638867  \n",
       "..        ...      ...      ...           ...        ...  \n",
       "95   -87.6455   41.984 -87.6523      5.439611  12.394051  \n",
       "96   -87.6455   41.984 -87.6523      5.439611  11.051129  \n",
       "97   -87.6455   41.984 -87.6523      5.439611  10.801213  \n",
       "98   -87.6455   41.984 -87.6523      5.439611  13.908097  \n",
       "99   -87.6455   41.984 -87.6523      5.439611  16.623599  \n",
       "\n",
       "[100 rows x 13 columns]"
      ]
     },
     "execution_count": 9,
     "metadata": {},
     "output_type": "execute_result"
    }
   ],
   "source": [
    "df.head(100)"
   ]
  },
  {
   "cell_type": "code",
   "execution_count": 10,
   "id": "c6d888ea",
   "metadata": {},
   "outputs": [
    {
     "data": {
      "text/plain": [
       "trip_id                int64\n",
       "start_time            object\n",
       "end_time              object\n",
       "bikeid                 int64\n",
       "tripduration         float64\n",
       "from_station_name     object\n",
       "to_station_name       object\n",
       "start_lat            float64\n",
       "start_lng            float64\n",
       "end_lat              float64\n",
       "end_lng              float64\n",
       "distance, km         float64\n",
       "speed                float64\n",
       "dtype: object"
      ]
     },
     "execution_count": 10,
     "metadata": {},
     "output_type": "execute_result"
    }
   ],
   "source": [
    "df.dtypes"
   ]
  },
  {
   "cell_type": "code",
   "execution_count": 74,
   "id": "bf7917bf",
   "metadata": {},
   "outputs": [
    {
     "data": {
      "text/plain": [
       "6258"
      ]
     },
     "execution_count": 74,
     "metadata": {},
     "output_type": "execute_result"
    }
   ],
   "source": [
    "#количество велосипедов, использованных в 2019 году\n",
    "len(df['bikeid'].unique())"
   ]
  },
  {
   "cell_type": "code",
   "execution_count": 53,
   "id": "a9b6c35d",
   "metadata": {},
   "outputs": [
    {
     "data": {
      "text/plain": [
       "2.4112437849275064"
      ]
     },
     "execution_count": 53,
     "metadata": {},
     "output_type": "execute_result"
    }
   ],
   "source": [
    "#среднее расстояние пройденное за одну поездку в км\n",
    "df['distance, km'].mean()"
   ]
  },
  {
   "cell_type": "code",
   "execution_count": 78,
   "id": "c4914e60",
   "metadata": {},
   "outputs": [
    {
     "data": {
      "text/plain": [
       "1.9424417488931685"
      ]
     },
     "execution_count": 78,
     "metadata": {},
     "output_type": "execute_result"
    }
   ],
   "source": [
    "#медианное расстояние пройденное за одну поездку в км\n",
    "df['distance, km'].median()"
   ]
  },
  {
   "cell_type": "code",
   "execution_count": 79,
   "id": "47562984",
   "metadata": {},
   "outputs": [
    {
     "name": "stderr",
     "output_type": "stream",
     "text": [
      "C:\\Users\\Ульяна\\AppData\\Local\\Temp\\ipykernel_1780\\3041403492.py:2: FutureWarning: The default value of numeric_only in DataFrameGroupBy.sum is deprecated. In a future version, numeric_only will default to False. Either specify numeric_only or select only columns which should be valid for the function.\n",
      "  df.groupby(['bikeid']).sum()['distance, km'].median(numeric_only=True)\n"
     ]
    },
    {
     "data": {
      "text/plain": [
       "1473.9689452874693"
      ]
     },
     "execution_count": 79,
     "metadata": {},
     "output_type": "execute_result"
    }
   ],
   "source": [
    "#медианное расстояние в км на велосипедах за год\n",
    "df.groupby(['bikeid']).sum()['distance, km'].median(numeric_only=True)"
   ]
  },
  {
   "cell_type": "code",
   "execution_count": 17,
   "id": "c82ab9a1",
   "metadata": {},
   "outputs": [
    {
     "data": {
      "text/html": [
       "<div>\n",
       "<style scoped>\n",
       "    .dataframe tbody tr th:only-of-type {\n",
       "        vertical-align: middle;\n",
       "    }\n",
       "\n",
       "    .dataframe tbody tr th {\n",
       "        vertical-align: top;\n",
       "    }\n",
       "\n",
       "    .dataframe thead th {\n",
       "        text-align: right;\n",
       "    }\n",
       "</style>\n",
       "<table border=\"1\" class=\"dataframe\">\n",
       "  <thead>\n",
       "    <tr style=\"text-align: right;\">\n",
       "      <th></th>\n",
       "      <th>trip_id</th>\n",
       "      <th>start_time</th>\n",
       "      <th>end_time</th>\n",
       "      <th>bikeid</th>\n",
       "      <th>tripduration</th>\n",
       "      <th>from_station_name</th>\n",
       "      <th>to_station_name</th>\n",
       "      <th>start_lat</th>\n",
       "      <th>start_lng</th>\n",
       "      <th>end_lat</th>\n",
       "      <th>end_lng</th>\n",
       "      <th>distance, km</th>\n",
       "      <th>speed</th>\n",
       "    </tr>\n",
       "  </thead>\n",
       "  <tbody>\n",
       "    <tr>\n",
       "      <th>0</th>\n",
       "      <td>13381389</td>\n",
       "      <td>3/8/2017 17:28:08</td>\n",
       "      <td>3/8/2017 17:40:32</td>\n",
       "      <td>1193</td>\n",
       "      <td>744.0</td>\n",
       "      <td>Sheridan Rd &amp; Montrose Ave</td>\n",
       "      <td>Lakefront Trail &amp; Bryn Mawr Ave</td>\n",
       "      <td>41.9617</td>\n",
       "      <td>-87.6546</td>\n",
       "      <td>41.984</td>\n",
       "      <td>-87.6523</td>\n",
       "      <td>2.667527</td>\n",
       "      <td>12.907388</td>\n",
       "    </tr>\n",
       "    <tr>\n",
       "      <th>1</th>\n",
       "      <td>13319510</td>\n",
       "      <td>2/27/2017 17:32:05</td>\n",
       "      <td>2/27/2017 17:44:16</td>\n",
       "      <td>199</td>\n",
       "      <td>731.0</td>\n",
       "      <td>Sheridan Rd &amp; Montrose Ave</td>\n",
       "      <td>Lakefront Trail &amp; Bryn Mawr Ave</td>\n",
       "      <td>41.9617</td>\n",
       "      <td>-87.6546</td>\n",
       "      <td>41.984</td>\n",
       "      <td>-87.6523</td>\n",
       "      <td>2.667527</td>\n",
       "      <td>13.136932</td>\n",
       "    </tr>\n",
       "    <tr>\n",
       "      <th>2</th>\n",
       "      <td>13289642</td>\n",
       "      <td>2/22/2017 17:29:51</td>\n",
       "      <td>2/22/2017 17:41:50</td>\n",
       "      <td>5430</td>\n",
       "      <td>719.0</td>\n",
       "      <td>Sheridan Rd &amp; Montrose Ave</td>\n",
       "      <td>Lakefront Trail &amp; Bryn Mawr Ave</td>\n",
       "      <td>41.9617</td>\n",
       "      <td>-87.6546</td>\n",
       "      <td>41.984</td>\n",
       "      <td>-87.6523</td>\n",
       "      <td>2.667527</td>\n",
       "      <td>13.356185</td>\n",
       "    </tr>\n",
       "    <tr>\n",
       "      <th>3</th>\n",
       "      <td>13284692</td>\n",
       "      <td>2/22/2017 12:17:16</td>\n",
       "      <td>2/22/2017 12:32:05</td>\n",
       "      <td>2735</td>\n",
       "      <td>889.0</td>\n",
       "      <td>Sheridan Rd &amp; Montrose Ave</td>\n",
       "      <td>Lakefront Trail &amp; Bryn Mawr Ave</td>\n",
       "      <td>41.9617</td>\n",
       "      <td>-87.6546</td>\n",
       "      <td>41.984</td>\n",
       "      <td>-87.6523</td>\n",
       "      <td>2.667527</td>\n",
       "      <td>10.802134</td>\n",
       "    </tr>\n",
       "    <tr>\n",
       "      <th>4</th>\n",
       "      <td>13228790</td>\n",
       "      <td>2/17/2017 17:23:00</td>\n",
       "      <td>2/17/2017 17:33:56</td>\n",
       "      <td>3845</td>\n",
       "      <td>656.0</td>\n",
       "      <td>Sheridan Rd &amp; Montrose Ave</td>\n",
       "      <td>Lakefront Trail &amp; Bryn Mawr Ave</td>\n",
       "      <td>41.9617</td>\n",
       "      <td>-87.6546</td>\n",
       "      <td>41.984</td>\n",
       "      <td>-87.6523</td>\n",
       "      <td>2.667527</td>\n",
       "      <td>14.638867</td>\n",
       "    </tr>\n",
       "  </tbody>\n",
       "</table>\n",
       "</div>"
      ],
      "text/plain": [
       "    trip_id          start_time            end_time  bikeid  tripduration  \\\n",
       "0  13381389   3/8/2017 17:28:08   3/8/2017 17:40:32    1193         744.0   \n",
       "1  13319510  2/27/2017 17:32:05  2/27/2017 17:44:16     199         731.0   \n",
       "2  13289642  2/22/2017 17:29:51  2/22/2017 17:41:50    5430         719.0   \n",
       "3  13284692  2/22/2017 12:17:16  2/22/2017 12:32:05    2735         889.0   \n",
       "4  13228790  2/17/2017 17:23:00  2/17/2017 17:33:56    3845         656.0   \n",
       "\n",
       "            from_station_name                  to_station_name  start_lat  \\\n",
       "0  Sheridan Rd & Montrose Ave  Lakefront Trail & Bryn Mawr Ave    41.9617   \n",
       "1  Sheridan Rd & Montrose Ave  Lakefront Trail & Bryn Mawr Ave    41.9617   \n",
       "2  Sheridan Rd & Montrose Ave  Lakefront Trail & Bryn Mawr Ave    41.9617   \n",
       "3  Sheridan Rd & Montrose Ave  Lakefront Trail & Bryn Mawr Ave    41.9617   \n",
       "4  Sheridan Rd & Montrose Ave  Lakefront Trail & Bryn Mawr Ave    41.9617   \n",
       "\n",
       "   start_lng  end_lat  end_lng  distance, km      speed  \n",
       "0   -87.6546   41.984 -87.6523      2.667527  12.907388  \n",
       "1   -87.6546   41.984 -87.6523      2.667527  13.136932  \n",
       "2   -87.6546   41.984 -87.6523      2.667527  13.356185  \n",
       "3   -87.6546   41.984 -87.6523      2.667527  10.802134  \n",
       "4   -87.6546   41.984 -87.6523      2.667527  14.638867  "
      ]
     },
     "execution_count": 17,
     "metadata": {},
     "output_type": "execute_result"
    }
   ],
   "source": [
    "df.head()"
   ]
  },
  {
   "cell_type": "code",
   "execution_count": 18,
   "id": "be1f3a27",
   "metadata": {},
   "outputs": [
    {
     "data": {
      "text/plain": [
       "11.933039650219657"
      ]
     },
     "execution_count": 18,
     "metadata": {},
     "output_type": "execute_result"
    }
   ],
   "source": [
    "#медианная скорость в км.ч\n",
    "df['speed'].median()"
   ]
  },
  {
   "cell_type": "code",
   "execution_count": 70,
   "id": "d027a361",
   "metadata": {},
   "outputs": [
    {
     "name": "stderr",
     "output_type": "stream",
     "text": [
      "C:\\Users\\Ульяна\\AppData\\Local\\Temp\\ipykernel_1780\\557023359.py:6: UserWarning: \n",
      "\n",
      "`distplot` is a deprecated function and will be removed in seaborn v0.14.0.\n",
      "\n",
      "Please adapt your code to use either `displot` (a figure-level function with\n",
      "similar flexibility) or `histplot` (an axes-level function for histograms).\n",
      "\n",
      "For a guide to updating your code to use the new functions, please see\n",
      "https://gist.github.com/mwaskom/de44147ed2974457ad6372750bbe5751\n",
      "\n",
      "  sns.distplot(df['speed'], hist=True, kde=False,\n"
     ]
    },
    {
     "data": {
      "text/plain": [
       "<matplotlib.lines.Line2D at 0x1cc31401f60>"
      ]
     },
     "execution_count": 70,
     "metadata": {},
     "output_type": "execute_result"
    },
    {
     "data": {
      "image/png": "[encoded data removed]",
      "text/plain": [
       "<Figure size 640x480 with 1 Axes>"
      ]
     },
     "metadata": {},
     "output_type": "display_data"
    }
   ],
   "source": [
    "# matplotlib histogram\n",
    "plt.hist(df['speed'], color = 'blue', edgecolor = 'black',\n",
    "         bins = int(180/5))\n",
    "\n",
    "# seaborn histogram\n",
    "sns.distplot(df['speed'], hist=True, kde=False, \n",
    "             bins=int(180/5), color = 'blue',\n",
    "             hist_kws={'edgecolor':'black'})\n",
    "# Add labels\n",
    "plt.title('Histogram of speeds')\n",
    "plt.xlabel('speed')\n",
    "plt.ylabel('n')\n",
    "mean = np.mean(df['speed'])\n",
    "plt.axvline(mean, color='r', linestyle='dashed', linewidth=2)\n",
    "median = np.median(df['speed'])\n",
    "plt.axvline(median, color='orange', linestyle='dashed', linewidth=2)\n",
    "q1 = np.quantile(df['speed'], 0.025)\n",
    "q3 = np.quantile(df['speed'], 0.975)\n",
    "plt.axvline(q1, color='green', linestyle='-.')\n",
    "plt.axvline(q3, color='yellow', linestyle='-.')"
   ]
  },
  {
   "cell_type": "code",
   "execution_count": 71,
   "id": "cc617e52",
   "metadata": {},
   "outputs": [
    {
     "data": {
      "text/plain": [
       "12.089774607237507"
      ]
     },
     "execution_count": 71,
     "metadata": {},
     "output_type": "execute_result"
    }
   ],
   "source": [
    "#средняя скоровь в км.ч\n",
    "df['speed'].median()"
   ]
  },
  {
   "cell_type": "code",
   "execution_count": 69,
   "id": "74529304",
   "metadata": {},
   "outputs": [],
   "source": [
    "df = df[df['speed'] <= 25]\n",
    "df = df[df['distance, km'] != 0]\n",
    "df = df[df['tripduration'] > 60]"
   ]
  },
  {
   "cell_type": "code",
   "execution_count": 72,
   "id": "6617d903",
   "metadata": {},
   "outputs": [
    {
     "data": {
      "text/plain": [
       "3549833"
      ]
     },
     "execution_count": 72,
     "metadata": {},
     "output_type": "execute_result"
    }
   ],
   "source": [
    "len(df)"
   ]
  },
  {
   "cell_type": "code",
   "execution_count": 73,
   "id": "1701dd46",
   "metadata": {},
   "outputs": [
    {
     "data": {
      "text/plain": [
       "3673727"
      ]
     },
     "execution_count": 73,
     "metadata": {},
     "output_type": "execute_result"
    }
   ],
   "source": [
    "len(copy_df)"
   ]
  },
  {
   "cell_type": "code",
   "execution_count": 46,
   "id": "7ca27820",
   "metadata": {},
   "outputs": [],
   "source": [
    "#copy_df = df[:]"
   ]
  },
  {
   "cell_type": "code",
   "execution_count": 77,
   "id": "add51495",
   "metadata": {},
   "outputs": [
    {
     "data": {
      "text/plain": [
       "479329.6743505306"
      ]
     },
     "execution_count": 77,
     "metadata": {},
     "output_type": "execute_result"
    }
   ],
   "source": [
    "#тормозные колодки\n",
    "#Кассета и её система\n",
    "#цепь\n",
    "#вилка\n",
    "#рулевая колонка\n",
    "len(df['bikeid'].unique()) * (880 + 400 + 400 + 2200 + 1800 + 600) / 81.99"
   ]
  },
  {
   "cell_type": "code",
   "execution_count": null,
   "id": "9bff4f1a",
   "metadata": {},
   "outputs": [],
   "source": []
  }
 ],
 "metadata": {
  "kernelspec": {
   "display_name": "Python 3 (ipykernel)",
   "language": "python",
   "name": "python3"
  },
  "language_info": {
   "codemirror_mode": {
    "name": "ipython",
    "version": 3
   },
   "file_extension": ".py",
   "mimetype": "text/x-python",
   "name": "python",
   "nbconvert_exporter": "python",
   "pygments_lexer": "ipython3",
   "version": "3.10.7"
  }
 },
 "nbformat": 4,
 "nbformat_minor": 5
}
