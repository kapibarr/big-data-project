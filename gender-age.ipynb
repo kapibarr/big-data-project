{
 "cells": [
  {
   "cell_type": "code",
   "execution_count": 1,
   "id": "7489efbb",
   "metadata": {
    "ExecuteTime": {
     "end_time": "2023-04-19T16:11:46.743272Z",
     "start_time": "2023-04-19T16:11:46.732650Z"
    }
   },
   "outputs": [],
   "source": [
    "import pandas as pd\n",
    "import matplotlib.pyplot as plt"
   ]
  },
  {
   "cell_type": "code",
   "execution_count": 2,
   "id": "a27423a7",
   "metadata": {
    "ExecuteTime": {
     "end_time": "2023-04-19T12:12:59.405075Z",
     "start_time": "2023-04-19T12:12:08.217421Z"
    }
   },
   "outputs": [
    {
     "name": "stderr",
     "output_type": "stream",
     "text": [
      "C:\\Users\\fpokr\\AppData\\Local\\Temp\\ipykernel_16768\\672813569.py:1: DtypeWarning: Columns (4) have mixed types. Specify dtype option on import or set low_memory=False.\n",
      "  df = pd.read_csv(\"data/2019/Divvy_Trips_2019_full.csv.gz\", compression=\"gzip\")\n"
     ]
    }
   ],
   "source": [
    "df = pd.read_csv(\"data/2019/Divvy_Trips_2019_full.csv.gz\", compression=\"gzip\")"
   ]
  },
  {
   "cell_type": "code",
   "execution_count": 7,
   "id": "c90ebc6c",
   "metadata": {
    "ExecuteTime": {
     "end_time": "2023-04-19T12:13:09.317867Z",
     "start_time": "2023-04-19T12:13:08.601003Z"
    }
   },
   "outputs": [
    {
     "data": {
      "text/html": [
       "<div>\n",
       "<style scoped>\n",
       "    .dataframe tbody tr th:only-of-type {\n",
       "        vertical-align: middle;\n",
       "    }\n",
       "\n",
       "    .dataframe tbody tr th {\n",
       "        vertical-align: top;\n",
       "    }\n",
       "\n",
       "    .dataframe thead th {\n",
       "        text-align: right;\n",
       "    }\n",
       "</style>\n",
       "<table border=\"1\" class=\"dataframe\">\n",
       "  <thead>\n",
       "    <tr style=\"text-align: right;\">\n",
       "      <th></th>\n",
       "      <th>gender</th>\n",
       "      <th>birthyear</th>\n",
       "    </tr>\n",
       "  </thead>\n",
       "  <tbody>\n",
       "    <tr>\n",
       "      <th>0</th>\n",
       "      <td>Male</td>\n",
       "      <td>1989.0</td>\n",
       "    </tr>\n",
       "    <tr>\n",
       "      <th>1</th>\n",
       "      <td>Female</td>\n",
       "      <td>1990.0</td>\n",
       "    </tr>\n",
       "    <tr>\n",
       "      <th>2</th>\n",
       "      <td>Female</td>\n",
       "      <td>1994.0</td>\n",
       "    </tr>\n",
       "    <tr>\n",
       "      <th>3</th>\n",
       "      <td>Male</td>\n",
       "      <td>1993.0</td>\n",
       "    </tr>\n",
       "    <tr>\n",
       "      <th>4</th>\n",
       "      <td>Male</td>\n",
       "      <td>1994.0</td>\n",
       "    </tr>\n",
       "    <tr>\n",
       "      <th>...</th>\n",
       "      <td>...</td>\n",
       "      <td>...</td>\n",
       "    </tr>\n",
       "    <tr>\n",
       "      <th>4194076</th>\n",
       "      <td>Female</td>\n",
       "      <td>1994.0</td>\n",
       "    </tr>\n",
       "    <tr>\n",
       "      <th>4194077</th>\n",
       "      <td>Male</td>\n",
       "      <td>1993.0</td>\n",
       "    </tr>\n",
       "    <tr>\n",
       "      <th>4194078</th>\n",
       "      <td>Male</td>\n",
       "      <td>1991.0</td>\n",
       "    </tr>\n",
       "    <tr>\n",
       "      <th>4194081</th>\n",
       "      <td>Female</td>\n",
       "      <td>1984.0</td>\n",
       "    </tr>\n",
       "    <tr>\n",
       "      <th>4194082</th>\n",
       "      <td>Female</td>\n",
       "      <td>1994.0</td>\n",
       "    </tr>\n",
       "  </tbody>\n",
       "</table>\n",
       "<p>3337297 rows × 2 columns</p>\n",
       "</div>"
      ],
      "text/plain": [
       "         gender  birthyear\n",
       "0          Male     1989.0\n",
       "1        Female     1990.0\n",
       "2        Female     1994.0\n",
       "3          Male     1993.0\n",
       "4          Male     1994.0\n",
       "...         ...        ...\n",
       "4194076  Female     1994.0\n",
       "4194077    Male     1993.0\n",
       "4194078    Male     1991.0\n",
       "4194081  Female     1984.0\n",
       "4194082  Female     1994.0\n",
       "\n",
       "[3337297 rows x 2 columns]"
      ]
     },
     "execution_count": 7,
     "metadata": {},
     "output_type": "execute_result"
    }
   ],
   "source": [
    "people = df[[\"gender\", \"birthyear\"]]\n",
    "people = people.dropna()\n",
    "\n",
    "people"
   ]
  },
  {
   "cell_type": "code",
   "execution_count": 8,
   "id": "e3e08802",
   "metadata": {
    "ExecuteTime": {
     "end_time": "2023-04-19T12:13:13.452672Z",
     "start_time": "2023-04-19T12:13:13.025279Z"
    }
   },
   "outputs": [
    {
     "data": {
      "text/html": [
       "<div>\n",
       "<style scoped>\n",
       "    .dataframe tbody tr th:only-of-type {\n",
       "        vertical-align: middle;\n",
       "    }\n",
       "\n",
       "    .dataframe tbody tr th {\n",
       "        vertical-align: top;\n",
       "    }\n",
       "\n",
       "    .dataframe thead th {\n",
       "        text-align: right;\n",
       "    }\n",
       "</style>\n",
       "<table border=\"1\" class=\"dataframe\">\n",
       "  <thead>\n",
       "    <tr style=\"text-align: right;\">\n",
       "      <th></th>\n",
       "      <th>count</th>\n",
       "    </tr>\n",
       "    <tr>\n",
       "      <th>gender</th>\n",
       "      <th></th>\n",
       "    </tr>\n",
       "  </thead>\n",
       "  <tbody>\n",
       "    <tr>\n",
       "      <th>Male</th>\n",
       "      <td>2523744</td>\n",
       "    </tr>\n",
       "    <tr>\n",
       "      <th>Female</th>\n",
       "      <td>813553</td>\n",
       "    </tr>\n",
       "  </tbody>\n",
       "</table>\n",
       "</div>"
      ],
      "text/plain": [
       "          count\n",
       "gender         \n",
       "Male    2523744\n",
       "Female   813553"
      ]
     },
     "execution_count": 8,
     "metadata": {},
     "output_type": "execute_result"
    }
   ],
   "source": [
    "grouped_gender = pd.DataFrame(people[\"gender\"].value_counts())\n",
    "# grouped_gender = grouped_gender.reset_index()\n",
    "\n",
    "\n",
    "grouped_gender"
   ]
  },
  {
   "cell_type": "code",
   "execution_count": 9,
   "id": "5450ce59",
   "metadata": {
    "ExecuteTime": {
     "end_time": "2023-04-19T12:13:13.942281Z",
     "start_time": "2023-04-19T12:13:13.640357Z"
    }
   },
   "outputs": [
    {
     "data": {
      "text/plain": [
       "Text(0.5, 1.0, 'Распределение по полу в 2019 году')"
      ]
     },
     "execution_count": 9,
     "metadata": {},
     "output_type": "execute_result"
    },
    {
     "data": {
      "image/png": "[encoded data removed]",
      "text/plain": [
       "<Figure size 640x480 with 1 Axes>"
      ]
     },
     "metadata": {},
     "output_type": "display_data"
    }
   ],
   "source": [
    "plt.pie(grouped_gender[\"count\"], autopct=\"%1.1f%%\", labels=grouped_gender.index)\n",
    "plt.title(\"Распределение по полу в 2019 году\")"
   ]
  },
  {
   "cell_type": "code",
   "execution_count": 10,
   "id": "3ad37091",
   "metadata": {
    "ExecuteTime": {
     "end_time": "2023-04-19T12:13:14.733125Z",
     "start_time": "2023-04-19T12:13:14.592437Z"
    }
   },
   "outputs": [
    {
     "data": {
      "text/html": [
       "<div>\n",
       "<style scoped>\n",
       "    .dataframe tbody tr th:only-of-type {\n",
       "        vertical-align: middle;\n",
       "    }\n",
       "\n",
       "    .dataframe tbody tr th {\n",
       "        vertical-align: top;\n",
       "    }\n",
       "\n",
       "    .dataframe thead th {\n",
       "        text-align: right;\n",
       "    }\n",
       "</style>\n",
       "<table border=\"1\" class=\"dataframe\">\n",
       "  <thead>\n",
       "    <tr style=\"text-align: right;\">\n",
       "      <th></th>\n",
       "      <th>birthyear</th>\n",
       "      <th>count</th>\n",
       "    </tr>\n",
       "  </thead>\n",
       "  <tbody>\n",
       "    <tr>\n",
       "      <th>0</th>\n",
       "      <td>1989.0</td>\n",
       "      <td>203242</td>\n",
       "    </tr>\n",
       "    <tr>\n",
       "      <th>1</th>\n",
       "      <td>1990.0</td>\n",
       "      <td>182454</td>\n",
       "    </tr>\n",
       "    <tr>\n",
       "      <th>2</th>\n",
       "      <td>1991.0</td>\n",
       "      <td>179418</td>\n",
       "    </tr>\n",
       "    <tr>\n",
       "      <th>3</th>\n",
       "      <td>1992.0</td>\n",
       "      <td>175098</td>\n",
       "    </tr>\n",
       "    <tr>\n",
       "      <th>4</th>\n",
       "      <td>1987.0</td>\n",
       "      <td>171085</td>\n",
       "    </tr>\n",
       "    <tr>\n",
       "      <th>...</th>\n",
       "      <td>...</td>\n",
       "      <td>...</td>\n",
       "    </tr>\n",
       "    <tr>\n",
       "      <th>82</th>\n",
       "      <td>1933.0</td>\n",
       "      <td>8</td>\n",
       "    </tr>\n",
       "    <tr>\n",
       "      <th>83</th>\n",
       "      <td>2017.0</td>\n",
       "      <td>7</td>\n",
       "    </tr>\n",
       "    <tr>\n",
       "      <th>84</th>\n",
       "      <td>1915.0</td>\n",
       "      <td>4</td>\n",
       "    </tr>\n",
       "    <tr>\n",
       "      <th>85</th>\n",
       "      <td>1936.0</td>\n",
       "      <td>1</td>\n",
       "    </tr>\n",
       "    <tr>\n",
       "      <th>86</th>\n",
       "      <td>1910.0</td>\n",
       "      <td>1</td>\n",
       "    </tr>\n",
       "  </tbody>\n",
       "</table>\n",
       "<p>87 rows × 2 columns</p>\n",
       "</div>"
      ],
      "text/plain": [
       "    birthyear   count\n",
       "0      1989.0  203242\n",
       "1      1990.0  182454\n",
       "2      1991.0  179418\n",
       "3      1992.0  175098\n",
       "4      1987.0  171085\n",
       "..        ...     ...\n",
       "82     1933.0       8\n",
       "83     2017.0       7\n",
       "84     1915.0       4\n",
       "85     1936.0       1\n",
       "86     1910.0       1\n",
       "\n",
       "[87 rows x 2 columns]"
      ]
     },
     "execution_count": 10,
     "metadata": {},
     "output_type": "execute_result"
    }
   ],
   "source": [
    "grouped_age = pd.DataFrame(people[\"birthyear\"].value_counts())\n",
    "grouped_age = grouped_age.reset_index()\n",
    "# grouped_age.rename(columns={\"index\": \"birthyear\", \"birthyear\": \"count\"}, inplace=True)\n",
    "\n",
    "grouped_age"
   ]
  },
  {
   "cell_type": "code",
   "execution_count": 21,
   "id": "b7a3a3f3",
   "metadata": {
    "ExecuteTime": {
     "end_time": "2023-04-19T12:15:12.682346Z",
     "start_time": "2023-04-19T12:15:12.646348Z"
    }
   },
   "outputs": [
    {
     "data": {
      "text/html": [
       "<div>\n",
       "<style scoped>\n",
       "    .dataframe tbody tr th:only-of-type {\n",
       "        vertical-align: middle;\n",
       "    }\n",
       "\n",
       "    .dataframe tbody tr th {\n",
       "        vertical-align: top;\n",
       "    }\n",
       "\n",
       "    .dataframe thead th {\n",
       "        text-align: right;\n",
       "    }\n",
       "</style>\n",
       "<table border=\"1\" class=\"dataframe\">\n",
       "  <thead>\n",
       "    <tr style=\"text-align: right;\">\n",
       "      <th></th>\n",
       "      <th>birthyear</th>\n",
       "      <th>count</th>\n",
       "    </tr>\n",
       "  </thead>\n",
       "  <tbody>\n",
       "    <tr>\n",
       "      <th>0</th>\n",
       "      <td>1989.0</td>\n",
       "      <td>203242</td>\n",
       "    </tr>\n",
       "    <tr>\n",
       "      <th>1</th>\n",
       "      <td>1990.0</td>\n",
       "      <td>182454</td>\n",
       "    </tr>\n",
       "    <tr>\n",
       "      <th>2</th>\n",
       "      <td>1991.0</td>\n",
       "      <td>179418</td>\n",
       "    </tr>\n",
       "    <tr>\n",
       "      <th>3</th>\n",
       "      <td>1992.0</td>\n",
       "      <td>175098</td>\n",
       "    </tr>\n",
       "    <tr>\n",
       "      <th>4</th>\n",
       "      <td>1987.0</td>\n",
       "      <td>171085</td>\n",
       "    </tr>\n",
       "    <tr>\n",
       "      <th>5</th>\n",
       "      <td>1988.0</td>\n",
       "      <td>170961</td>\n",
       "    </tr>\n",
       "    <tr>\n",
       "      <th>6</th>\n",
       "      <td>1986.0</td>\n",
       "      <td>156820</td>\n",
       "    </tr>\n",
       "    <tr>\n",
       "      <th>7</th>\n",
       "      <td>1993.0</td>\n",
       "      <td>142279</td>\n",
       "    </tr>\n",
       "    <tr>\n",
       "      <th>8</th>\n",
       "      <td>1985.0</td>\n",
       "      <td>141346</td>\n",
       "    </tr>\n",
       "    <tr>\n",
       "      <th>9</th>\n",
       "      <td>1984.0</td>\n",
       "      <td>141063</td>\n",
       "    </tr>\n",
       "    <tr>\n",
       "      <th>10</th>\n",
       "      <td>1983.0</td>\n",
       "      <td>114625</td>\n",
       "    </tr>\n",
       "    <tr>\n",
       "      <th>11</th>\n",
       "      <td>1982.0</td>\n",
       "      <td>110327</td>\n",
       "    </tr>\n",
       "    <tr>\n",
       "      <th>12</th>\n",
       "      <td>1981.0</td>\n",
       "      <td>96403</td>\n",
       "    </tr>\n",
       "    <tr>\n",
       "      <th>13</th>\n",
       "      <td>1980.0</td>\n",
       "      <td>90252</td>\n",
       "    </tr>\n",
       "    <tr>\n",
       "      <th>14</th>\n",
       "      <td>1994.0</td>\n",
       "      <td>88061</td>\n",
       "    </tr>\n",
       "    <tr>\n",
       "      <th>15</th>\n",
       "      <td>1979.0</td>\n",
       "      <td>71468</td>\n",
       "    </tr>\n",
       "    <tr>\n",
       "      <th>16</th>\n",
       "      <td>1977.0</td>\n",
       "      <td>67235</td>\n",
       "    </tr>\n",
       "    <tr>\n",
       "      <th>17</th>\n",
       "      <td>1978.0</td>\n",
       "      <td>65554</td>\n",
       "    </tr>\n",
       "    <tr>\n",
       "      <th>18</th>\n",
       "      <td>1976.0</td>\n",
       "      <td>53845</td>\n",
       "    </tr>\n",
       "    <tr>\n",
       "      <th>19</th>\n",
       "      <td>1975.0</td>\n",
       "      <td>52056</td>\n",
       "    </tr>\n",
       "    <tr>\n",
       "      <th>20</th>\n",
       "      <td>1974.0</td>\n",
       "      <td>50375</td>\n",
       "    </tr>\n",
       "    <tr>\n",
       "      <th>21</th>\n",
       "      <td>1970.0</td>\n",
       "      <td>49371</td>\n",
       "    </tr>\n",
       "    <tr>\n",
       "      <th>22</th>\n",
       "      <td>1969.0</td>\n",
       "      <td>45899</td>\n",
       "    </tr>\n",
       "    <tr>\n",
       "      <th>23</th>\n",
       "      <td>1972.0</td>\n",
       "      <td>42605</td>\n",
       "    </tr>\n",
       "    <tr>\n",
       "      <th>24</th>\n",
       "      <td>1968.0</td>\n",
       "      <td>42487</td>\n",
       "    </tr>\n",
       "    <tr>\n",
       "      <th>25</th>\n",
       "      <td>1995.0</td>\n",
       "      <td>41591</td>\n",
       "    </tr>\n",
       "    <tr>\n",
       "      <th>26</th>\n",
       "      <td>1973.0</td>\n",
       "      <td>41207</td>\n",
       "    </tr>\n",
       "    <tr>\n",
       "      <th>27</th>\n",
       "      <td>1971.0</td>\n",
       "      <td>39826</td>\n",
       "    </tr>\n",
       "    <tr>\n",
       "      <th>28</th>\n",
       "      <td>1966.0</td>\n",
       "      <td>39468</td>\n",
       "    </tr>\n",
       "    <tr>\n",
       "      <th>29</th>\n",
       "      <td>1964.0</td>\n",
       "      <td>37992</td>\n",
       "    </tr>\n",
       "    <tr>\n",
       "      <th>30</th>\n",
       "      <td>1962.0</td>\n",
       "      <td>36073</td>\n",
       "    </tr>\n",
       "    <tr>\n",
       "      <th>31</th>\n",
       "      <td>1965.0</td>\n",
       "      <td>35248</td>\n",
       "    </tr>\n",
       "    <tr>\n",
       "      <th>32</th>\n",
       "      <td>1960.0</td>\n",
       "      <td>34244</td>\n",
       "    </tr>\n",
       "    <tr>\n",
       "      <th>33</th>\n",
       "      <td>1963.0</td>\n",
       "      <td>34095</td>\n",
       "    </tr>\n",
       "    <tr>\n",
       "      <th>34</th>\n",
       "      <td>1967.0</td>\n",
       "      <td>33875</td>\n",
       "    </tr>\n",
       "    <tr>\n",
       "      <th>35</th>\n",
       "      <td>1961.0</td>\n",
       "      <td>29545</td>\n",
       "    </tr>\n",
       "    <tr>\n",
       "      <th>36</th>\n",
       "      <td>1959.0</td>\n",
       "      <td>23722</td>\n",
       "    </tr>\n",
       "    <tr>\n",
       "      <th>37</th>\n",
       "      <td>1996.0</td>\n",
       "      <td>21714</td>\n",
       "    </tr>\n",
       "    <tr>\n",
       "      <th>38</th>\n",
       "      <td>1958.0</td>\n",
       "      <td>21519</td>\n",
       "    </tr>\n",
       "    <tr>\n",
       "      <th>39</th>\n",
       "      <td>1997.0</td>\n",
       "      <td>20760</td>\n",
       "    </tr>\n",
       "    <tr>\n",
       "      <th>40</th>\n",
       "      <td>1957.0</td>\n",
       "      <td>20334</td>\n",
       "    </tr>\n",
       "    <tr>\n",
       "      <th>41</th>\n",
       "      <td>1956.0</td>\n",
       "      <td>20031</td>\n",
       "    </tr>\n",
       "    <tr>\n",
       "      <th>42</th>\n",
       "      <td>1955.0</td>\n",
       "      <td>15290</td>\n",
       "    </tr>\n",
       "    <tr>\n",
       "      <th>43</th>\n",
       "      <td>1954.0</td>\n",
       "      <td>13280</td>\n",
       "    </tr>\n",
       "    <tr>\n",
       "      <th>44</th>\n",
       "      <td>1952.0</td>\n",
       "      <td>11744</td>\n",
       "    </tr>\n",
       "    <tr>\n",
       "      <th>45</th>\n",
       "      <td>1998.0</td>\n",
       "      <td>10661</td>\n",
       "    </tr>\n",
       "    <tr>\n",
       "      <th>46</th>\n",
       "      <td>1953.0</td>\n",
       "      <td>10221</td>\n",
       "    </tr>\n",
       "    <tr>\n",
       "      <th>47</th>\n",
       "      <td>1951.0</td>\n",
       "      <td>8351</td>\n",
       "    </tr>\n",
       "    <tr>\n",
       "      <th>48</th>\n",
       "      <td>1999.0</td>\n",
       "      <td>5598</td>\n",
       "    </tr>\n",
       "    <tr>\n",
       "      <th>49</th>\n",
       "      <td>1949.0</td>\n",
       "      <td>5469</td>\n",
       "    </tr>\n",
       "    <tr>\n",
       "      <th>50</th>\n",
       "      <td>1950.0</td>\n",
       "      <td>4619</td>\n",
       "    </tr>\n",
       "    <tr>\n",
       "      <th>51</th>\n",
       "      <td>1946.0</td>\n",
       "      <td>3179</td>\n",
       "    </tr>\n",
       "    <tr>\n",
       "      <th>52</th>\n",
       "      <td>1948.0</td>\n",
       "      <td>2476</td>\n",
       "    </tr>\n",
       "    <tr>\n",
       "      <th>53</th>\n",
       "      <td>2000.0</td>\n",
       "      <td>2267</td>\n",
       "    </tr>\n",
       "    <tr>\n",
       "      <th>55</th>\n",
       "      <td>1947.0</td>\n",
       "      <td>918</td>\n",
       "    </tr>\n",
       "    <tr>\n",
       "      <th>59</th>\n",
       "      <td>2001.0</td>\n",
       "      <td>477</td>\n",
       "    </tr>\n",
       "    <tr>\n",
       "      <th>67</th>\n",
       "      <td>2003.0</td>\n",
       "      <td>184</td>\n",
       "    </tr>\n",
       "    <tr>\n",
       "      <th>68</th>\n",
       "      <td>2002.0</td>\n",
       "      <td>138</td>\n",
       "    </tr>\n",
       "    <tr>\n",
       "      <th>77</th>\n",
       "      <td>2004.0</td>\n",
       "      <td>31</td>\n",
       "    </tr>\n",
       "  </tbody>\n",
       "</table>\n",
       "</div>"
      ],
      "text/plain": [
       "    birthyear   count\n",
       "0      1989.0  203242\n",
       "1      1990.0  182454\n",
       "2      1991.0  179418\n",
       "3      1992.0  175098\n",
       "4      1987.0  171085\n",
       "5      1988.0  170961\n",
       "6      1986.0  156820\n",
       "7      1993.0  142279\n",
       "8      1985.0  141346\n",
       "9      1984.0  141063\n",
       "10     1983.0  114625\n",
       "11     1982.0  110327\n",
       "12     1981.0   96403\n",
       "13     1980.0   90252\n",
       "14     1994.0   88061\n",
       "15     1979.0   71468\n",
       "16     1977.0   67235\n",
       "17     1978.0   65554\n",
       "18     1976.0   53845\n",
       "19     1975.0   52056\n",
       "20     1974.0   50375\n",
       "21     1970.0   49371\n",
       "22     1969.0   45899\n",
       "23     1972.0   42605\n",
       "24     1968.0   42487\n",
       "25     1995.0   41591\n",
       "26     1973.0   41207\n",
       "27     1971.0   39826\n",
       "28     1966.0   39468\n",
       "29     1964.0   37992\n",
       "30     1962.0   36073\n",
       "31     1965.0   35248\n",
       "32     1960.0   34244\n",
       "33     1963.0   34095\n",
       "34     1967.0   33875\n",
       "35     1961.0   29545\n",
       "36     1959.0   23722\n",
       "37     1996.0   21714\n",
       "38     1958.0   21519\n",
       "39     1997.0   20760\n",
       "40     1957.0   20334\n",
       "41     1956.0   20031\n",
       "42     1955.0   15290\n",
       "43     1954.0   13280\n",
       "44     1952.0   11744\n",
       "45     1998.0   10661\n",
       "46     1953.0   10221\n",
       "47     1951.0    8351\n",
       "48     1999.0    5598\n",
       "49     1949.0    5469\n",
       "50     1950.0    4619\n",
       "51     1946.0    3179\n",
       "52     1948.0    2476\n",
       "53     2000.0    2267\n",
       "55     1947.0     918\n",
       "59     2001.0     477\n",
       "67     2003.0     184\n",
       "68     2002.0     138\n",
       "77     2004.0      31"
      ]
     },
     "execution_count": 21,
     "metadata": {},
     "output_type": "execute_result"
    }
   ],
   "source": [
    "grouped_age = grouped_age[grouped_age[\"birthyear\"] > 1945.0]\n",
    "grouped_age = grouped_age[grouped_age[\"birthyear\"] < 2010.0]\n",
    "grouped_age"
   ]
  },
  {
   "cell_type": "code",
   "execution_count": 22,
   "id": "ca0ddf4e",
   "metadata": {
    "ExecuteTime": {
     "end_time": "2023-04-19T12:15:16.965954Z",
     "start_time": "2023-04-19T12:15:16.940783Z"
    }
   },
   "outputs": [],
   "source": [
    "age_retiree = grouped_age[\n",
    "    (grouped_age[\"birthyear\"] > 1930.0) & (grouped_age[\"birthyear\"] < 1965.0)\n",
    "]\n",
    "age_adults = grouped_age[\n",
    "    (grouped_age[\"birthyear\"] >= 1965.0) & (grouped_age[\"birthyear\"] < 1995.0)\n",
    "]\n",
    "age_student = grouped_age[\n",
    "    (grouped_age[\"birthyear\"] >= 1995.0) & (grouped_age[\"birthyear\"] < 2010.0)\n",
    "]"
   ]
  },
  {
   "cell_type": "code",
   "execution_count": 23,
   "id": "fbee9add",
   "metadata": {
    "ExecuteTime": {
     "end_time": "2023-04-19T12:15:17.161058Z",
     "start_time": "2023-04-19T12:15:17.142059Z"
    }
   },
   "outputs": [],
   "source": [
    "import seaborn as sns\n",
    "import numpy as np"
   ]
  },
  {
   "cell_type": "code",
   "execution_count": 24,
   "id": "bcf100f5",
   "metadata": {
    "ExecuteTime": {
     "end_time": "2023-04-19T12:15:18.202439Z",
     "start_time": "2023-04-19T12:15:17.358129Z"
    }
   },
   "outputs": [
    {
     "name": "stderr",
     "output_type": "stream",
     "text": [
      "C:\\Users\\fpokr\\AppData\\Local\\Temp\\ipykernel_16768\\2748025692.py:22: UserWarning: \n",
      "\n",
      "`distplot` is a deprecated function and will be removed in seaborn v0.14.0.\n",
      "\n",
      "Please adapt your code to use either `displot` (a figure-level function with\n",
      "similar flexibility) or `histplot` (an axes-level function for histograms).\n",
      "\n",
      "For a guide to updating your code to use the new functions, please see\n",
      "https://gist.github.com/mwaskom/de44147ed2974457ad6372750bbe5751\n",
      "\n",
      "  sns.distplot(\n"
     ]
    },
    {
     "data": {
      "text/plain": [
       "<matplotlib.lines.Line2D at 0x1c4923f25c0>"
      ]
     },
     "execution_count": 24,
     "metadata": {},
     "output_type": "execute_result"
    },
    {
     "data": {
      "image/png": "[encoded data removed]",
      "text/plain": [
       "<Figure size 640x480 with 1 Axes>"
      ]
     },
     "metadata": {},
     "output_type": "display_data"
    }
   ],
   "source": [
    "# matplotlib histogram\n",
    "plt.hist(\n",
    "    age_retiree[\"birthyear\"],\n",
    "    weights=age_retiree[\"count\"],\n",
    "    color=\"blue\",\n",
    "    edgecolor=\"black\",\n",
    ")\n",
    "plt.hist(\n",
    "    age_adults[\"birthyear\"],\n",
    "    weights=age_adults[\"count\"],\n",
    "    color=\"purple\",\n",
    "    edgecolor=\"black\",\n",
    ")\n",
    "plt.hist(\n",
    "    age_student[\"birthyear\"],\n",
    "    weights=age_student[\"count\"],\n",
    "    color=\"violet\",\n",
    "    edgecolor=\"black\",\n",
    ")\n",
    "\n",
    "# seaborn histogram\n",
    "sns.distplot(\n",
    "    grouped_age[\"birthyear\"], hist=True, kde=False, bins=int(180 / 5), color=\"blue\"\n",
    ")\n",
    "# Add labels\n",
    "plt.title(\"Гистограмма распределения возраста\")\n",
    "plt.xlabel(\"Год рождения\")\n",
    "plt.ylabel(\"Количество пользователей\")\n",
    "mean = np.mean(grouped_age[\"birthyear\"])\n",
    "plt.axvline(mean, color=\"r\", linestyle=\"dashed\", linewidth=2)\n",
    "median = np.median(grouped_age[\"birthyear\"])\n",
    "plt.axvline(median, color=\"orange\", linestyle=\"dashed\", linewidth=2)\n",
    "q1 = np.quantile(grouped_age[\"birthyear\"], 0.025)\n",
    "q3 = np.quantile(grouped_age[\"birthyear\"], 0.975)\n",
    "plt.axvline(q1, color=\"green\", linestyle=\"-.\")\n",
    "plt.axvline(q3, color=\"yellow\", linestyle=\"-.\")"
   ]
  },
  {
   "cell_type": "code",
   "execution_count": 25,
   "id": "00bb1d22",
   "metadata": {
    "ExecuteTime": {
     "end_time": "2023-04-19T12:15:18.240853Z",
     "start_time": "2023-04-19T12:15:18.225069Z"
    }
   },
   "outputs": [
    {
     "data": {
      "text/plain": [
       "1975.0"
      ]
     },
     "execution_count": 25,
     "metadata": {},
     "output_type": "execute_result"
    }
   ],
   "source": [
    "mean"
   ]
  },
  {
   "cell_type": "code",
   "execution_count": 26,
   "id": "8b860ab5",
   "metadata": {
    "ExecuteTime": {
     "end_time": "2023-04-19T12:15:18.775743Z",
     "start_time": "2023-04-19T12:15:18.768562Z"
    }
   },
   "outputs": [
    {
     "data": {
      "text/plain": [
       "1975.0"
      ]
     },
     "execution_count": 26,
     "metadata": {},
     "output_type": "execute_result"
    }
   ],
   "source": [
    "median"
   ]
  },
  {
   "cell_type": "code",
   "execution_count": 29,
   "id": "d60cfa9e",
   "metadata": {
    "ExecuteTime": {
     "end_time": "2023-04-19T12:15:42.966826Z",
     "start_time": "2023-04-19T12:15:42.302714Z"
    }
   },
   "outputs": [
    {
     "data": {
      "text/plain": [
       "Text(0, 0.5, 'Количество пользователей')"
      ]
     },
     "execution_count": 29,
     "metadata": {},
     "output_type": "execute_result"
    },
    {
     "data": {
      "image/png": "[encoded data removed]",
      "text/plain": [
       "<Figure size 640x480 with 1 Axes>"
      ]
     },
     "metadata": {},
     "output_type": "display_data"
    }
   ],
   "source": [
    "plt.hist(\n",
    "    grouped_age[\"birthyear\"],\n",
    "    weights=grouped_age[\"count\"],\n",
    ")\n",
    "plt.title(\"Гистограмма распределения возраста\")\n",
    "plt.xlabel(\"Год рождения\")\n",
    "plt.ylabel(\"Количество пользователей\")"
   ]
  },
  {
   "cell_type": "code",
   "execution_count": null,
   "id": "4403b5e4",
   "metadata": {},
   "outputs": [],
   "source": []
  }
 ],
 "metadata": {
  "kernelspec": {
   "display_name": "Python 3 (ipykernel)",
   "language": "python",
   "name": "python3"
  },
  "language_info": {
   "codemirror_mode": {
    "name": "ipython",
    "version": 3
   },
   "file_extension": ".py",
   "mimetype": "text/x-python",
   "name": "python",
   "nbconvert_exporter": "python",
   "pygments_lexer": "ipython3",
   "version": "3.10.7"
  },
  "toc": {
   "base_numbering": 1,
   "nav_menu": {},
   "number_sections": true,
   "sideBar": true,
   "skip_h1_title": false,
   "title_cell": "Table of Contents",
   "title_sidebar": "Contents",
   "toc_cell": false,
   "toc_position": {},
   "toc_section_display": true,
   "toc_window_display": false
  }
 },
 "nbformat": 4,
 "nbformat_minor": 5
}
