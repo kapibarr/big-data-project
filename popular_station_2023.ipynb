{
 "cells": [
  {
   "cell_type": "code",
   "execution_count": 44,
   "metadata": {
    "ExecuteTime": {
     "start_time": "2023-04-11T01:59:04.003738Z",
     "end_time": "2023-04-11T01:59:08.169450Z"
    }
   },
   "outputs": [],
   "source": [
    "from time import sleep\n",
    "import os\n",
    "import pandas as pd\n",
    "import numpy as np\n",
    "import matplotlib.pyplot as plt\n",
    "import openrouteservice as ors"
   ]
  },
  {
   "cell_type": "code",
   "execution_count": 2,
   "metadata": {
    "ExecuteTime": {
     "end_time": "2023-04-10T21:35:11.701252Z",
     "start_time": "2023-04-10T21:35:08.385417Z"
    }
   },
   "outputs": [],
   "source": [
    "df = pd.read_csv(\"data/2023/Divvy_Trips_2023_full.csv.gz\", compression=\"gzip\")"
   ]
  },
  {
   "cell_type": "markdown",
   "metadata": {},
   "source": [
    "# Общая информация о датасете"
   ]
  },
  {
   "cell_type": "code",
   "execution_count": 3,
   "metadata": {
    "ExecuteTime": {
     "end_time": "2023-04-10T21:35:12.674174Z",
     "start_time": "2023-04-10T21:35:12.638724Z"
    }
   },
   "outputs": [
    {
     "data": {
      "text/html": [
       "<div>\n",
       "<style scoped>\n",
       "    .dataframe tbody tr th:only-of-type {\n",
       "        vertical-align: middle;\n",
       "    }\n",
       "\n",
       "    .dataframe tbody tr th {\n",
       "        vertical-align: top;\n",
       "    }\n",
       "\n",
       "    .dataframe thead th {\n",
       "        text-align: right;\n",
       "    }\n",
       "</style>\n",
       "<table border=\"1\" class=\"dataframe\">\n",
       "  <thead>\n",
       "    <tr style=\"text-align: right;\">\n",
       "      <th></th>\n",
       "      <th>ride_id</th>\n",
       "      <th>rideable_type</th>\n",
       "      <th>started_at</th>\n",
       "      <th>ended_at</th>\n",
       "      <th>start_station_name</th>\n",
       "      <th>start_station_id</th>\n",
       "      <th>end_station_name</th>\n",
       "      <th>end_station_id</th>\n",
       "      <th>start_lat</th>\n",
       "      <th>start_lng</th>\n",
       "      <th>end_lat</th>\n",
       "      <th>end_lng</th>\n",
       "      <th>member_casual</th>\n",
       "    </tr>\n",
       "  </thead>\n",
       "  <tbody>\n",
       "    <tr>\n",
       "      <th>0</th>\n",
       "      <td>F96D5A74A3E41399</td>\n",
       "      <td>electric_bike</td>\n",
       "      <td>2023-01-21 20:05:42</td>\n",
       "      <td>2023-01-21 20:16:33</td>\n",
       "      <td>Lincoln Ave &amp; Fullerton Ave</td>\n",
       "      <td>TA1309000058</td>\n",
       "      <td>Hampden Ct &amp; Diversey Ave</td>\n",
       "      <td>202480.0</td>\n",
       "      <td>41.924074</td>\n",
       "      <td>-87.646278</td>\n",
       "      <td>41.930000</td>\n",
       "      <td>-87.640000</td>\n",
       "      <td>member</td>\n",
       "    </tr>\n",
       "    <tr>\n",
       "      <th>1</th>\n",
       "      <td>13CB7EB698CEDB88</td>\n",
       "      <td>classic_bike</td>\n",
       "      <td>2023-01-10 15:37:36</td>\n",
       "      <td>2023-01-10 15:46:05</td>\n",
       "      <td>Kimbark Ave &amp; 53rd St</td>\n",
       "      <td>TA1309000037</td>\n",
       "      <td>Greenwood Ave &amp; 47th St</td>\n",
       "      <td>TA1308000002</td>\n",
       "      <td>41.799568</td>\n",
       "      <td>-87.594747</td>\n",
       "      <td>41.809835</td>\n",
       "      <td>-87.599383</td>\n",
       "      <td>member</td>\n",
       "    </tr>\n",
       "    <tr>\n",
       "      <th>2</th>\n",
       "      <td>BD88A2E670661CE5</td>\n",
       "      <td>electric_bike</td>\n",
       "      <td>2023-01-02 07:51:57</td>\n",
       "      <td>2023-01-02 08:05:11</td>\n",
       "      <td>Western Ave &amp; Lunt Ave</td>\n",
       "      <td>RP-005</td>\n",
       "      <td>Valli Produce - Evanston Plaza</td>\n",
       "      <td>599</td>\n",
       "      <td>42.008571</td>\n",
       "      <td>-87.690483</td>\n",
       "      <td>42.039742</td>\n",
       "      <td>-87.699413</td>\n",
       "      <td>casual</td>\n",
       "    </tr>\n",
       "    <tr>\n",
       "      <th>3</th>\n",
       "      <td>C90792D034FED968</td>\n",
       "      <td>classic_bike</td>\n",
       "      <td>2023-01-22 10:52:58</td>\n",
       "      <td>2023-01-22 11:01:44</td>\n",
       "      <td>Kimbark Ave &amp; 53rd St</td>\n",
       "      <td>TA1309000037</td>\n",
       "      <td>Greenwood Ave &amp; 47th St</td>\n",
       "      <td>TA1308000002</td>\n",
       "      <td>41.799568</td>\n",
       "      <td>-87.594747</td>\n",
       "      <td>41.809835</td>\n",
       "      <td>-87.599383</td>\n",
       "      <td>member</td>\n",
       "    </tr>\n",
       "    <tr>\n",
       "      <th>4</th>\n",
       "      <td>3397017529188E8A</td>\n",
       "      <td>classic_bike</td>\n",
       "      <td>2023-01-12 13:58:01</td>\n",
       "      <td>2023-01-12 14:13:20</td>\n",
       "      <td>Kimbark Ave &amp; 53rd St</td>\n",
       "      <td>TA1309000037</td>\n",
       "      <td>Greenwood Ave &amp; 47th St</td>\n",
       "      <td>TA1308000002</td>\n",
       "      <td>41.799568</td>\n",
       "      <td>-87.594747</td>\n",
       "      <td>41.809835</td>\n",
       "      <td>-87.599383</td>\n",
       "      <td>member</td>\n",
       "    </tr>\n",
       "  </tbody>\n",
       "</table>\n",
       "</div>"
      ],
      "text/plain": [
       "            ride_id  rideable_type           started_at             ended_at   \n",
       "0  F96D5A74A3E41399  electric_bike  2023-01-21 20:05:42  2023-01-21 20:16:33  \\\n",
       "1  13CB7EB698CEDB88   classic_bike  2023-01-10 15:37:36  2023-01-10 15:46:05   \n",
       "2  BD88A2E670661CE5  electric_bike  2023-01-02 07:51:57  2023-01-02 08:05:11   \n",
       "3  C90792D034FED968   classic_bike  2023-01-22 10:52:58  2023-01-22 11:01:44   \n",
       "4  3397017529188E8A   classic_bike  2023-01-12 13:58:01  2023-01-12 14:13:20   \n",
       "\n",
       "            start_station_name start_station_id   \n",
       "0  Lincoln Ave & Fullerton Ave     TA1309000058  \\\n",
       "1        Kimbark Ave & 53rd St     TA1309000037   \n",
       "2       Western Ave & Lunt Ave           RP-005   \n",
       "3        Kimbark Ave & 53rd St     TA1309000037   \n",
       "4        Kimbark Ave & 53rd St     TA1309000037   \n",
       "\n",
       "                 end_station_name end_station_id  start_lat  start_lng   \n",
       "0       Hampden Ct & Diversey Ave       202480.0  41.924074 -87.646278  \\\n",
       "1         Greenwood Ave & 47th St   TA1308000002  41.799568 -87.594747   \n",
       "2  Valli Produce - Evanston Plaza            599  42.008571 -87.690483   \n",
       "3         Greenwood Ave & 47th St   TA1308000002  41.799568 -87.594747   \n",
       "4         Greenwood Ave & 47th St   TA1308000002  41.799568 -87.594747   \n",
       "\n",
       "     end_lat    end_lng member_casual  \n",
       "0  41.930000 -87.640000        member  \n",
       "1  41.809835 -87.599383        member  \n",
       "2  42.039742 -87.699413        casual  \n",
       "3  41.809835 -87.599383        member  \n",
       "4  41.809835 -87.599383        member  "
      ]
     },
     "execution_count": 3,
     "metadata": {},
     "output_type": "execute_result"
    }
   ],
   "source": [
    "df.head()"
   ]
  },
  {
   "cell_type": "code",
   "execution_count": 4,
   "metadata": {
    "ExecuteTime": {
     "end_time": "2023-04-10T21:35:13.569410Z",
     "start_time": "2023-04-10T21:35:13.329188Z"
    },
    "scrolled": true
   },
   "outputs": [
    {
     "name": "stdout",
     "output_type": "stream",
     "text": [
      "<class 'pandas.core.frame.DataFrame'>\n",
      "RangeIndex: 639424 entries, 0 to 639423\n",
      "Data columns (total 13 columns):\n",
      " #   Column              Non-Null Count   Dtype  \n",
      "---  ------              --------------   -----  \n",
      " 0   ride_id             639424 non-null  object \n",
      " 1   rideable_type       639424 non-null  object \n",
      " 2   started_at          639424 non-null  object \n",
      " 3   ended_at            639424 non-null  object \n",
      " 4   start_station_name  551320 non-null  object \n",
      " 5   start_station_id    551188 non-null  object \n",
      " 6   end_station_name    546408 non-null  object \n",
      " 7   end_station_id      546267 non-null  object \n",
      " 8   start_lat           639424 non-null  float64\n",
      " 9   start_lng           639424 non-null  float64\n",
      " 10  end_lat             638998 non-null  float64\n",
      " 11  end_lng             638998 non-null  float64\n",
      " 12  member_casual       639424 non-null  object \n",
      "dtypes: float64(4), object(9)\n",
      "memory usage: 63.4+ MB\n"
     ]
    }
   ],
   "source": [
    "df.info()"
   ]
  },
  {
   "cell_type": "markdown",
   "metadata": {},
   "source": [
    "## Работа с данными"
   ]
  },
  {
   "cell_type": "code",
   "execution_count": 5,
   "metadata": {
    "ExecuteTime": {
     "end_time": "2023-04-10T21:35:14.247348Z",
     "start_time": "2023-04-10T21:35:14.201115Z"
    }
   },
   "outputs": [],
   "source": [
    "# Выбор нужных колонок датасета - координаты, название и id станций\n",
    "\n",
    "# Данные начальных станций\n",
    "station_names = df[[\"start_station_name\"]]\n",
    "station_names = station_names.rename(columns={\"start_station_name\": \"station_name\"})\n",
    "\n",
    "# Данные конечных станций\n",
    "station_end_names = df[[\"end_station_name\"]]\n",
    "station_end_names = station_end_names.rename(\n",
    "    columns={\"end_station_name\": \"station_name\"}\n",
    ")"
   ]
  },
  {
   "cell_type": "code",
   "execution_count": 6,
   "metadata": {
    "ExecuteTime": {
     "end_time": "2023-04-10T21:35:14.673162Z",
     "start_time": "2023-04-10T21:35:14.645083Z"
    }
   },
   "outputs": [],
   "source": [
    "# Склейка данных в 1 датасет\n",
    "station_names = pd.concat([station_names, station_end_names])"
   ]
  },
  {
   "cell_type": "code",
   "execution_count": 7,
   "metadata": {
    "ExecuteTime": {
     "end_time": "2023-04-10T21:35:15.187889Z",
     "start_time": "2023-04-10T21:35:15.162403Z"
    }
   },
   "outputs": [
    {
     "data": {
      "text/html": [
       "<div>\n",
       "<style scoped>\n",
       "    .dataframe tbody tr th:only-of-type {\n",
       "        vertical-align: middle;\n",
       "    }\n",
       "\n",
       "    .dataframe tbody tr th {\n",
       "        vertical-align: top;\n",
       "    }\n",
       "\n",
       "    .dataframe thead th {\n",
       "        text-align: right;\n",
       "    }\n",
       "</style>\n",
       "<table border=\"1\" class=\"dataframe\">\n",
       "  <thead>\n",
       "    <tr style=\"text-align: right;\">\n",
       "      <th></th>\n",
       "      <th>station_name</th>\n",
       "    </tr>\n",
       "  </thead>\n",
       "  <tbody>\n",
       "    <tr>\n",
       "      <th>0</th>\n",
       "      <td>Lincoln Ave &amp; Fullerton Ave</td>\n",
       "    </tr>\n",
       "    <tr>\n",
       "      <th>1</th>\n",
       "      <td>Kimbark Ave &amp; 53rd St</td>\n",
       "    </tr>\n",
       "    <tr>\n",
       "      <th>2</th>\n",
       "      <td>Western Ave &amp; Lunt Ave</td>\n",
       "    </tr>\n",
       "    <tr>\n",
       "      <th>3</th>\n",
       "      <td>Kimbark Ave &amp; 53rd St</td>\n",
       "    </tr>\n",
       "    <tr>\n",
       "      <th>4</th>\n",
       "      <td>Kimbark Ave &amp; 53rd St</td>\n",
       "    </tr>\n",
       "    <tr>\n",
       "      <th>...</th>\n",
       "      <td>...</td>\n",
       "    </tr>\n",
       "    <tr>\n",
       "      <th>639419</th>\n",
       "      <td>Canal St &amp; Adams St</td>\n",
       "    </tr>\n",
       "    <tr>\n",
       "      <th>639420</th>\n",
       "      <td>Sheridan Rd &amp; Buena Ave</td>\n",
       "    </tr>\n",
       "    <tr>\n",
       "      <th>639421</th>\n",
       "      <td>Broadway &amp; Waveland Ave</td>\n",
       "    </tr>\n",
       "    <tr>\n",
       "      <th>639422</th>\n",
       "      <td>Broadway &amp; Waveland Ave</td>\n",
       "    </tr>\n",
       "    <tr>\n",
       "      <th>639423</th>\n",
       "      <td>Broadway &amp; Waveland Ave</td>\n",
       "    </tr>\n",
       "  </tbody>\n",
       "</table>\n",
       "<p>1278848 rows × 1 columns</p>\n",
       "</div>"
      ],
      "text/plain": [
       "                       station_name\n",
       "0       Lincoln Ave & Fullerton Ave\n",
       "1             Kimbark Ave & 53rd St\n",
       "2            Western Ave & Lunt Ave\n",
       "3             Kimbark Ave & 53rd St\n",
       "4             Kimbark Ave & 53rd St\n",
       "...                             ...\n",
       "639419          Canal St & Adams St\n",
       "639420      Sheridan Rd & Buena Ave\n",
       "639421      Broadway & Waveland Ave\n",
       "639422      Broadway & Waveland Ave\n",
       "639423      Broadway & Waveland Ave\n",
       "\n",
       "[1278848 rows x 1 columns]"
      ]
     },
     "execution_count": 7,
     "metadata": {},
     "output_type": "execute_result"
    }
   ],
   "source": [
    "station_names"
   ]
  },
  {
   "cell_type": "markdown",
   "metadata": {},
   "source": [
    "## Подсчет популярности отдельных станций"
   ]
  },
  {
   "cell_type": "code",
   "execution_count": 8,
   "metadata": {
    "ExecuteTime": {
     "end_time": "2023-04-10T21:35:16.284362Z",
     "start_time": "2023-04-10T21:35:16.163171Z"
    }
   },
   "outputs": [],
   "source": [
    "# Расчитаем количество повторений каждой станции\n",
    "popular_station = pd.DataFrame(station_names[\"station_name\"].value_counts())"
   ]
  },
  {
   "cell_type": "code",
   "execution_count": 9,
   "metadata": {
    "ExecuteTime": {
     "end_time": "2023-04-10T21:35:16.710175Z",
     "start_time": "2023-04-10T21:35:16.693523Z"
    }
   },
   "outputs": [
    {
     "data": {
      "text/html": [
       "<div>\n",
       "<style scoped>\n",
       "    .dataframe tbody tr th:only-of-type {\n",
       "        vertical-align: middle;\n",
       "    }\n",
       "\n",
       "    .dataframe tbody tr th {\n",
       "        vertical-align: top;\n",
       "    }\n",
       "\n",
       "    .dataframe thead th {\n",
       "        text-align: right;\n",
       "    }\n",
       "</style>\n",
       "<table border=\"1\" class=\"dataframe\">\n",
       "  <thead>\n",
       "    <tr style=\"text-align: right;\">\n",
       "      <th></th>\n",
       "      <th>station_name</th>\n",
       "      <th>count</th>\n",
       "    </tr>\n",
       "  </thead>\n",
       "  <tbody>\n",
       "    <tr>\n",
       "      <th>0</th>\n",
       "      <td>University Ave &amp; 57th St</td>\n",
       "      <td>11816</td>\n",
       "    </tr>\n",
       "    <tr>\n",
       "      <th>1</th>\n",
       "      <td>Ellis Ave &amp; 60th St</td>\n",
       "      <td>11373</td>\n",
       "    </tr>\n",
       "    <tr>\n",
       "      <th>2</th>\n",
       "      <td>Clinton St &amp; Washington Blvd</td>\n",
       "      <td>10732</td>\n",
       "    </tr>\n",
       "    <tr>\n",
       "      <th>3</th>\n",
       "      <td>Kingsbury St &amp; Kinzie St</td>\n",
       "      <td>9808</td>\n",
       "    </tr>\n",
       "    <tr>\n",
       "      <th>4</th>\n",
       "      <td>Clark St &amp; Elm St</td>\n",
       "      <td>8716</td>\n",
       "    </tr>\n",
       "  </tbody>\n",
       "</table>\n",
       "</div>"
      ],
      "text/plain": [
       "                   station_name  count\n",
       "0      University Ave & 57th St  11816\n",
       "1           Ellis Ave & 60th St  11373\n",
       "2  Clinton St & Washington Blvd  10732\n",
       "3      Kingsbury St & Kinzie St   9808\n",
       "4             Clark St & Elm St   8716"
      ]
     },
     "execution_count": 9,
     "metadata": {},
     "output_type": "execute_result"
    }
   ],
   "source": [
    "# Возвращаем индексы и переназываем столбцы\n",
    "popular_station = popular_station.reset_index()\n",
    "popular_station.columns = [\"station_name\", \"count\"]\n",
    "\n",
    "popular_station.head()"
   ]
  },
  {
   "cell_type": "markdown",
   "metadata": {},
   "source": [
    "## Самые популярные маршруты"
   ]
  },
  {
   "cell_type": "code",
   "execution_count": 10,
   "metadata": {
    "ExecuteTime": {
     "end_time": "2023-04-10T21:35:17.626736Z",
     "start_time": "2023-04-10T21:35:17.609159Z"
    }
   },
   "outputs": [],
   "source": [
    "trip = df[[\"start_station_name\", \"end_station_name\"]]"
   ]
  },
  {
   "cell_type": "code",
   "execution_count": 11,
   "metadata": {
    "ExecuteTime": {
     "end_time": "2023-04-10T21:35:18.342941Z",
     "start_time": "2023-04-10T21:35:18.128301Z"
    }
   },
   "outputs": [],
   "source": [
    "# Расчитаем количество повторений каждого маршрута\n",
    "popular_trip = pd.DataFrame(\n",
    "    trip[[\"start_station_name\", \"end_station_name\"]].value_counts()\n",
    ")"
   ]
  },
  {
   "cell_type": "code",
   "execution_count": 12,
   "metadata": {
    "ExecuteTime": {
     "end_time": "2023-04-10T21:35:18.465599Z",
     "start_time": "2023-04-10T21:35:18.435757Z"
    }
   },
   "outputs": [
    {
     "data": {
      "text/html": [
       "<div>\n",
       "<style scoped>\n",
       "    .dataframe tbody tr th:only-of-type {\n",
       "        vertical-align: middle;\n",
       "    }\n",
       "\n",
       "    .dataframe tbody tr th {\n",
       "        vertical-align: top;\n",
       "    }\n",
       "\n",
       "    .dataframe thead th {\n",
       "        text-align: right;\n",
       "    }\n",
       "</style>\n",
       "<table border=\"1\" class=\"dataframe\">\n",
       "  <thead>\n",
       "    <tr style=\"text-align: right;\">\n",
       "      <th></th>\n",
       "      <th>start_name</th>\n",
       "      <th>stop_name</th>\n",
       "      <th>count</th>\n",
       "    </tr>\n",
       "  </thead>\n",
       "  <tbody>\n",
       "    <tr>\n",
       "      <th>0</th>\n",
       "      <td>Ellis Ave &amp; 60th St</td>\n",
       "      <td>University Ave &amp; 57th St</td>\n",
       "      <td>2022</td>\n",
       "    </tr>\n",
       "    <tr>\n",
       "      <th>1</th>\n",
       "      <td>University Ave &amp; 57th St</td>\n",
       "      <td>Ellis Ave &amp; 60th St</td>\n",
       "      <td>1921</td>\n",
       "    </tr>\n",
       "    <tr>\n",
       "      <th>2</th>\n",
       "      <td>Ellis Ave &amp; 60th St</td>\n",
       "      <td>Ellis Ave &amp; 55th St</td>\n",
       "      <td>1760</td>\n",
       "    </tr>\n",
       "    <tr>\n",
       "      <th>3</th>\n",
       "      <td>Ellis Ave &amp; 55th St</td>\n",
       "      <td>Ellis Ave &amp; 60th St</td>\n",
       "      <td>1660</td>\n",
       "    </tr>\n",
       "    <tr>\n",
       "      <th>4</th>\n",
       "      <td>Loomis St &amp; Lexington St</td>\n",
       "      <td>Morgan St &amp; Polk St</td>\n",
       "      <td>832</td>\n",
       "    </tr>\n",
       "  </tbody>\n",
       "</table>\n",
       "</div>"
      ],
      "text/plain": [
       "                 start_name                 stop_name  count\n",
       "0       Ellis Ave & 60th St  University Ave & 57th St   2022\n",
       "1  University Ave & 57th St       Ellis Ave & 60th St   1921\n",
       "2       Ellis Ave & 60th St       Ellis Ave & 55th St   1760\n",
       "3       Ellis Ave & 55th St       Ellis Ave & 60th St   1660\n",
       "4  Loomis St & Lexington St       Morgan St & Polk St    832"
      ]
     },
     "execution_count": 12,
     "metadata": {},
     "output_type": "execute_result"
    }
   ],
   "source": [
    "# Возвращаем индексы и переназываем столбцы\n",
    "popular_trip = popular_trip.reset_index()\n",
    "popular_trip.columns = [\"start_name\", \"stop_name\", \"count\"]\n",
    "\n",
    "popular_trip.head()"
   ]
  },
  {
   "cell_type": "markdown",
   "metadata": {},
   "source": [
    "## Расстояние\n",
    "Посчитаем расстояние для топ-100 популярных маршрутов используя внешнее API"
   ]
  },
  {
   "cell_type": "code",
   "execution_count": 61,
   "metadata": {
    "ExecuteTime": {
     "start_time": "2023-04-11T02:00:51.515703Z",
     "end_time": "2023-04-11T02:00:51.576237Z"
    }
   },
   "outputs": [],
   "source": [
    "# Для начала нужно получить координаты для всех станций\n",
    "coord = pd.read_csv(\"data/2023/station_coord.csv\")"
   ]
  },
  {
   "cell_type": "code",
   "execution_count": 62,
   "metadata": {
    "ExecuteTime": {
     "start_time": "2023-04-11T02:00:51.689738Z",
     "end_time": "2023-04-11T02:00:51.778006Z"
    }
   },
   "outputs": [
    {
     "data": {
      "text/plain": "                    station_name        lng        lat end_station_id\n0    Lincoln Ave & Fullerton Ave -87.667968  41.914610   TA1309000058\n1          Kimbark Ave & 53rd St -87.594747  41.799568   TA1309000037\n2         Western Ave & Lunt Ave -87.700825  41.965875         RP-005\n3  Lakeview Ave & Fullerton Pkwy -87.648556  41.949097   TA1309000019\n4        Broadway & Waveland Ave -87.648577  41.949088          13325",
      "text/html": "<div>\n<style scoped>\n    .dataframe tbody tr th:only-of-type {\n        vertical-align: middle;\n    }\n\n    .dataframe tbody tr th {\n        vertical-align: top;\n    }\n\n    .dataframe thead th {\n        text-align: right;\n    }\n</style>\n<table border=\"1\" class=\"dataframe\">\n  <thead>\n    <tr style=\"text-align: right;\">\n      <th></th>\n      <th>station_name</th>\n      <th>lng</th>\n      <th>lat</th>\n      <th>end_station_id</th>\n    </tr>\n  </thead>\n  <tbody>\n    <tr>\n      <th>0</th>\n      <td>Lincoln Ave &amp; Fullerton Ave</td>\n      <td>-87.667968</td>\n      <td>41.914610</td>\n      <td>TA1309000058</td>\n    </tr>\n    <tr>\n      <th>1</th>\n      <td>Kimbark Ave &amp; 53rd St</td>\n      <td>-87.594747</td>\n      <td>41.799568</td>\n      <td>TA1309000037</td>\n    </tr>\n    <tr>\n      <th>2</th>\n      <td>Western Ave &amp; Lunt Ave</td>\n      <td>-87.700825</td>\n      <td>41.965875</td>\n      <td>RP-005</td>\n    </tr>\n    <tr>\n      <th>3</th>\n      <td>Lakeview Ave &amp; Fullerton Pkwy</td>\n      <td>-87.648556</td>\n      <td>41.949097</td>\n      <td>TA1309000019</td>\n    </tr>\n    <tr>\n      <th>4</th>\n      <td>Broadway &amp; Waveland Ave</td>\n      <td>-87.648577</td>\n      <td>41.949088</td>\n      <td>13325</td>\n    </tr>\n  </tbody>\n</table>\n</div>"
     },
     "execution_count": 62,
     "metadata": {},
     "output_type": "execute_result"
    }
   ],
   "source": [
    "coord.head()"
   ]
  },
  {
   "cell_type": "code",
   "execution_count": 63,
   "metadata": {
    "ExecuteTime": {
     "start_time": "2023-04-11T02:00:51.924627Z",
     "end_time": "2023-04-11T02:00:51.985998Z"
    }
   },
   "outputs": [],
   "source": [
    "coord.drop(columns=[\"end_station_id\"], inplace=True)"
   ]
  },
  {
   "cell_type": "code",
   "execution_count": 64,
   "metadata": {
    "ExecuteTime": {
     "start_time": "2023-04-11T02:00:52.076316Z",
     "end_time": "2023-04-11T02:00:52.106741Z"
    }
   },
   "outputs": [],
   "source": [
    "coord.rename(\n",
    "    columns={\"station_name\": \"start_name\", \"lng\": \"start_lng\", \"lat\": \"start_lat\"},\n",
    "    inplace=True,\n",
    ")"
   ]
  },
  {
   "cell_type": "code",
   "execution_count": 65,
   "metadata": {
    "ExecuteTime": {
     "start_time": "2023-04-11T02:00:53.123615Z",
     "end_time": "2023-04-11T02:00:53.174080Z"
    }
   },
   "outputs": [
    {
     "data": {
      "text/plain": "                      start_name  start_lng  start_lat\n0    Lincoln Ave & Fullerton Ave -87.667968  41.914610\n1          Kimbark Ave & 53rd St -87.594747  41.799568\n2         Western Ave & Lunt Ave -87.700825  41.965875\n3  Lakeview Ave & Fullerton Pkwy -87.648556  41.949097\n4        Broadway & Waveland Ave -87.648577  41.949088",
      "text/html": "<div>\n<style scoped>\n    .dataframe tbody tr th:only-of-type {\n        vertical-align: middle;\n    }\n\n    .dataframe tbody tr th {\n        vertical-align: top;\n    }\n\n    .dataframe thead th {\n        text-align: right;\n    }\n</style>\n<table border=\"1\" class=\"dataframe\">\n  <thead>\n    <tr style=\"text-align: right;\">\n      <th></th>\n      <th>start_name</th>\n      <th>start_lng</th>\n      <th>start_lat</th>\n    </tr>\n  </thead>\n  <tbody>\n    <tr>\n      <th>0</th>\n      <td>Lincoln Ave &amp; Fullerton Ave</td>\n      <td>-87.667968</td>\n      <td>41.914610</td>\n    </tr>\n    <tr>\n      <th>1</th>\n      <td>Kimbark Ave &amp; 53rd St</td>\n      <td>-87.594747</td>\n      <td>41.799568</td>\n    </tr>\n    <tr>\n      <th>2</th>\n      <td>Western Ave &amp; Lunt Ave</td>\n      <td>-87.700825</td>\n      <td>41.965875</td>\n    </tr>\n    <tr>\n      <th>3</th>\n      <td>Lakeview Ave &amp; Fullerton Pkwy</td>\n      <td>-87.648556</td>\n      <td>41.949097</td>\n    </tr>\n    <tr>\n      <th>4</th>\n      <td>Broadway &amp; Waveland Ave</td>\n      <td>-87.648577</td>\n      <td>41.949088</td>\n    </tr>\n  </tbody>\n</table>\n</div>"
     },
     "execution_count": 65,
     "metadata": {},
     "output_type": "execute_result"
    }
   ],
   "source": [
    "coord.head()"
   ]
  },
  {
   "cell_type": "code",
   "execution_count": 66,
   "metadata": {
    "ExecuteTime": {
     "start_time": "2023-04-11T02:00:53.823060Z",
     "end_time": "2023-04-11T02:00:53.850312Z"
    }
   },
   "outputs": [],
   "source": [
    "# Возьмем топ-300 популярных маршрутов чтобы не ждать долго\n",
    "top_300 = popular_trip.head(300)"
   ]
  },
  {
   "cell_type": "code",
   "execution_count": 67,
   "metadata": {
    "ExecuteTime": {
     "start_time": "2023-04-11T02:00:54.580553Z",
     "end_time": "2023-04-11T02:00:54.615897Z"
    }
   },
   "outputs": [
    {
     "data": {
      "text/plain": "                 start_name                 stop_name  count\n0       Ellis Ave & 60th St  University Ave & 57th St   2022\n1  University Ave & 57th St       Ellis Ave & 60th St   1921\n2       Ellis Ave & 60th St       Ellis Ave & 55th St   1760\n3       Ellis Ave & 55th St       Ellis Ave & 60th St   1660\n4  Loomis St & Lexington St       Morgan St & Polk St    832",
      "text/html": "<div>\n<style scoped>\n    .dataframe tbody tr th:only-of-type {\n        vertical-align: middle;\n    }\n\n    .dataframe tbody tr th {\n        vertical-align: top;\n    }\n\n    .dataframe thead th {\n        text-align: right;\n    }\n</style>\n<table border=\"1\" class=\"dataframe\">\n  <thead>\n    <tr style=\"text-align: right;\">\n      <th></th>\n      <th>start_name</th>\n      <th>stop_name</th>\n      <th>count</th>\n    </tr>\n  </thead>\n  <tbody>\n    <tr>\n      <th>0</th>\n      <td>Ellis Ave &amp; 60th St</td>\n      <td>University Ave &amp; 57th St</td>\n      <td>2022</td>\n    </tr>\n    <tr>\n      <th>1</th>\n      <td>University Ave &amp; 57th St</td>\n      <td>Ellis Ave &amp; 60th St</td>\n      <td>1921</td>\n    </tr>\n    <tr>\n      <th>2</th>\n      <td>Ellis Ave &amp; 60th St</td>\n      <td>Ellis Ave &amp; 55th St</td>\n      <td>1760</td>\n    </tr>\n    <tr>\n      <th>3</th>\n      <td>Ellis Ave &amp; 55th St</td>\n      <td>Ellis Ave &amp; 60th St</td>\n      <td>1660</td>\n    </tr>\n    <tr>\n      <th>4</th>\n      <td>Loomis St &amp; Lexington St</td>\n      <td>Morgan St &amp; Polk St</td>\n      <td>832</td>\n    </tr>\n  </tbody>\n</table>\n</div>"
     },
     "execution_count": 67,
     "metadata": {},
     "output_type": "execute_result"
    }
   ],
   "source": [
    "top_300.head()"
   ]
  },
  {
   "cell_type": "code",
   "execution_count": 68,
   "metadata": {
    "ExecuteTime": {
     "start_time": "2023-04-11T02:00:55.380619Z",
     "end_time": "2023-04-11T02:00:55.401843Z"
    }
   },
   "outputs": [],
   "source": [
    "top_300 = top_300.merge(coord, how=\"left\", on=\"start_name\")"
   ]
  },
  {
   "cell_type": "code",
   "execution_count": 69,
   "metadata": {
    "ExecuteTime": {
     "start_time": "2023-04-11T02:00:55.999245Z",
     "end_time": "2023-04-11T02:00:56.052530Z"
    }
   },
   "outputs": [],
   "source": [
    "coord.rename(\n",
    "    columns={\n",
    "        \"start_name\": \"stop_name\",\n",
    "        \"start_lng\": \"stop_lng\",\n",
    "        \"start_lat\": \"stop_lat\",\n",
    "    },\n",
    "    inplace=True,\n",
    ")"
   ]
  },
  {
   "cell_type": "code",
   "execution_count": 70,
   "metadata": {
    "ExecuteTime": {
     "start_time": "2023-04-11T02:00:56.596395Z",
     "end_time": "2023-04-11T02:00:56.621713Z"
    }
   },
   "outputs": [],
   "source": [
    "top_300 = top_300.merge(coord, how=\"left\", on=\"stop_name\")"
   ]
  },
  {
   "cell_type": "code",
   "execution_count": 71,
   "metadata": {
    "ExecuteTime": {
     "start_time": "2023-04-11T02:00:56.790539Z",
     "end_time": "2023-04-11T02:00:56.852224Z"
    }
   },
   "outputs": [
    {
     "data": {
      "text/plain": "                 start_name                 stop_name  count  start_lng   \n0       Ellis Ave & 60th St  University Ave & 57th St   2022 -87.594747  \\\n1  University Ave & 57th St       Ellis Ave & 60th St   1921 -87.594750   \n2       Ellis Ave & 60th St       Ellis Ave & 55th St   1760 -87.594747   \n3       Ellis Ave & 55th St       Ellis Ave & 60th St   1660 -87.594747   \n4  Loomis St & Lexington St       Morgan St & Polk St    832 -87.623041   \n\n   start_lat   stop_lng   stop_lat  \n0  41.799568 -87.594750  41.799550  \n1  41.799550 -87.594747  41.799568  \n2  41.799568 -87.594747  41.799568  \n3  41.799568 -87.594747  41.799568  \n4  41.867888 -87.654144  41.855135  ",
      "text/html": "<div>\n<style scoped>\n    .dataframe tbody tr th:only-of-type {\n        vertical-align: middle;\n    }\n\n    .dataframe tbody tr th {\n        vertical-align: top;\n    }\n\n    .dataframe thead th {\n        text-align: right;\n    }\n</style>\n<table border=\"1\" class=\"dataframe\">\n  <thead>\n    <tr style=\"text-align: right;\">\n      <th></th>\n      <th>start_name</th>\n      <th>stop_name</th>\n      <th>count</th>\n      <th>start_lng</th>\n      <th>start_lat</th>\n      <th>stop_lng</th>\n      <th>stop_lat</th>\n    </tr>\n  </thead>\n  <tbody>\n    <tr>\n      <th>0</th>\n      <td>Ellis Ave &amp; 60th St</td>\n      <td>University Ave &amp; 57th St</td>\n      <td>2022</td>\n      <td>-87.594747</td>\n      <td>41.799568</td>\n      <td>-87.594750</td>\n      <td>41.799550</td>\n    </tr>\n    <tr>\n      <th>1</th>\n      <td>University Ave &amp; 57th St</td>\n      <td>Ellis Ave &amp; 60th St</td>\n      <td>1921</td>\n      <td>-87.594750</td>\n      <td>41.799550</td>\n      <td>-87.594747</td>\n      <td>41.799568</td>\n    </tr>\n    <tr>\n      <th>2</th>\n      <td>Ellis Ave &amp; 60th St</td>\n      <td>Ellis Ave &amp; 55th St</td>\n      <td>1760</td>\n      <td>-87.594747</td>\n      <td>41.799568</td>\n      <td>-87.594747</td>\n      <td>41.799568</td>\n    </tr>\n    <tr>\n      <th>3</th>\n      <td>Ellis Ave &amp; 55th St</td>\n      <td>Ellis Ave &amp; 60th St</td>\n      <td>1660</td>\n      <td>-87.594747</td>\n      <td>41.799568</td>\n      <td>-87.594747</td>\n      <td>41.799568</td>\n    </tr>\n    <tr>\n      <th>4</th>\n      <td>Loomis St &amp; Lexington St</td>\n      <td>Morgan St &amp; Polk St</td>\n      <td>832</td>\n      <td>-87.623041</td>\n      <td>41.867888</td>\n      <td>-87.654144</td>\n      <td>41.855135</td>\n    </tr>\n  </tbody>\n</table>\n</div>"
     },
     "execution_count": 71,
     "metadata": {},
     "output_type": "execute_result"
    }
   ],
   "source": [
    "top_300.head()"
   ]
  },
  {
   "cell_type": "code",
   "execution_count": 79,
   "metadata": {
    "ExecuteTime": {
     "start_time": "2023-04-11T02:04:00.335445Z",
     "end_time": "2023-04-11T02:04:00.366478Z"
    }
   },
   "outputs": [],
   "source": [
    "API_KEY = os.environ.get(\"ORS_KEY\")\n",
    "ors_client = ors.Client(key=API_KEY)"
   ]
  },
  {
   "cell_type": "code",
   "execution_count": 80,
   "metadata": {
    "ExecuteTime": {
     "start_time": "2023-04-11T02:04:02.100439Z",
     "end_time": "2023-04-11T02:04:02.235114Z"
    }
   },
   "outputs": [],
   "source": [
    "def get_route_length(origin, destination):\n",
    "    # Задержка для того чтобы не превысить лимит запросов\n",
    "    sleep(2)\n",
    "    # Отправляем запрос на сервер и получаем ответ в формате JSON\n",
    "    response = ors_client.directions(\n",
    "        coordinates=[origin, destination], profile=\"cycling-regular\", format=\"json\"\n",
    "    )\n",
    "\n",
    "    # Извлекаем длину маршрута из ответа если маршрут получен\n",
    "    if response[\"routes\"][0][\"summary\"] != {}:\n",
    "        route_length = response[\"routes\"][0][\"summary\"][\"distance\"]\n",
    "    else:\n",
    "        route_length = None\n",
    "    # Возвращаем длину маршрута в метрах\n",
    "    return route_length"
   ]
  },
  {
   "cell_type": "code",
   "execution_count": 82,
   "metadata": {
    "ExecuteTime": {
     "start_time": "2023-04-11T02:15:53.547773Z",
     "end_time": "2023-04-11T02:26:40.207593Z"
    }
   },
   "outputs": [],
   "source": [
    "# Добавляем столбец с расстоянием посчитанным для каждого маршрута\n",
    "top_300[\"distance\"] = top_300.apply(\n",
    "    lambda x: get_route_length(\n",
    "        (x[\"start_lng\"], x[\"start_lat\"]), (x[\"stop_lng\"], x[\"stop_lat\"])\n",
    "    ),\n",
    "    axis=1,\n",
    ")"
   ]
  },
  {
   "cell_type": "code",
   "execution_count": 83,
   "metadata": {
    "ExecuteTime": {
     "start_time": "2023-04-11T02:26:40.215585Z",
     "end_time": "2023-04-11T02:26:40.421880Z"
    }
   },
   "outputs": [],
   "source": [
    "# Убираем пустые значения\n",
    "top_300 = top_300.sort_values(by=\"distance\", ascending=False).dropna(\n",
    "    subset=[\"distance\"]\n",
    ")"
   ]
  },
  {
   "cell_type": "code",
   "execution_count": 84,
   "metadata": {
    "ExecuteTime": {
     "start_time": "2023-04-11T02:26:40.472877Z",
     "end_time": "2023-04-11T02:26:40.570808Z"
    }
   },
   "outputs": [
    {
     "data": {
      "text/plain": "                      start_name                   stop_name  count   \n269         Clinton St & Lake St         Canal St & Adams St    114  \\\n159         Clinton St & Lake St   Clinton St & Jackson Blvd    139   \n224  Halsted St & Wrightwood Ave  Wilton Ave & Diversey Pkwy    121   \n147          Canal St & Adams St        Clinton St & Lake St    143   \n82     Clinton St & Jackson Blvd        Clinton St & Lake St    180   \n\n     start_lng  start_lat   stop_lng   stop_lat  distance  \n269 -87.648627  41.949067 -87.623057  41.867880   11418.0  \n159 -87.648627  41.949067 -87.623041  41.867888   11417.1  \n224 -87.648542  41.949085 -87.623043  41.867916   11370.0  \n147 -87.623057  41.867880 -87.648627  41.949067   11339.0  \n82  -87.623041  41.867888 -87.648627  41.949067   11338.2  ",
      "text/html": "<div>\n<style scoped>\n    .dataframe tbody tr th:only-of-type {\n        vertical-align: middle;\n    }\n\n    .dataframe tbody tr th {\n        vertical-align: top;\n    }\n\n    .dataframe thead th {\n        text-align: right;\n    }\n</style>\n<table border=\"1\" class=\"dataframe\">\n  <thead>\n    <tr style=\"text-align: right;\">\n      <th></th>\n      <th>start_name</th>\n      <th>stop_name</th>\n      <th>count</th>\n      <th>start_lng</th>\n      <th>start_lat</th>\n      <th>stop_lng</th>\n      <th>stop_lat</th>\n      <th>distance</th>\n    </tr>\n  </thead>\n  <tbody>\n    <tr>\n      <th>269</th>\n      <td>Clinton St &amp; Lake St</td>\n      <td>Canal St &amp; Adams St</td>\n      <td>114</td>\n      <td>-87.648627</td>\n      <td>41.949067</td>\n      <td>-87.623057</td>\n      <td>41.867880</td>\n      <td>11418.0</td>\n    </tr>\n    <tr>\n      <th>159</th>\n      <td>Clinton St &amp; Lake St</td>\n      <td>Clinton St &amp; Jackson Blvd</td>\n      <td>139</td>\n      <td>-87.648627</td>\n      <td>41.949067</td>\n      <td>-87.623041</td>\n      <td>41.867888</td>\n      <td>11417.1</td>\n    </tr>\n    <tr>\n      <th>224</th>\n      <td>Halsted St &amp; Wrightwood Ave</td>\n      <td>Wilton Ave &amp; Diversey Pkwy</td>\n      <td>121</td>\n      <td>-87.648542</td>\n      <td>41.949085</td>\n      <td>-87.623043</td>\n      <td>41.867916</td>\n      <td>11370.0</td>\n    </tr>\n    <tr>\n      <th>147</th>\n      <td>Canal St &amp; Adams St</td>\n      <td>Clinton St &amp; Lake St</td>\n      <td>143</td>\n      <td>-87.623057</td>\n      <td>41.867880</td>\n      <td>-87.648627</td>\n      <td>41.949067</td>\n      <td>11339.0</td>\n    </tr>\n    <tr>\n      <th>82</th>\n      <td>Clinton St &amp; Jackson Blvd</td>\n      <td>Clinton St &amp; Lake St</td>\n      <td>180</td>\n      <td>-87.623041</td>\n      <td>41.867888</td>\n      <td>-87.648627</td>\n      <td>41.949067</td>\n      <td>11338.2</td>\n    </tr>\n  </tbody>\n</table>\n</div>"
     },
     "execution_count": 84,
     "metadata": {},
     "output_type": "execute_result"
    }
   ],
   "source": [
    "top_300.head()"
   ]
  },
  {
   "cell_type": "code",
   "execution_count": 88,
   "outputs": [
    {
     "data": {
      "text/plain": "Text(0.5, 1.0, 'Зависимость количества поездок от расстояния')"
     },
     "execution_count": 88,
     "metadata": {},
     "output_type": "execute_result"
    },
    {
     "data": {
      "text/plain": "<Figure size 640x480 with 1 Axes>",
      "image/png": "[encoded data removed]"
     },
     "metadata": {},
     "output_type": "display_data"
    }
   ],
   "source": [
    "plt.scatter(top_300[\"count\"], top_300[\"distance\"])\n",
    "plt.xlabel(\"Количество поездок\")\n",
    "plt.ylabel(\"Расстояние (в метрах)\")\n",
    "plt.title(\"Зависимость количества поездок от расстояния\")"
   ],
   "metadata": {
    "collapsed": false,
    "ExecuteTime": {
     "start_time": "2023-04-11T02:33:07.547516Z",
     "end_time": "2023-04-11T02:33:09.264700Z"
    }
   }
  },
  {
   "cell_type": "code",
   "execution_count": null,
   "outputs": [],
   "source": [],
   "metadata": {
    "collapsed": false
   }
  }
 ],
 "metadata": {
  "kernelspec": {
   "display_name": "Python 3 (ipykernel)",
   "language": "python",
   "name": "python3"
  },
  "language_info": {
   "codemirror_mode": {
    "name": "ipython",
    "version": 3
   },
   "file_extension": ".py",
   "mimetype": "text/x-python",
   "name": "python",
   "nbconvert_exporter": "python",
   "pygments_lexer": "ipython3",
   "version": "3.10.7"
  },
  "toc": {
   "base_numbering": 1,
   "nav_menu": {},
   "number_sections": true,
   "sideBar": true,
   "skip_h1_title": false,
   "title_cell": "Table of Contents",
   "title_sidebar": "Contents",
   "toc_cell": false,
   "toc_position": {},
   "toc_section_display": true,
   "toc_window_display": false
  }
 },
 "nbformat": 4,
 "nbformat_minor": 1
}
