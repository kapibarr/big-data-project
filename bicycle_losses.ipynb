{
 "cells": [
  {
   "cell_type": "code",
   "execution_count": 1,
   "metadata": {
    "ExecuteTime": {
     "end_time": "2023-04-14T15:22:51.202787Z",
     "start_time": "2023-04-14T15:22:49.301939Z"
    },
    "pycharm": {
     "is_executing": true
    }
   },
   "outputs": [],
   "source": [
    "from math import floor\n",
    "from dateutil.parser import parse\n",
    "\n",
    "import pandas as pd\n",
    "import numpy as np\n",
    "import matplotlib.pyplot as plt"
   ]
  },
  {
   "cell_type": "code",
   "execution_count": 62,
   "metadata": {},
   "outputs": [],
   "source": [
    "import datetime"
   ]
  },
  {
   "cell_type": "code",
   "execution_count": 2,
   "metadata": {
    "ExecuteTime": {
     "end_time": "2023-04-14T15:23:05.917740Z",
     "start_time": "2023-04-14T15:22:51.208224Z"
    }
   },
   "outputs": [
    {
     "name": "stderr",
     "output_type": "stream",
     "text": [
      "C:\\Users\\79500\\AppData\\Local\\Temp\\ipykernel_3376\\672813569.py:1: DtypeWarning: Columns (4) have mixed types. Specify dtype option on import or set low_memory=False.\n",
      "  df = pd.read_csv(\"data/2019/Divvy_Trips_2019_full.csv.gz\", compression=\"gzip\")\n"
     ]
    }
   ],
   "source": [
    "df = pd.read_csv(\"data/2019/Divvy_Trips_2019_full.csv.gz\", compression=\"gzip\")"
   ]
  },
  {
   "cell_type": "code",
   "execution_count": 3,
   "metadata": {
    "ExecuteTime": {
     "end_time": "2023-04-14T12:01:53.653024Z",
     "start_time": "2023-04-14T12:01:53.524019Z"
    },
    "scrolled": true
   },
   "outputs": [
    {
     "data": {
      "text/html": [
       "<div>\n",
       "<style scoped>\n",
       "    .dataframe tbody tr th:only-of-type {\n",
       "        vertical-align: middle;\n",
       "    }\n",
       "\n",
       "    .dataframe tbody tr th {\n",
       "        vertical-align: top;\n",
       "    }\n",
       "\n",
       "    .dataframe thead th {\n",
       "        text-align: right;\n",
       "    }\n",
       "</style>\n",
       "<table border=\"1\" class=\"dataframe\">\n",
       "  <thead>\n",
       "    <tr style=\"text-align: right;\">\n",
       "      <th></th>\n",
       "      <th>trip_id</th>\n",
       "      <th>start_time</th>\n",
       "      <th>end_time</th>\n",
       "      <th>bikeid</th>\n",
       "      <th>tripduration</th>\n",
       "      <th>from_station_id</th>\n",
       "      <th>from_station_name</th>\n",
       "      <th>to_station_id</th>\n",
       "      <th>to_station_name</th>\n",
       "      <th>usertype</th>\n",
       "      <th>gender</th>\n",
       "      <th>birthyear</th>\n",
       "    </tr>\n",
       "  </thead>\n",
       "  <tbody>\n",
       "    <tr>\n",
       "      <th>0</th>\n",
       "      <td>21742443</td>\n",
       "      <td>2019-01-01 00:04:37</td>\n",
       "      <td>2019-01-01 00:11:07</td>\n",
       "      <td>2167</td>\n",
       "      <td>390.0</td>\n",
       "      <td>199</td>\n",
       "      <td>Wabash Ave &amp; Grand Ave</td>\n",
       "      <td>84</td>\n",
       "      <td>Milwaukee Ave &amp; Grand Ave</td>\n",
       "      <td>Subscriber</td>\n",
       "      <td>Male</td>\n",
       "      <td>1989.0</td>\n",
       "    </tr>\n",
       "    <tr>\n",
       "      <th>1</th>\n",
       "      <td>21742444</td>\n",
       "      <td>2019-01-01 00:08:13</td>\n",
       "      <td>2019-01-01 00:15:34</td>\n",
       "      <td>4386</td>\n",
       "      <td>441.0</td>\n",
       "      <td>44</td>\n",
       "      <td>State St &amp; Randolph St</td>\n",
       "      <td>624</td>\n",
       "      <td>Dearborn St &amp; Van Buren St (*)</td>\n",
       "      <td>Subscriber</td>\n",
       "      <td>Female</td>\n",
       "      <td>1990.0</td>\n",
       "    </tr>\n",
       "    <tr>\n",
       "      <th>2</th>\n",
       "      <td>21742445</td>\n",
       "      <td>2019-01-01 00:13:23</td>\n",
       "      <td>2019-01-01 00:27:12</td>\n",
       "      <td>1524</td>\n",
       "      <td>829.0</td>\n",
       "      <td>15</td>\n",
       "      <td>Racine Ave &amp; 18th St</td>\n",
       "      <td>644</td>\n",
       "      <td>Western Ave &amp; Fillmore St (*)</td>\n",
       "      <td>Subscriber</td>\n",
       "      <td>Female</td>\n",
       "      <td>1994.0</td>\n",
       "    </tr>\n",
       "    <tr>\n",
       "      <th>3</th>\n",
       "      <td>21742446</td>\n",
       "      <td>2019-01-01 00:13:45</td>\n",
       "      <td>2019-01-01 00:43:28</td>\n",
       "      <td>252</td>\n",
       "      <td>1,783.0</td>\n",
       "      <td>123</td>\n",
       "      <td>California Ave &amp; Milwaukee Ave</td>\n",
       "      <td>176</td>\n",
       "      <td>Clark St &amp; Elm St</td>\n",
       "      <td>Subscriber</td>\n",
       "      <td>Male</td>\n",
       "      <td>1993.0</td>\n",
       "    </tr>\n",
       "    <tr>\n",
       "      <th>4</th>\n",
       "      <td>21742447</td>\n",
       "      <td>2019-01-01 00:14:52</td>\n",
       "      <td>2019-01-01 00:20:56</td>\n",
       "      <td>1170</td>\n",
       "      <td>364.0</td>\n",
       "      <td>173</td>\n",
       "      <td>Mies van der Rohe Way &amp; Chicago Ave</td>\n",
       "      <td>35</td>\n",
       "      <td>Streeter Dr &amp; Grand Ave</td>\n",
       "      <td>Subscriber</td>\n",
       "      <td>Male</td>\n",
       "      <td>1994.0</td>\n",
       "    </tr>\n",
       "  </tbody>\n",
       "</table>\n",
       "</div>"
      ],
      "text/plain": [
       "    trip_id           start_time             end_time  bikeid tripduration  \\\n",
       "0  21742443  2019-01-01 00:04:37  2019-01-01 00:11:07    2167        390.0   \n",
       "1  21742444  2019-01-01 00:08:13  2019-01-01 00:15:34    4386        441.0   \n",
       "2  21742445  2019-01-01 00:13:23  2019-01-01 00:27:12    1524        829.0   \n",
       "3  21742446  2019-01-01 00:13:45  2019-01-01 00:43:28     252      1,783.0   \n",
       "4  21742447  2019-01-01 00:14:52  2019-01-01 00:20:56    1170        364.0   \n",
       "\n",
       "   from_station_id                    from_station_name  to_station_id  \\\n",
       "0              199               Wabash Ave & Grand Ave             84   \n",
       "1               44               State St & Randolph St            624   \n",
       "2               15                 Racine Ave & 18th St            644   \n",
       "3              123       California Ave & Milwaukee Ave            176   \n",
       "4              173  Mies van der Rohe Way & Chicago Ave             35   \n",
       "\n",
       "                  to_station_name    usertype  gender  birthyear  \n",
       "0       Milwaukee Ave & Grand Ave  Subscriber    Male     1989.0  \n",
       "1  Dearborn St & Van Buren St (*)  Subscriber  Female     1990.0  \n",
       "2   Western Ave & Fillmore St (*)  Subscriber  Female     1994.0  \n",
       "3               Clark St & Elm St  Subscriber    Male     1993.0  \n",
       "4         Streeter Dr & Grand Ave  Subscriber    Male     1994.0  "
      ]
     },
     "execution_count": 3,
     "metadata": {},
     "output_type": "execute_result"
    }
   ],
   "source": [
    "df.head()"
   ]
  },
  {
   "cell_type": "code",
   "execution_count": 22,
   "metadata": {},
   "outputs": [],
   "source": [
    "df[\"end_time\"] = df[\"end_time\"].apply(lambda x: parse(x))"
   ]
  },
  {
   "cell_type": "code",
   "execution_count": 23,
   "metadata": {},
   "outputs": [],
   "source": [
    "df[\"start_time\"] = df[\"start_time\"].apply(lambda x: parse(x))"
   ]
  },
  {
   "cell_type": "code",
   "execution_count": 32,
   "metadata": {},
   "outputs": [
    {
     "name": "stdout",
     "output_type": "stream",
     "text": [
      "<class 'pandas.core.frame.DataFrame'>\n",
      "RangeIndex: 4194083 entries, 0 to 4194082\n",
      "Data columns (total 12 columns):\n",
      " #   Column             Dtype         \n",
      "---  ------             -----         \n",
      " 0   trip_id            int64         \n",
      " 1   start_time         datetime64[ns]\n",
      " 2   end_time           datetime64[ns]\n",
      " 3   bikeid             int64         \n",
      " 4   tripduration       object        \n",
      " 5   from_station_id    int64         \n",
      " 6   from_station_name  object        \n",
      " 7   to_station_id      int64         \n",
      " 8   to_station_name    object        \n",
      " 9   usertype           object        \n",
      " 10  gender             object        \n",
      " 11  birthyear          float64       \n",
      "dtypes: datetime64[ns](2), float64(1), int64(4), object(5)\n",
      "memory usage: 384.0+ MB\n"
     ]
    }
   ],
   "source": [
    "df.info()"
   ]
  },
  {
   "cell_type": "code",
   "execution_count": 41,
   "metadata": {},
   "outputs": [
    {
     "data": {
      "text/plain": [
       "Timestamp('2019-06-17 16:04:35')"
      ]
     },
     "execution_count": 41,
     "metadata": {},
     "output_type": "execute_result"
    }
   ],
   "source": [
    "df[\"end_time\"].max()"
   ]
  },
  {
   "cell_type": "markdown",
   "metadata": {},
   "source": [
    "# Потерянные велосипеды\n",
    "Сгруппируем каждый датасет по bikeid и возьмем первую и последнюю поездку. После этого объеденим все датасеты в один и найдем самую последнюю поездку для каждого велосипеда. Вычтем из общего количества велосипедов велосипеды, последняя активность которых была в 2018-2019 => Узнаем кол-во потерянных/сломанных устройств"
   ]
  },
  {
   "cell_type": "code",
   "execution_count": 24,
   "metadata": {
    "ExecuteTime": {
     "end_time": "2023-04-14T16:23:03.116710Z",
     "start_time": "2023-04-14T16:23:02.536989Z"
    }
   },
   "outputs": [],
   "source": [
    "grouped_by_bike_2019 = (\n",
    "    df.groupby(\"bikeid\").agg({\"start_time\": \"min\", \"end_time\": \"max\"}).reset_index()\n",
    ")"
   ]
  },
  {
   "cell_type": "code",
   "execution_count": 25,
   "metadata": {
    "ExecuteTime": {
     "end_time": "2023-04-14T16:23:37.432879Z",
     "start_time": "2023-04-14T16:23:03.839680Z"
    }
   },
   "outputs": [
    {
     "name": "stderr",
     "output_type": "stream",
     "text": [
      "C:\\Users\\79500\\AppData\\Local\\Temp\\ipykernel_3376\\4142244348.py:1: DtypeWarning: Columns (1,2,4,6,8,9,10,13,14,18,20,21,22) have mixed types. Specify dtype option on import or set low_memory=False.\n",
      "  df_2 = pd.read_csv(\"data/2018/Divvy_Trips_2018_full.csv.gz\", compression=\"gzip\")\n"
     ]
    }
   ],
   "source": [
    "df_2 = pd.read_csv(\"data/2018/Divvy_Trips_2018_full.csv.gz\", compression=\"gzip\")\n",
    "grouped_by_bike_2018 = df_2.groupby(\"01 - Rental Details Bike ID\").agg(\n",
    "    {\n",
    "        \"01 - Rental Details Local Start Time\": \"min\",\n",
    "        \"01 - Rental Details Local End Time\": \"max\",\n",
    "    }\n",
    ")\n",
    "grouped_by_bike_2018 = grouped_by_bike_2018.reset_index()\n",
    "grouped_by_bike_2018[\"01 - Rental Details Bike ID\"] = grouped_by_bike_2018[\n",
    "    \"01 - Rental Details Bike ID\"\n",
    "].astype(int)\n",
    "grouped_by_bike_2018 = grouped_by_bike_2018.rename(\n",
    "    columns={\n",
    "        \"01 - Rental Details Bike ID\": \"bikeid\",\n",
    "        \"01 - Rental Details Local Start Time\": \"start_time\",\n",
    "        \"01 - Rental Details Local End Time\": \"end_time\",\n",
    "    }\n",
    ")"
   ]
  },
  {
   "cell_type": "code",
   "execution_count": 26,
   "metadata": {
    "ExecuteTime": {
     "end_time": "2023-04-14T16:24:10.579110Z",
     "start_time": "2023-04-14T16:23:37.458082Z"
    }
   },
   "outputs": [],
   "source": [
    "df_2 = pd.read_csv(\"data/2017/Divvy_Trips_2017_full.csv.gz\", compression=\"gzip\")\n",
    "grouped_by_bike_2017 = (\n",
    "    df_2.groupby(\"bikeid\").agg({\"start_time\": \"min\", \"end_time\": \"max\"}).reset_index()\n",
    ")"
   ]
  },
  {
   "cell_type": "code",
   "execution_count": 27,
   "metadata": {
    "ExecuteTime": {
     "end_time": "2023-04-14T16:24:31.793207Z",
     "start_time": "2023-04-14T16:24:10.594108Z"
    }
   },
   "outputs": [],
   "source": [
    "df_2 = pd.read_csv(\"data/2016/Divvy_Trips_2016_full.csv.gz\", compression=\"gzip\")\n",
    "grouped_by_bike_2016 = (\n",
    "    df_2.groupby(\"bikeid\")\n",
    "    .agg({\"starttime\": \"min\", \"stoptime\": \"max\"})\n",
    "    .rename(columns={\"starttime\": \"start_time\", \"stoptime\": \"end_time\"})\n",
    "    .reset_index()\n",
    ")"
   ]
  },
  {
   "cell_type": "code",
   "execution_count": 28,
   "metadata": {
    "ExecuteTime": {
     "end_time": "2023-04-14T16:24:47.656551Z",
     "start_time": "2023-04-14T16:24:31.803211Z"
    }
   },
   "outputs": [],
   "source": [
    "df_2 = pd.read_csv(\"data/2015/Divvy_Trips_2015_full.csv.gz\", compression=\"gzip\")\n",
    "grouped_by_bike_2015 = (\n",
    "    df_2.groupby(\"bikeid\")\n",
    "    .agg({\"starttime\": \"min\", \"stoptime\": \"max\"})\n",
    "    .rename(columns={\"starttime\": \"start_time\", \"stoptime\": \"end_time\"})\n",
    "    .reset_index()\n",
    ")"
   ]
  },
  {
   "cell_type": "code",
   "execution_count": 29,
   "metadata": {
    "ExecuteTime": {
     "end_time": "2023-04-14T16:25:01.026285Z",
     "start_time": "2023-04-14T16:24:47.661549Z"
    }
   },
   "outputs": [],
   "source": [
    "df_2 = pd.read_csv(\"data/2014/Divvy_Trips_2014_full.csv.gz\", compression=\"gzip\")\n",
    "grouped_by_bike_2014 = (\n",
    "    df_2.groupby(\"bikeid\")\n",
    "    .agg({\"starttime\": \"min\", \"stoptime\": \"max\"})\n",
    "    .rename(columns={\"starttime\": \"start_time\", \"stoptime\": \"end_time\"})\n",
    "    .reset_index()\n",
    ")"
   ]
  },
  {
   "cell_type": "code",
   "execution_count": 46,
   "metadata": {
    "ExecuteTime": {
     "end_time": "2023-04-14T16:25:01.132168Z",
     "start_time": "2023-04-14T16:25:01.032513Z"
    }
   },
   "outputs": [],
   "source": [
    "full_grouped = pd.concat(\n",
    "    [\n",
    "        grouped_by_bike_2014,\n",
    "        grouped_by_bike_2015,\n",
    "        grouped_by_bike_2016,\n",
    "        grouped_by_bike_2017,\n",
    "        grouped_by_bike_2018,\n",
    "        grouped_by_bike_2019,\n",
    "    ]\n",
    ")"
   ]
  },
  {
   "cell_type": "code",
   "execution_count": 47,
   "metadata": {},
   "outputs": [
    {
     "name": "stdout",
     "output_type": "stream",
     "text": [
      "<class 'pandas.core.frame.DataFrame'>\n",
      "Int64Index: 31579 entries, 0 to 6258\n",
      "Data columns (total 3 columns):\n",
      " #   Column      Non-Null Count  Dtype \n",
      "---  ------      --------------  ----- \n",
      " 0   bikeid      31579 non-null  int64 \n",
      " 1   start_time  31579 non-null  object\n",
      " 2   end_time    31579 non-null  object\n",
      "dtypes: int64(1), object(2)\n",
      "memory usage: 986.8+ KB\n"
     ]
    }
   ],
   "source": [
    "full_grouped.info()"
   ]
  },
  {
   "cell_type": "code",
   "execution_count": 81,
   "metadata": {
    "ExecuteTime": {
     "end_time": "2023-04-14T16:25:06.442330Z",
     "start_time": "2023-04-14T16:25:01.135334Z"
    }
   },
   "outputs": [],
   "source": [
    "full_grouped[\"start_time\"] = full_grouped[\"start_time\"].astype('datetime64[D]')\n",
    "full_grouped[\"end_time\"] = full_grouped[\"end_time\"].astype('datetime64[D]')"
   ]
  },
  {
   "cell_type": "code",
   "execution_count": 82,
   "metadata": {},
   "outputs": [
    {
     "name": "stdout",
     "output_type": "stream",
     "text": [
      "<class 'pandas.core.frame.DataFrame'>\n",
      "Int64Index: 31579 entries, 0 to 6258\n",
      "Data columns (total 3 columns):\n",
      " #   Column      Non-Null Count  Dtype         \n",
      "---  ------      --------------  -----         \n",
      " 0   bikeid      31579 non-null  int64         \n",
      " 1   start_time  31579 non-null  datetime64[ns]\n",
      " 2   end_time    31579 non-null  datetime64[ns]\n",
      "dtypes: datetime64[ns](2), int64(1)\n",
      "memory usage: 986.8 KB\n"
     ]
    }
   ],
   "source": [
    "full_grouped.info()"
   ]
  },
  {
   "cell_type": "code",
   "execution_count": 104,
   "metadata": {
    "ExecuteTime": {
     "end_time": "2023-04-14T16:25:06.596830Z",
     "start_time": "2023-04-14T16:25:06.569746Z"
    }
   },
   "outputs": [],
   "source": [
    "# Получаем датасет с самой первой и последней поездкой для каждого велосипеда\n",
    "full_grouped_result = full_grouped.groupby(\"bikeid\").agg(\n",
    "    {\"start_time\": \"min\", \"end_time\": \"max\"}\n",
    ")"
   ]
  },
  {
   "cell_type": "code",
   "execution_count": 105,
   "metadata": {
    "ExecuteTime": {
     "end_time": "2023-04-14T16:25:06.627837Z",
     "start_time": "2023-04-14T16:25:06.604850Z"
    }
   },
   "outputs": [],
   "source": [
    "# Убираем выбросы - не может быть так, что первая поездка была позже последней\n",
    "full_grouped_result = full_grouped_result[\n",
    "    full_grouped_result[\"start_time\"] < full_grouped_result[\"end_time\"]\n",
    "]"
   ]
  },
  {
   "cell_type": "code",
   "execution_count": 95,
   "metadata": {},
   "outputs": [],
   "source": [
    "# full_grouped_result[\"fact_time_practice\"] =  full_grouped_result[\"start_time\"] + datetime.timedelta(days = 1460)\n",
    "# max_data = datetime.datetime.strptime('2019-06-17', '%Y-%m-%d')\n",
    "# full_grouped_result[\"fact_time_theory\"] = full_grouped_result[\"fact_time_practice\"].apply(lambda x: min(x, max_data))\n",
    "# full_grouped_result[\"fact_time\"] = full_grouped_result[\"end_time\"] - full_grouped_result[\"start_time\"]\n",
    "# full_grouped_result = full_grouped_result.drop(columns='fact_time_practice') "
   ]
  },
  {
   "cell_type": "code",
   "execution_count": 106,
   "metadata": {},
   "outputs": [
    {
     "name": "stdout",
     "output_type": "stream",
     "text": [
      "<class 'pandas.core.frame.DataFrame'>\n",
      "Int64Index: 6370 entries, 1 to 6471\n",
      "Data columns (total 2 columns):\n",
      " #   Column      Non-Null Count  Dtype         \n",
      "---  ------      --------------  -----         \n",
      " 0   start_time  6370 non-null   datetime64[ns]\n",
      " 1   end_time    6370 non-null   datetime64[ns]\n",
      "dtypes: datetime64[ns](2)\n",
      "memory usage: 149.3 KB\n"
     ]
    }
   ],
   "source": [
    "full_grouped_result.info()"
   ]
  },
  {
   "cell_type": "code",
   "execution_count": 128,
   "metadata": {},
   "outputs": [],
   "source": [
    "# Сколько дней прошло с 1 до последней поездки велосипеда\n",
    "full_grouped_result[\"fact_time\"] = full_grouped_result[\"end_time\"] - full_grouped_result[\"start_time\"]"
   ]
  },
  {
   "cell_type": "code",
   "execution_count": 144,
   "metadata": {},
   "outputs": [],
   "source": [
    "# Сколько дней  прошло после последней поездки велосипеда до предпологаемого скрока службы(парвая поездка + 3 года)\n",
    "full_grouped_result[\"fact_time_practice\"] =  full_grouped_result[\"start_time\"] + datetime.timedelta(days = 1100) - full_grouped_result[\"end_time\"]"
   ]
  },
  {
   "cell_type": "code",
   "execution_count": 145,
   "metadata": {},
   "outputs": [],
   "source": [
    "result = full_grouped_result[full_grouped_result[\"fact_time_practice\"] - full_grouped_result[\"fact_time\"] < '90 days']"
   ]
  },
  {
   "cell_type": "code",
   "execution_count": 146,
   "metadata": {},
   "outputs": [
    {
     "data": {
      "text/plain": [
       "222"
      ]
     },
     "execution_count": 146,
     "metadata": {},
     "output_type": "execute_result"
    }
   ],
   "source": [
    "lost_bicycle = full_grouped_result.shape[0] - result.shape[0]\n",
    "lost_bicycle # Кол-во потерянных или сломанных велосипедов в период с 2013 по 2018-2019"
   ]
  },
  {
   "cell_type": "code",
   "execution_count": null,
   "metadata": {},
   "outputs": [],
   "source": []
  }
 ],
 "metadata": {
  "kernelspec": {
   "display_name": "Python 3 (ipykernel)",
   "language": "python",
   "name": "python3"
  },
  "language_info": {
   "codemirror_mode": {
    "name": "ipython",
    "version": 3
   },
   "file_extension": ".py",
   "mimetype": "text/x-python",
   "name": "python",
   "nbconvert_exporter": "python",
   "pygments_lexer": "ipython3",
   "version": "3.10.9"
  },
  "toc": {
   "base_numbering": 1,
   "nav_menu": {},
   "number_sections": true,
   "sideBar": true,
   "skip_h1_title": false,
   "title_cell": "Table of Contents",
   "title_sidebar": "Contents",
   "toc_cell": false,
   "toc_position": {},
   "toc_section_display": true,
   "toc_window_display": false
  }
 },
 "nbformat": 4,
 "nbformat_minor": 1
}
