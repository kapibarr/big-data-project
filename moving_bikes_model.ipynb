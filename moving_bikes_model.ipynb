{
 "cells": [
  {
   "cell_type": "code",
   "execution_count": 45,
   "metadata": {
    "ExecuteTime": {
     "end_time": "2023-04-19T15:45:48.644887Z",
     "start_time": "2023-04-19T15:45:46.623810Z"
    }
   },
   "outputs": [],
   "source": [
    "import pandas as pd\n",
    "from geopy.distance import geodesic as gd"
   ]
  },
  {
   "cell_type": "markdown",
   "metadata": {},
   "source": [
    "# Найдем станции с нагрузкой больше средней"
   ]
  },
  {
   "cell_type": "code",
   "execution_count": 2,
   "metadata": {
    "ExecuteTime": {
     "end_time": "2023-04-19T11:15:32.406191Z",
     "start_time": "2023-04-19T11:15:28.943265Z"
    }
   },
   "outputs": [],
   "source": [
    "divvy_data = pd.read_csv(\"data/2023/Divvy_Trips_2023_full.csv.gz\", compression=\"gzip\")"
   ]
  },
  {
   "cell_type": "code",
   "execution_count": 3,
   "metadata": {
    "ExecuteTime": {
     "end_time": "2023-04-19T11:15:34.107924Z",
     "start_time": "2023-04-19T11:15:32.414197Z"
    }
   },
   "outputs": [],
   "source": [
    "# Переводим в формат даты\n",
    "divvy_data[\"started_at\"] = pd.to_datetime(divvy_data[\"started_at\"])\n",
    "divvy_data[\"ended_at\"] = pd.to_datetime(divvy_data[\"ended_at\"])"
   ]
  },
  {
   "cell_type": "code",
   "execution_count": 4,
   "metadata": {
    "ExecuteTime": {
     "end_time": "2023-04-19T11:15:34.169926Z",
     "start_time": "2023-04-19T11:15:34.111930Z"
    }
   },
   "outputs": [],
   "source": [
    "# Добавим столбец с часом начала поездки\n",
    "divvy_data[\"hour\"] = divvy_data[\"started_at\"].dt.hour"
   ]
  },
  {
   "cell_type": "code",
   "execution_count": 5,
   "metadata": {
    "ExecuteTime": {
     "end_time": "2023-04-19T11:15:34.388924Z",
     "start_time": "2023-04-19T11:15:34.177938Z"
    }
   },
   "outputs": [],
   "source": [
    "# Группируем данные по станции и часу\n",
    "grouped_data = (\n",
    "    divvy_data.groupby([\"start_station_name\", \"hour\"])[\"ride_id\"].count().reset_index()\n",
    ")"
   ]
  },
  {
   "cell_type": "code",
   "execution_count": 6,
   "metadata": {
    "ExecuteTime": {
     "end_time": "2023-04-19T11:15:34.763967Z",
     "start_time": "2023-04-19T11:15:34.391973Z"
    }
   },
   "outputs": [],
   "source": [
    "# Создаем сводную таблицу с количеством поездок по станциям и часам\n",
    "grouped_data_start = (\n",
    "    divvy_data.groupby([\"start_station_name\", \"hour\"])[\"ride_id\"].count().reset_index()\n",
    ")\n",
    "grouped_data_end = (\n",
    "    divvy_data.groupby([\"end_station_name\", \"hour\"])[\"ride_id\"].count().reset_index()\n",
    ")"
   ]
  },
  {
   "cell_type": "code",
   "execution_count": 7,
   "metadata": {
    "ExecuteTime": {
     "end_time": "2023-04-19T11:15:34.842963Z",
     "start_time": "2023-04-19T11:15:34.766973Z"
    }
   },
   "outputs": [],
   "source": [
    "# Считаем количество велосипедов которые приехали/уехали для каждой станции\n",
    "pivot_table_start = pd.pivot_table(\n",
    "    grouped_data_start, values=\"ride_id\", index=[\"start_station_name\"], columns=[\"hour\"]\n",
    ").fillna(0)\n",
    "pivot_table_end = pd.pivot_table(\n",
    "    grouped_data_end, values=\"ride_id\", index=[\"end_station_name\"], columns=[\"hour\"]\n",
    ").fillna(0)"
   ]
  },
  {
   "cell_type": "code",
   "execution_count": 8,
   "metadata": {
    "ExecuteTime": {
     "end_time": "2023-04-19T11:15:34.873973Z",
     "start_time": "2023-04-19T11:15:34.846970Z"
    }
   },
   "outputs": [],
   "source": [
    "# Получаем разницу между приехавшими и уехавшими велосипедами\n",
    "net_change = pivot_table_end - pivot_table_start"
   ]
  },
  {
   "cell_type": "code",
   "execution_count": 9,
   "metadata": {
    "ExecuteTime": {
     "end_time": "2023-04-19T11:15:35.316969Z",
     "start_time": "2023-04-19T11:15:34.878971Z"
    }
   },
   "outputs": [],
   "source": [
    "# Считаем среднюю нагрузку на станции как разницу между изменением на станции и средним изменением по всем станциям\n",
    "load = net_change.apply(lambda x: x - x.mean(), axis=1)"
   ]
  },
  {
   "cell_type": "code",
   "execution_count": 10,
   "metadata": {
    "ExecuteTime": {
     "end_time": "2023-04-19T11:15:35.332963Z",
     "start_time": "2023-04-19T11:15:35.320969Z"
    }
   },
   "outputs": [],
   "source": [
    "# Получаем среднюю нагрузку на станции\n",
    "avg_load = load.mean(axis=0)"
   ]
  },
  {
   "cell_type": "code",
   "execution_count": 11,
   "metadata": {
    "ExecuteTime": {
     "end_time": "2023-04-19T11:15:35.363966Z",
     "start_time": "2023-04-19T11:15:35.341976Z"
    }
   },
   "outputs": [],
   "source": [
    "peak_hour = avg_load.idxmin()"
   ]
  },
  {
   "cell_type": "code",
   "execution_count": 12,
   "metadata": {
    "ExecuteTime": {
     "end_time": "2023-04-19T11:15:35.395296Z",
     "start_time": "2023-04-19T11:15:35.368303Z"
    }
   },
   "outputs": [
    {
     "data": {
      "text/plain": [
       "18"
      ]
     },
     "execution_count": 12,
     "metadata": {},
     "output_type": "execute_result"
    }
   ],
   "source": [
    "peak_hour"
   ]
  },
  {
   "cell_type": "code",
   "execution_count": 13,
   "metadata": {
    "ExecuteTime": {
     "end_time": "2023-04-19T11:15:35.426729Z",
     "start_time": "2023-04-19T11:15:35.401307Z"
    }
   },
   "outputs": [],
   "source": [
    "low_stations = load.loc[:, peak_hour].nlargest(5).index.tolist()"
   ]
  },
  {
   "cell_type": "code",
   "execution_count": 14,
   "metadata": {
    "ExecuteTime": {
     "end_time": "2023-04-19T11:15:35.442735Z",
     "start_time": "2023-04-19T11:15:35.432735Z"
    }
   },
   "outputs": [],
   "source": [
    "peak_stations = load.loc[:, peak_hour].nsmallest(5).index.tolist()"
   ]
  },
  {
   "cell_type": "code",
   "execution_count": 15,
   "metadata": {
    "ExecuteTime": {
     "end_time": "2023-04-19T11:15:35.961869Z",
     "start_time": "2023-04-19T11:15:35.950863Z"
    }
   },
   "outputs": [],
   "source": [
    "avg_load_peak = load.loc[peak_stations + low_stations, peak_hour].mean()"
   ]
  },
  {
   "cell_type": "code",
   "execution_count": 16,
   "metadata": {
    "ExecuteTime": {
     "end_time": "2023-04-19T11:15:36.403276Z",
     "start_time": "2023-04-19T11:15:36.395270Z"
    }
   },
   "outputs": [],
   "source": [
    "underloaded_stations = load[load.loc[:, peak_hour] > avg_load_peak].index.tolist()"
   ]
  },
  {
   "cell_type": "code",
   "execution_count": 17,
   "metadata": {
    "ExecuteTime": {
     "end_time": "2023-04-19T11:15:36.809113Z",
     "start_time": "2023-04-19T11:15:36.793111Z"
    }
   },
   "outputs": [],
   "source": [
    "overloaded_stations = load[load.loc[:, peak_hour] < avg_load_peak].index.tolist()"
   ]
  },
  {
   "cell_type": "code",
   "execution_count": 18,
   "metadata": {
    "ExecuteTime": {
     "end_time": "2023-04-19T11:15:37.609030Z",
     "start_time": "2023-04-19T11:15:37.526028Z"
    }
   },
   "outputs": [
    {
     "data": {
      "text/html": [
       "<div>\n",
       "<style scoped>\n",
       "    .dataframe tbody tr th:only-of-type {\n",
       "        vertical-align: middle;\n",
       "    }\n",
       "\n",
       "    .dataframe tbody tr th {\n",
       "        vertical-align: top;\n",
       "    }\n",
       "\n",
       "    .dataframe thead th {\n",
       "        text-align: right;\n",
       "    }\n",
       "</style>\n",
       "<table border=\"1\" class=\"dataframe\">\n",
       "  <thead>\n",
       "    <tr style=\"text-align: right;\">\n",
       "      <th>hour</th>\n",
       "      <th>0</th>\n",
       "      <th>1</th>\n",
       "      <th>2</th>\n",
       "      <th>3</th>\n",
       "      <th>4</th>\n",
       "      <th>5</th>\n",
       "      <th>6</th>\n",
       "      <th>7</th>\n",
       "      <th>8</th>\n",
       "      <th>9</th>\n",
       "      <th>...</th>\n",
       "      <th>14</th>\n",
       "      <th>15</th>\n",
       "      <th>16</th>\n",
       "      <th>17</th>\n",
       "      <th>18</th>\n",
       "      <th>19</th>\n",
       "      <th>20</th>\n",
       "      <th>21</th>\n",
       "      <th>22</th>\n",
       "      <th>23</th>\n",
       "    </tr>\n",
       "  </thead>\n",
       "  <tbody>\n",
       "    <tr>\n",
       "      <th>2112 W Peterson Ave</th>\n",
       "      <td>16.0</td>\n",
       "      <td>7.0</td>\n",
       "      <td>1.0</td>\n",
       "      <td>-2.0</td>\n",
       "      <td>0.0</td>\n",
       "      <td>1.0</td>\n",
       "      <td>-1.0</td>\n",
       "      <td>-7.0</td>\n",
       "      <td>1.0</td>\n",
       "      <td>-1.0</td>\n",
       "      <td>...</td>\n",
       "      <td>0.0</td>\n",
       "      <td>2.0</td>\n",
       "      <td>4.0</td>\n",
       "      <td>8.0</td>\n",
       "      <td>-4.0</td>\n",
       "      <td>-3.0</td>\n",
       "      <td>-4.0</td>\n",
       "      <td>6.0</td>\n",
       "      <td>0.0</td>\n",
       "      <td>-4.0</td>\n",
       "    </tr>\n",
       "    <tr>\n",
       "      <th>63rd St Beach</th>\n",
       "      <td>0.0</td>\n",
       "      <td>0.0</td>\n",
       "      <td>0.0</td>\n",
       "      <td>0.0</td>\n",
       "      <td>0.0</td>\n",
       "      <td>0.0</td>\n",
       "      <td>6.0</td>\n",
       "      <td>1.0</td>\n",
       "      <td>0.0</td>\n",
       "      <td>0.0</td>\n",
       "      <td>...</td>\n",
       "      <td>-2.0</td>\n",
       "      <td>2.0</td>\n",
       "      <td>-1.0</td>\n",
       "      <td>0.0</td>\n",
       "      <td>-1.0</td>\n",
       "      <td>0.0</td>\n",
       "      <td>0.0</td>\n",
       "      <td>0.0</td>\n",
       "      <td>0.0</td>\n",
       "      <td>0.0</td>\n",
       "    </tr>\n",
       "    <tr>\n",
       "      <th>900 W Harrison St</th>\n",
       "      <td>1.0</td>\n",
       "      <td>-4.0</td>\n",
       "      <td>3.0</td>\n",
       "      <td>1.0</td>\n",
       "      <td>4.0</td>\n",
       "      <td>0.0</td>\n",
       "      <td>7.0</td>\n",
       "      <td>76.0</td>\n",
       "      <td>76.0</td>\n",
       "      <td>169.0</td>\n",
       "      <td>...</td>\n",
       "      <td>-49.0</td>\n",
       "      <td>-105.0</td>\n",
       "      <td>-123.0</td>\n",
       "      <td>-120.0</td>\n",
       "      <td>-62.0</td>\n",
       "      <td>-27.0</td>\n",
       "      <td>-6.0</td>\n",
       "      <td>-59.0</td>\n",
       "      <td>0.0</td>\n",
       "      <td>-8.0</td>\n",
       "    </tr>\n",
       "    <tr>\n",
       "      <th>Aberdeen St &amp; Jackson Blvd</th>\n",
       "      <td>5.0</td>\n",
       "      <td>2.0</td>\n",
       "      <td>3.0</td>\n",
       "      <td>0.0</td>\n",
       "      <td>1.0</td>\n",
       "      <td>-20.0</td>\n",
       "      <td>-25.0</td>\n",
       "      <td>-23.0</td>\n",
       "      <td>-135.0</td>\n",
       "      <td>-28.0</td>\n",
       "      <td>...</td>\n",
       "      <td>-33.0</td>\n",
       "      <td>8.0</td>\n",
       "      <td>-15.0</td>\n",
       "      <td>63.0</td>\n",
       "      <td>9.0</td>\n",
       "      <td>-4.0</td>\n",
       "      <td>9.0</td>\n",
       "      <td>-5.0</td>\n",
       "      <td>-6.0</td>\n",
       "      <td>5.0</td>\n",
       "    </tr>\n",
       "    <tr>\n",
       "      <th>Aberdeen St &amp; Monroe St</th>\n",
       "      <td>-2.0</td>\n",
       "      <td>1.0</td>\n",
       "      <td>0.0</td>\n",
       "      <td>0.0</td>\n",
       "      <td>-30.0</td>\n",
       "      <td>-38.0</td>\n",
       "      <td>-122.0</td>\n",
       "      <td>-17.0</td>\n",
       "      <td>-133.0</td>\n",
       "      <td>-6.0</td>\n",
       "      <td>...</td>\n",
       "      <td>15.0</td>\n",
       "      <td>0.0</td>\n",
       "      <td>178.0</td>\n",
       "      <td>121.0</td>\n",
       "      <td>34.0</td>\n",
       "      <td>-1.0</td>\n",
       "      <td>-11.0</td>\n",
       "      <td>1.0</td>\n",
       "      <td>-1.0</td>\n",
       "      <td>-10.0</td>\n",
       "    </tr>\n",
       "  </tbody>\n",
       "</table>\n",
       "<p>5 rows × 24 columns</p>\n",
       "</div>"
      ],
      "text/plain": [
       "hour                          0    1    2    3     4     5      6     7    \n",
       "2112 W Peterson Ave         16.0  7.0  1.0 -2.0   0.0   1.0   -1.0  -7.0  \\\n",
       "63rd St Beach                0.0  0.0  0.0  0.0   0.0   0.0    6.0   1.0   \n",
       "900 W Harrison St            1.0 -4.0  3.0  1.0   4.0   0.0    7.0  76.0   \n",
       "Aberdeen St & Jackson Blvd   5.0  2.0  3.0  0.0   1.0 -20.0  -25.0 -23.0   \n",
       "Aberdeen St & Monroe St     -2.0  1.0  0.0  0.0 -30.0 -38.0 -122.0 -17.0   \n",
       "\n",
       "hour                           8      9   ...    14     15     16     17   \n",
       "2112 W Peterson Ave           1.0   -1.0  ...   0.0    2.0    4.0    8.0  \\\n",
       "63rd St Beach                 0.0    0.0  ...  -2.0    2.0   -1.0    0.0   \n",
       "900 W Harrison St            76.0  169.0  ... -49.0 -105.0 -123.0 -120.0   \n",
       "Aberdeen St & Jackson Blvd -135.0  -28.0  ... -33.0    8.0  -15.0   63.0   \n",
       "Aberdeen St & Monroe St    -133.0   -6.0  ...  15.0    0.0  178.0  121.0   \n",
       "\n",
       "hour                          18    19    20    21   22    23  \n",
       "2112 W Peterson Ave         -4.0  -3.0  -4.0   6.0  0.0  -4.0  \n",
       "63rd St Beach               -1.0   0.0   0.0   0.0  0.0   0.0  \n",
       "900 W Harrison St          -62.0 -27.0  -6.0 -59.0  0.0  -8.0  \n",
       "Aberdeen St & Jackson Blvd   9.0  -4.0   9.0  -5.0 -6.0   5.0  \n",
       "Aberdeen St & Monroe St     34.0  -1.0 -11.0   1.0 -1.0 -10.0  \n",
       "\n",
       "[5 rows x 24 columns]"
      ]
     },
     "execution_count": 18,
     "metadata": {},
     "output_type": "execute_result"
    }
   ],
   "source": [
    "net_change.head()"
   ]
  },
  {
   "cell_type": "code",
   "execution_count": 19,
   "metadata": {
    "ExecuteTime": {
     "end_time": "2023-04-19T11:15:38.089879Z",
     "start_time": "2023-04-19T11:15:38.074880Z"
    }
   },
   "outputs": [
    {
     "data": {
      "text/plain": [
       "['University Ave & 57th St',\n",
       " 'Clinton St & Washington Blvd',\n",
       " 'Canal St & Adams St',\n",
       " 'Dearborn St & Monroe St',\n",
       " 'Ravenswood Ave & Lawrence Ave']"
      ]
     },
     "execution_count": 19,
     "metadata": {},
     "output_type": "execute_result"
    }
   ],
   "source": [
    "peak_stations"
   ]
  },
  {
   "cell_type": "code",
   "execution_count": 20,
   "metadata": {
    "ExecuteTime": {
     "end_time": "2023-04-19T11:15:38.572457Z",
     "start_time": "2023-04-19T11:15:38.548455Z"
    }
   },
   "outputs": [
    {
     "data": {
      "text/plain": [
       "['Sedgwick St & North Ave',\n",
       " 'Clark St & Schiller St',\n",
       " 'Wells St & Evergreen Ave',\n",
       " 'Southport Ave & Clybourn Ave',\n",
       " 'Emerald Ave & 28th St']"
      ]
     },
     "execution_count": 20,
     "metadata": {},
     "output_type": "execute_result"
    }
   ],
   "source": [
    "low_stations"
   ]
  },
  {
   "cell_type": "code",
   "execution_count": 21,
   "metadata": {
    "ExecuteTime": {
     "end_time": "2023-04-19T11:15:39.104730Z",
     "start_time": "2023-04-19T11:15:39.095733Z"
    }
   },
   "outputs": [
    {
     "data": {
      "text/plain": [
       "52"
      ]
     },
     "execution_count": 21,
     "metadata": {},
     "output_type": "execute_result"
    }
   ],
   "source": [
    "len(overloaded_stations)"
   ]
  },
  {
   "cell_type": "code",
   "execution_count": 22,
   "metadata": {
    "ExecuteTime": {
     "end_time": "2023-04-19T11:15:39.772746Z",
     "start_time": "2023-04-19T11:15:39.754743Z"
    }
   },
   "outputs": [
    {
     "data": {
      "text/plain": [
       "1022"
      ]
     },
     "execution_count": 22,
     "metadata": {},
     "output_type": "execute_result"
    }
   ],
   "source": [
    "len(underloaded_stations)"
   ]
  },
  {
   "cell_type": "markdown",
   "metadata": {},
   "source": [
    "# Для каждой нагруженной станции найдем ближайшую ненагруженную"
   ]
  },
  {
   "cell_type": "code",
   "execution_count": 23,
   "metadata": {
    "ExecuteTime": {
     "end_time": "2023-04-19T11:15:40.618998Z",
     "start_time": "2023-04-19T11:15:40.597016Z"
    }
   },
   "outputs": [],
   "source": [
    "# Создаем датафреймы с нагруженными и ненагруженными станциями\n",
    "overloaded_df = pd.DataFrame(overloaded_stations, columns=[\"overloaded_station\"])\n",
    "underloaded_df = pd.DataFrame(underloaded_stations, columns=[\"underloaded_station\"])"
   ]
  },
  {
   "cell_type": "code",
   "execution_count": 24,
   "metadata": {
    "ExecuteTime": {
     "end_time": "2023-04-19T11:15:41.085041Z",
     "start_time": "2023-04-19T11:15:41.060010Z"
    }
   },
   "outputs": [
    {
     "data": {
      "text/html": [
       "<div>\n",
       "<style scoped>\n",
       "    .dataframe tbody tr th:only-of-type {\n",
       "        vertical-align: middle;\n",
       "    }\n",
       "\n",
       "    .dataframe tbody tr th {\n",
       "        vertical-align: top;\n",
       "    }\n",
       "\n",
       "    .dataframe thead th {\n",
       "        text-align: right;\n",
       "    }\n",
       "</style>\n",
       "<table border=\"1\" class=\"dataframe\">\n",
       "  <thead>\n",
       "    <tr style=\"text-align: right;\">\n",
       "      <th></th>\n",
       "      <th>overloaded_station</th>\n",
       "    </tr>\n",
       "  </thead>\n",
       "  <tbody>\n",
       "    <tr>\n",
       "      <th>0</th>\n",
       "      <td>900 W Harrison St</td>\n",
       "    </tr>\n",
       "    <tr>\n",
       "      <th>1</th>\n",
       "      <td>Ashland Ave &amp; Division St</td>\n",
       "    </tr>\n",
       "    <tr>\n",
       "      <th>2</th>\n",
       "      <td>Broadway &amp; Wilson Ave</td>\n",
       "    </tr>\n",
       "    <tr>\n",
       "      <th>3</th>\n",
       "      <td>Calumet Ave &amp; 35th St</td>\n",
       "    </tr>\n",
       "    <tr>\n",
       "      <th>4</th>\n",
       "      <td>Canal St &amp; Adams St</td>\n",
       "    </tr>\n",
       "  </tbody>\n",
       "</table>\n",
       "</div>"
      ],
      "text/plain": [
       "          overloaded_station\n",
       "0          900 W Harrison St\n",
       "1  Ashland Ave & Division St\n",
       "2      Broadway & Wilson Ave\n",
       "3      Calumet Ave & 35th St\n",
       "4        Canal St & Adams St"
      ]
     },
     "execution_count": 24,
     "metadata": {},
     "output_type": "execute_result"
    }
   ],
   "source": [
    "overloaded_df.head()"
   ]
  },
  {
   "cell_type": "code",
   "execution_count": 25,
   "metadata": {
    "ExecuteTime": {
     "end_time": "2023-04-19T11:15:41.506982Z",
     "start_time": "2023-04-19T11:15:41.475980Z"
    }
   },
   "outputs": [],
   "source": [
    "# Загружаем датасет с координатами станций\n",
    "coords = pd.read_csv(\"data/2023/station_coord.csv\")"
   ]
  },
  {
   "cell_type": "code",
   "execution_count": 26,
   "metadata": {
    "ExecuteTime": {
     "end_time": "2023-04-19T11:15:42.036989Z",
     "start_time": "2023-04-19T11:15:41.975991Z"
    }
   },
   "outputs": [
    {
     "data": {
      "text/html": [
       "<div>\n",
       "<style scoped>\n",
       "    .dataframe tbody tr th:only-of-type {\n",
       "        vertical-align: middle;\n",
       "    }\n",
       "\n",
       "    .dataframe tbody tr th {\n",
       "        vertical-align: top;\n",
       "    }\n",
       "\n",
       "    .dataframe thead th {\n",
       "        text-align: right;\n",
       "    }\n",
       "</style>\n",
       "<table border=\"1\" class=\"dataframe\">\n",
       "  <thead>\n",
       "    <tr style=\"text-align: right;\">\n",
       "      <th></th>\n",
       "      <th>station_name</th>\n",
       "      <th>lng</th>\n",
       "      <th>lat</th>\n",
       "      <th>end_station_id</th>\n",
       "    </tr>\n",
       "  </thead>\n",
       "  <tbody>\n",
       "    <tr>\n",
       "      <th>0</th>\n",
       "      <td>Lincoln Ave &amp; Fullerton Ave</td>\n",
       "      <td>-87.667968</td>\n",
       "      <td>41.914610</td>\n",
       "      <td>TA1309000058</td>\n",
       "    </tr>\n",
       "    <tr>\n",
       "      <th>1</th>\n",
       "      <td>Kimbark Ave &amp; 53rd St</td>\n",
       "      <td>-87.594747</td>\n",
       "      <td>41.799568</td>\n",
       "      <td>TA1309000037</td>\n",
       "    </tr>\n",
       "    <tr>\n",
       "      <th>2</th>\n",
       "      <td>Western Ave &amp; Lunt Ave</td>\n",
       "      <td>-87.700825</td>\n",
       "      <td>41.965875</td>\n",
       "      <td>RP-005</td>\n",
       "    </tr>\n",
       "    <tr>\n",
       "      <th>3</th>\n",
       "      <td>Lakeview Ave &amp; Fullerton Pkwy</td>\n",
       "      <td>-87.648556</td>\n",
       "      <td>41.949097</td>\n",
       "      <td>TA1309000019</td>\n",
       "    </tr>\n",
       "    <tr>\n",
       "      <th>4</th>\n",
       "      <td>Broadway &amp; Waveland Ave</td>\n",
       "      <td>-87.648577</td>\n",
       "      <td>41.949088</td>\n",
       "      <td>13325</td>\n",
       "    </tr>\n",
       "  </tbody>\n",
       "</table>\n",
       "</div>"
      ],
      "text/plain": [
       "                    station_name        lng        lat end_station_id\n",
       "0    Lincoln Ave & Fullerton Ave -87.667968  41.914610   TA1309000058\n",
       "1          Kimbark Ave & 53rd St -87.594747  41.799568   TA1309000037\n",
       "2         Western Ave & Lunt Ave -87.700825  41.965875         RP-005\n",
       "3  Lakeview Ave & Fullerton Pkwy -87.648556  41.949097   TA1309000019\n",
       "4        Broadway & Waveland Ave -87.648577  41.949088          13325"
      ]
     },
     "execution_count": 26,
     "metadata": {},
     "output_type": "execute_result"
    }
   ],
   "source": [
    "coords.head()"
   ]
  },
  {
   "cell_type": "code",
   "execution_count": 27,
   "metadata": {
    "ExecuteTime": {
     "end_time": "2023-04-19T11:15:42.696605Z",
     "start_time": "2023-04-19T11:15:42.672608Z"
    }
   },
   "outputs": [],
   "source": [
    "# Добавляем координаты станций в датафреймы\n",
    "overloaded_df = pd.merge(\n",
    "    overloaded_df, coords, left_on=\"overloaded_station\", right_on=\"station_name\"\n",
    ")\n",
    "\n",
    "overloaded_df.drop(columns=[\"overloaded_station\", \"end_station_id\"], inplace=True)"
   ]
  },
  {
   "cell_type": "code",
   "execution_count": 28,
   "metadata": {
    "ExecuteTime": {
     "end_time": "2023-04-19T11:15:43.153478Z",
     "start_time": "2023-04-19T11:15:43.138391Z"
    }
   },
   "outputs": [],
   "source": [
    "underloaded_df = pd.merge(\n",
    "    underloaded_df, coords, left_on=\"underloaded_station\", right_on=\"station_name\"\n",
    ")\n",
    "\n",
    "underloaded_df.drop(columns=[\"underloaded_station\", \"end_station_id\"], inplace=True)"
   ]
  },
  {
   "cell_type": "code",
   "execution_count": 29,
   "metadata": {
    "ExecuteTime": {
     "end_time": "2023-04-19T11:15:43.624720Z",
     "start_time": "2023-04-19T11:15:43.576666Z"
    }
   },
   "outputs": [
    {
     "name": "stdout",
     "output_type": "stream",
     "text": [
      "<class 'pandas.core.frame.DataFrame'>\n",
      "RangeIndex: 52 entries, 0 to 51\n",
      "Data columns (total 3 columns):\n",
      " #   Column        Non-Null Count  Dtype  \n",
      "---  ------        --------------  -----  \n",
      " 0   station_name  52 non-null     object \n",
      " 1   lng           52 non-null     float64\n",
      " 2   lat           52 non-null     float64\n",
      "dtypes: float64(2), object(1)\n",
      "memory usage: 1.3+ KB\n"
     ]
    }
   ],
   "source": [
    "overloaded_df.info()"
   ]
  },
  {
   "cell_type": "code",
   "execution_count": 30,
   "metadata": {
    "ExecuteTime": {
     "end_time": "2023-04-19T11:16:09.434869Z",
     "start_time": "2023-04-19T11:15:44.096149Z"
    }
   },
   "outputs": [],
   "source": [
    "# Для каждой загруженной станции приблизительно находим ближайшую ненагруженную\n",
    "results = []\n",
    "for i, overloaded_station in overloaded_df.iterrows():\n",
    "    min_distance = float(\"inf\")\n",
    "    less_loaded_station = None\n",
    "    less_loaded_station_coords = None\n",
    "    for j, less_loaded_station_tmp in underloaded_df.iterrows():\n",
    "        distance = float(\n",
    "            gd(\n",
    "                (overloaded_station[\"lat\"], overloaded_station[\"lng\"]),\n",
    "                (less_loaded_station_tmp[\"lat\"], less_loaded_station_tmp[\"lng\"]),\n",
    "            ).km\n",
    "        )\n",
    "        if float(distance) < float(min_distance) and distance > 0.05:\n",
    "            min_distance = distance\n",
    "            less_loaded_station = less_loaded_station_tmp\n",
    "            less_loaded_station_coords = (\n",
    "                less_loaded_station_tmp[\"lng\"],\n",
    "                less_loaded_station_tmp[\"lat\"],\n",
    "            )\n",
    "\n",
    "    results.append(\n",
    "        {\n",
    "            \"overloaded_station\": overloaded_station[\"station_name\"],\n",
    "            \"less_loaded_station\": less_loaded_station[\"station_name\"],\n",
    "            \"distance\": min_distance,\n",
    "            \"overloaded_station_coords\": (\n",
    "                overloaded_station[\"lng\"],\n",
    "                overloaded_station[\"lat\"],\n",
    "            ),\n",
    "            \"less_loaded_station_coords\": less_loaded_station_coords,\n",
    "        }\n",
    "    )"
   ]
  },
  {
   "cell_type": "code",
   "execution_count": 31,
   "metadata": {
    "ExecuteTime": {
     "end_time": "2023-04-19T11:16:09.450874Z",
     "start_time": "2023-04-19T11:16:09.438873Z"
    }
   },
   "outputs": [],
   "source": [
    "df_result = pd.DataFrame(results)"
   ]
  },
  {
   "cell_type": "code",
   "execution_count": 32,
   "metadata": {
    "ExecuteTime": {
     "end_time": "2023-04-19T11:16:09.543869Z",
     "start_time": "2023-04-19T11:16:09.461871Z"
    }
   },
   "outputs": [],
   "source": [
    "# Посчитаем реальное расстояние для каждой пары\n",
    "import os\n",
    "from time import sleep\n",
    "import openrouteservice as ors\n",
    "\n",
    "API_KEY = os.environ.get(\"ORS_KEY\")\n",
    "ors_client = ors.Client(key=API_KEY)"
   ]
  },
  {
   "cell_type": "code",
   "execution_count": 33,
   "metadata": {
    "ExecuteTime": {
     "end_time": "2023-04-19T11:16:09.573878Z",
     "start_time": "2023-04-19T11:16:09.549883Z"
    },
    "code_folding": []
   },
   "outputs": [],
   "source": [
    "def get_route_length(origin, destination):\n",
    "    # Задержка для того чтобы не превысить лимит запросов\n",
    "    sleep(1)\n",
    "    # Отправляем запрос на сервер и получаем ответ в формате JSON\n",
    "    response = ors_client.directions(\n",
    "        coordinates=[origin, destination], profile=\"driving-car\", format=\"json\"\n",
    "    )\n",
    "    # Извлекаем длину маршрута из ответа если маршрут получен\n",
    "    if response[\"routes\"][0][\"summary\"] != {}:\n",
    "        route_length = response[\"routes\"][0][\"summary\"][\"distance\"]\n",
    "    else:\n",
    "        route_length = None\n",
    "    # Возвращаем длину маршрута в метрах\n",
    "    return route_length"
   ]
  },
  {
   "cell_type": "code",
   "execution_count": null,
   "metadata": {
    "ExecuteTime": {
     "end_time": "2023-04-19T11:17:37.292053Z",
     "start_time": "2023-04-19T11:16:09.580875Z"
    }
   },
   "outputs": [],
   "source": [
    "df_result[\"real_distance\"] = df_result.apply(\n",
    "    lambda x: get_route_length(\n",
    "        x[\"overloaded_station_coords\"], x[\"less_loaded_station_coords\"]\n",
    "    ),\n",
    "    axis=1,\n",
    ")"
   ]
  },
  {
   "cell_type": "code",
   "execution_count": 35,
   "metadata": {
    "ExecuteTime": {
     "end_time": "2023-04-19T11:17:37.307403Z",
     "start_time": "2023-04-19T11:17:37.292053Z"
    }
   },
   "outputs": [],
   "source": [
    "def calc_distance(coords1, coords2):\n",
    "    return gd(coords1, coords2).km"
   ]
  },
  {
   "cell_type": "code",
   "execution_count": 36,
   "metadata": {
    "ExecuteTime": {
     "end_time": "2023-04-19T11:17:37.361566Z",
     "start_time": "2023-04-19T11:17:37.309756Z"
    }
   },
   "outputs": [],
   "source": [
    "def find_nearest(coordinates, stations, overload_station):\n",
    "    distances = [\n",
    "        (calc_distance(coordinates, station[4]), station)\n",
    "        for station in stations\n",
    "        if station[0] != overload_station\n",
    "    ]\n",
    "    return min(distances, key=lambda x: x[0])[1]"
   ]
  },
  {
   "cell_type": "code",
   "execution_count": 37,
   "metadata": {
    "ExecuteTime": {
     "end_time": "2023-04-19T11:17:37.377834Z",
     "start_time": "2023-04-19T11:17:37.361566Z"
    }
   },
   "outputs": [],
   "source": [
    "def find_shortest_path(df, station):\n",
    "    stations = df.values.tolist()\n",
    "    route = [\n",
    "        {\n",
    "            \"station_name\": station,\n",
    "            \"distance\": None,\n",
    "            \"coords\": stations[stations[1] == station][3],\n",
    "        }\n",
    "    ]\n",
    "    current_coords = route[0][\"coords\"]\n",
    "    for _ in range(len(stations) - 1):\n",
    "        remaining_stations = [\n",
    "            s for s in stations if s[0] not in [p[\"station_name\"] for p in route]\n",
    "        ]\n",
    "        next_station = find_nearest(\n",
    "            current_coords, remaining_stations, route[-1][\"station_name\"]\n",
    "        )\n",
    "        route.append(\n",
    "            {\n",
    "                \"station_name\": next_station[0],\n",
    "                \"distance\": next_station[5],\n",
    "                \"coords\": next_station[3],\n",
    "            }\n",
    "        )\n",
    "        route.append(\n",
    "            {\n",
    "                \"station_name\": next_station[1],\n",
    "                \"distance\": None,\n",
    "                \"coords\": next_station[4],\n",
    "            }\n",
    "        )\n",
    "        current_coords = next_station[4]\n",
    "    return route"
   ]
  },
  {
   "cell_type": "code",
   "execution_count": 38,
   "metadata": {
    "ExecuteTime": {
     "end_time": "2023-04-19T11:17:37.749870Z",
     "start_time": "2023-04-19T11:17:37.377834Z"
    }
   },
   "outputs": [],
   "source": [
    "start_station = \"Damen Ave & Charleston St\"\n",
    "path = find_shortest_path(df_result, start_station)"
   ]
  },
  {
   "cell_type": "code",
   "execution_count": 39,
   "metadata": {
    "ExecuteTime": {
     "end_time": "2023-04-19T11:17:37.765872Z",
     "start_time": "2023-04-19T11:17:37.754875Z"
    },
    "scrolled": false
   },
   "outputs": [],
   "source": [
    "def calculate_distances(track):\n",
    "    for _ in range(1, len(track)):\n",
    "        prev_station = track[_ - 1][\"coords\"]\n",
    "        current_station = track[_][\"coords\"]\n",
    "        dist = get_route_length(prev_station, current_station)\n",
    "        track[_][\"distance\"] = dist\n",
    "    return track"
   ]
  },
  {
   "cell_type": "code",
   "execution_count": null,
   "metadata": {
    "ExecuteTime": {
     "end_time": "2023-04-19T11:20:27.595358Z",
     "start_time": "2023-04-19T11:17:37.768881Z"
    }
   },
   "outputs": [],
   "source": [
    "path = calculate_distances(path)"
   ]
  },
  {
   "cell_type": "code",
   "execution_count": 41,
   "metadata": {
    "ExecuteTime": {
     "end_time": "2023-04-19T11:20:27.610694Z",
     "start_time": "2023-04-19T11:20:27.595358Z"
    }
   },
   "outputs": [],
   "source": [
    "path_df = pd.DataFrame(path)"
   ]
  },
  {
   "cell_type": "code",
   "execution_count": 48,
   "metadata": {
    "ExecuteTime": {
     "end_time": "2023-04-19T11:47:28.182204Z",
     "start_time": "2023-04-19T11:47:28.056177Z"
    }
   },
   "outputs": [
    {
     "data": {
      "text/html": [
       "<div>\n",
       "<style scoped>\n",
       "    .dataframe tbody tr th:only-of-type {\n",
       "        vertical-align: middle;\n",
       "    }\n",
       "\n",
       "    .dataframe tbody tr th {\n",
       "        vertical-align: top;\n",
       "    }\n",
       "\n",
       "    .dataframe thead th {\n",
       "        text-align: right;\n",
       "    }\n",
       "</style>\n",
       "<table border=\"1\" class=\"dataframe\">\n",
       "  <thead>\n",
       "    <tr style=\"text-align: right;\">\n",
       "      <th></th>\n",
       "      <th>station_name</th>\n",
       "      <th>distance</th>\n",
       "      <th>coords</th>\n",
       "    </tr>\n",
       "  </thead>\n",
       "  <tbody>\n",
       "    <tr>\n",
       "      <th>79</th>\n",
       "      <td>Sheffield Ave &amp; Fullerton Ave</td>\n",
       "      <td>493.1</td>\n",
       "      <td>(-87.64862, 41.94910266666667)</td>\n",
       "    </tr>\n",
       "    <tr>\n",
       "      <th>82</th>\n",
       "      <td>Western Ave &amp; Leland Ave</td>\n",
       "      <td>880.8</td>\n",
       "      <td>(-87.64641726, 41.94549036)</td>\n",
       "    </tr>\n",
       "  </tbody>\n",
       "</table>\n",
       "</div>"
      ],
      "text/plain": [
       "                     station_name  distance                          coords\n",
       "79  Sheffield Ave & Fullerton Ave     493.1  (-87.64862, 41.94910266666667)\n",
       "82       Western Ave & Leland Ave     880.8     (-87.64641726, 41.94549036)"
      ]
     },
     "execution_count": 48,
     "metadata": {},
     "output_type": "execute_result"
    }
   ],
   "source": [
    "path_df.sample(2)"
   ]
  },
  {
   "cell_type": "code",
   "execution_count": 43,
   "metadata": {
    "ExecuteTime": {
     "end_time": "2023-04-19T11:20:27.677052Z",
     "start_time": "2023-04-19T11:20:27.656833Z"
    }
   },
   "outputs": [
    {
     "data": {
      "text/plain": [
       "116422.0"
      ]
     },
     "execution_count": 43,
     "metadata": {},
     "output_type": "execute_result"
    }
   ],
   "source": [
    "# Сколько всего нужно проехать\n",
    "round(path_df[\"distance\"].sum(), 1)"
   ]
  },
  {
   "cell_type": "code",
   "execution_count": 47,
   "metadata": {
    "ExecuteTime": {
     "end_time": "2023-04-19T15:46:22.207052Z",
     "start_time": "2023-04-19T15:46:22.127175Z"
    }
   },
   "outputs": [
    {
     "data": {
      "text/plain": [
       "510.5"
      ]
     },
     "execution_count": 47,
     "metadata": {},
     "output_type": "execute_result"
    }
   ],
   "source": [
    "path_df[\"distance\"].median()"
   ]
  }
 ],
 "metadata": {
  "kernelspec": {
   "display_name": "Python 3 (ipykernel)",
   "language": "python",
   "name": "python3"
  },
  "language_info": {
   "codemirror_mode": {
    "name": "ipython",
    "version": 3
   },
   "file_extension": ".py",
   "mimetype": "text/x-python",
   "name": "python",
   "nbconvert_exporter": "python",
   "pygments_lexer": "ipython3",
   "version": "3.10.7"
  },
  "toc": {
   "base_numbering": 1,
   "nav_menu": {},
   "number_sections": true,
   "sideBar": true,
   "skip_h1_title": false,
   "title_cell": "Table of Contents",
   "title_sidebar": "Contents",
   "toc_cell": false,
   "toc_position": {},
   "toc_section_display": true,
   "toc_window_display": false
  }
 },
 "nbformat": 4,
 "nbformat_minor": 1
}
