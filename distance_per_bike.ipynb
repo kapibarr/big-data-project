{
 "cells": [
  {
   "cell_type": "code",
   "execution_count": 1,
   "metadata": {
    "ExecuteTime": {
     "end_time": "2023-04-19T12:23:01.937612Z",
     "start_time": "2023-04-19T12:22:59.163468Z"
    },
    "pycharm": {
     "is_executing": true
    }
   },
   "outputs": [],
   "source": [
    "from dateutil.parser import parse\n",
    "from math import floor\n",
    "\n",
    "import pandas as pd\n",
    "import numpy as np\n",
    "import matplotlib.pyplot as plt"
   ]
  },
  {
   "cell_type": "code",
   "execution_count": 2,
   "metadata": {
    "ExecuteTime": {
     "end_time": "2023-04-14T15:23:05.917740Z",
     "start_time": "2023-04-14T15:22:51.208224Z"
    }
   },
   "outputs": [
    {
     "name": "stderr",
     "output_type": "stream",
     "text": [
      "C:\\Users\\fpokr\\AppData\\Local\\Temp\\ipykernel_16392\\672813569.py:1: DtypeWarning: Columns (4) have mixed types. Specify dtype option on import or set low_memory=False.\n",
      "  df = pd.read_csv(\"data/2019/Divvy_Trips_2019_full.csv.gz\", compression=\"gzip\")\n"
     ]
    }
   ],
   "source": [
    "df = pd.read_csv(\"data/2019/Divvy_Trips_2019_full.csv.gz\", compression=\"gzip\")"
   ]
  },
  {
   "cell_type": "code",
   "execution_count": 3,
   "metadata": {
    "ExecuteTime": {
     "end_time": "2023-04-14T12:01:53.653024Z",
     "start_time": "2023-04-14T12:01:53.524019Z"
    }
   },
   "outputs": [
    {
     "data": {
      "text/html": [
       "<div>\n",
       "<style scoped>\n",
       "    .dataframe tbody tr th:only-of-type {\n",
       "        vertical-align: middle;\n",
       "    }\n",
       "\n",
       "    .dataframe tbody tr th {\n",
       "        vertical-align: top;\n",
       "    }\n",
       "\n",
       "    .dataframe thead th {\n",
       "        text-align: right;\n",
       "    }\n",
       "</style>\n",
       "<table border=\"1\" class=\"dataframe\">\n",
       "  <thead>\n",
       "    <tr style=\"text-align: right;\">\n",
       "      <th></th>\n",
       "      <th>trip_id</th>\n",
       "      <th>start_time</th>\n",
       "      <th>end_time</th>\n",
       "      <th>bikeid</th>\n",
       "      <th>tripduration</th>\n",
       "      <th>from_station_id</th>\n",
       "      <th>from_station_name</th>\n",
       "      <th>to_station_id</th>\n",
       "      <th>to_station_name</th>\n",
       "      <th>usertype</th>\n",
       "      <th>gender</th>\n",
       "      <th>birthyear</th>\n",
       "    </tr>\n",
       "  </thead>\n",
       "  <tbody>\n",
       "    <tr>\n",
       "      <th>0</th>\n",
       "      <td>21742443</td>\n",
       "      <td>2019-01-01 00:04:37</td>\n",
       "      <td>2019-01-01 00:11:07</td>\n",
       "      <td>2167</td>\n",
       "      <td>390.0</td>\n",
       "      <td>199</td>\n",
       "      <td>Wabash Ave &amp; Grand Ave</td>\n",
       "      <td>84</td>\n",
       "      <td>Milwaukee Ave &amp; Grand Ave</td>\n",
       "      <td>Subscriber</td>\n",
       "      <td>Male</td>\n",
       "      <td>1989.0</td>\n",
       "    </tr>\n",
       "    <tr>\n",
       "      <th>1</th>\n",
       "      <td>21742444</td>\n",
       "      <td>2019-01-01 00:08:13</td>\n",
       "      <td>2019-01-01 00:15:34</td>\n",
       "      <td>4386</td>\n",
       "      <td>441.0</td>\n",
       "      <td>44</td>\n",
       "      <td>State St &amp; Randolph St</td>\n",
       "      <td>624</td>\n",
       "      <td>Dearborn St &amp; Van Buren St (*)</td>\n",
       "      <td>Subscriber</td>\n",
       "      <td>Female</td>\n",
       "      <td>1990.0</td>\n",
       "    </tr>\n",
       "    <tr>\n",
       "      <th>2</th>\n",
       "      <td>21742445</td>\n",
       "      <td>2019-01-01 00:13:23</td>\n",
       "      <td>2019-01-01 00:27:12</td>\n",
       "      <td>1524</td>\n",
       "      <td>829.0</td>\n",
       "      <td>15</td>\n",
       "      <td>Racine Ave &amp; 18th St</td>\n",
       "      <td>644</td>\n",
       "      <td>Western Ave &amp; Fillmore St (*)</td>\n",
       "      <td>Subscriber</td>\n",
       "      <td>Female</td>\n",
       "      <td>1994.0</td>\n",
       "    </tr>\n",
       "    <tr>\n",
       "      <th>3</th>\n",
       "      <td>21742446</td>\n",
       "      <td>2019-01-01 00:13:45</td>\n",
       "      <td>2019-01-01 00:43:28</td>\n",
       "      <td>252</td>\n",
       "      <td>1,783.0</td>\n",
       "      <td>123</td>\n",
       "      <td>California Ave &amp; Milwaukee Ave</td>\n",
       "      <td>176</td>\n",
       "      <td>Clark St &amp; Elm St</td>\n",
       "      <td>Subscriber</td>\n",
       "      <td>Male</td>\n",
       "      <td>1993.0</td>\n",
       "    </tr>\n",
       "    <tr>\n",
       "      <th>4</th>\n",
       "      <td>21742447</td>\n",
       "      <td>2019-01-01 00:14:52</td>\n",
       "      <td>2019-01-01 00:20:56</td>\n",
       "      <td>1170</td>\n",
       "      <td>364.0</td>\n",
       "      <td>173</td>\n",
       "      <td>Mies van der Rohe Way &amp; Chicago Ave</td>\n",
       "      <td>35</td>\n",
       "      <td>Streeter Dr &amp; Grand Ave</td>\n",
       "      <td>Subscriber</td>\n",
       "      <td>Male</td>\n",
       "      <td>1994.0</td>\n",
       "    </tr>\n",
       "  </tbody>\n",
       "</table>\n",
       "</div>"
      ],
      "text/plain": [
       "    trip_id           start_time             end_time  bikeid tripduration   \n",
       "0  21742443  2019-01-01 00:04:37  2019-01-01 00:11:07    2167        390.0  \\\n",
       "1  21742444  2019-01-01 00:08:13  2019-01-01 00:15:34    4386        441.0   \n",
       "2  21742445  2019-01-01 00:13:23  2019-01-01 00:27:12    1524        829.0   \n",
       "3  21742446  2019-01-01 00:13:45  2019-01-01 00:43:28     252      1,783.0   \n",
       "4  21742447  2019-01-01 00:14:52  2019-01-01 00:20:56    1170        364.0   \n",
       "\n",
       "   from_station_id                    from_station_name  to_station_id   \n",
       "0              199               Wabash Ave & Grand Ave             84  \\\n",
       "1               44               State St & Randolph St            624   \n",
       "2               15                 Racine Ave & 18th St            644   \n",
       "3              123       California Ave & Milwaukee Ave            176   \n",
       "4              173  Mies van der Rohe Way & Chicago Ave             35   \n",
       "\n",
       "                  to_station_name    usertype  gender  birthyear  \n",
       "0       Milwaukee Ave & Grand Ave  Subscriber    Male     1989.0  \n",
       "1  Dearborn St & Van Buren St (*)  Subscriber  Female     1990.0  \n",
       "2   Western Ave & Fillmore St (*)  Subscriber  Female     1994.0  \n",
       "3               Clark St & Elm St  Subscriber    Male     1993.0  \n",
       "4         Streeter Dr & Grand Ave  Subscriber    Male     1994.0  "
      ]
     },
     "execution_count": 3,
     "metadata": {},
     "output_type": "execute_result"
    }
   ],
   "source": [
    "df.head()"
   ]
  },
  {
   "cell_type": "markdown",
   "metadata": {},
   "source": [
    "# Как распределены по километражу поездки?\n",
    "Поскольку считать расстояние проеденное велосипедом по координатам станций неточно (велосипед может проехать не по прямой между станциями), то мы возьмем среднюю скорость велосипедиста и посчитаем расстояние по времени."
   ]
  },
  {
   "cell_type": "code",
   "execution_count": 5,
   "metadata": {
    "ExecuteTime": {
     "end_time": "2023-04-14T15:32:41.803199Z",
     "start_time": "2023-04-14T15:24:43.043765Z"
    }
   },
   "outputs": [],
   "source": [
    "df[\"end_time\"] = df[\"end_time\"].apply(lambda x: parse(x))"
   ]
  },
  {
   "cell_type": "code",
   "execution_count": 6,
   "metadata": {
    "ExecuteTime": {
     "end_time": "2023-04-14T15:38:42.204941Z",
     "start_time": "2023-04-14T15:32:41.856113Z"
    }
   },
   "outputs": [],
   "source": [
    "df[\"start_time\"] = df[\"start_time\"].apply(lambda x: parse(x))"
   ]
  },
  {
   "cell_type": "code",
   "execution_count": 7,
   "metadata": {
    "ExecuteTime": {
     "end_time": "2023-04-14T15:38:42.709441Z",
     "start_time": "2023-04-14T15:38:42.212952Z"
    },
    "pycharm": {
     "is_executing": true
    }
   },
   "outputs": [],
   "source": [
    "# Получаем продолжительность каждой поездки в минутах\n",
    "df[\"duration\"] = (df[\"end_time\"] - df[\"start_time\"]).dt.total_seconds().div(60)"
   ]
  },
  {
   "cell_type": "code",
   "execution_count": 8,
   "metadata": {
    "ExecuteTime": {
     "end_time": "2023-04-14T15:38:47.090755Z",
     "start_time": "2023-04-14T15:38:42.722443Z"
    }
   },
   "outputs": [],
   "source": [
    "# Убираем выбросы - поездки с продолжительностью меньше 0 и больше 12 часов\n",
    "df = df[df[\"duration\"] > 0]\n",
    "df = df[df[\"duration\"] < 60 * 12]"
   ]
  },
  {
   "cell_type": "code",
   "execution_count": 10,
   "metadata": {
    "ExecuteTime": {
     "end_time": "2023-04-14T16:19:08.240399Z",
     "start_time": "2023-04-14T16:19:08.143813Z"
    }
   },
   "outputs": [],
   "source": [
    "# Возьмем среднюю скорость велосипедиста 15 км/ч\n",
    "df[\"distance\"] = df[\"duration\"] * 15 / 60"
   ]
  },
  {
   "cell_type": "code",
   "execution_count": 90,
   "metadata": {
    "ExecuteTime": {
     "end_time": "2023-04-14T14:47:51.873321Z",
     "start_time": "2023-04-14T14:47:51.634327Z"
    }
   },
   "outputs": [
    {
     "data": {
      "text/html": [
       "<div>\n",
       "<style scoped>\n",
       "    .dataframe tbody tr th:only-of-type {\n",
       "        vertical-align: middle;\n",
       "    }\n",
       "\n",
       "    .dataframe tbody tr th {\n",
       "        vertical-align: top;\n",
       "    }\n",
       "\n",
       "    .dataframe thead th {\n",
       "        text-align: right;\n",
       "    }\n",
       "</style>\n",
       "<table border=\"1\" class=\"dataframe\">\n",
       "  <thead>\n",
       "    <tr style=\"text-align: right;\">\n",
       "      <th></th>\n",
       "      <th>trip_id</th>\n",
       "      <th>start_time</th>\n",
       "      <th>end_time</th>\n",
       "      <th>bikeid</th>\n",
       "      <th>tripduration</th>\n",
       "      <th>from_station_id</th>\n",
       "      <th>from_station_name</th>\n",
       "      <th>to_station_id</th>\n",
       "      <th>to_station_name</th>\n",
       "      <th>usertype</th>\n",
       "      <th>gender</th>\n",
       "      <th>birthyear</th>\n",
       "      <th>duration</th>\n",
       "      <th>distance</th>\n",
       "    </tr>\n",
       "  </thead>\n",
       "  <tbody>\n",
       "    <tr>\n",
       "      <th>0</th>\n",
       "      <td>21742443</td>\n",
       "      <td>2019-01-01 00:04:37</td>\n",
       "      <td>2019-01-01 00:11:07</td>\n",
       "      <td>2167</td>\n",
       "      <td>390.0</td>\n",
       "      <td>199</td>\n",
       "      <td>Wabash Ave &amp; Grand Ave</td>\n",
       "      <td>84</td>\n",
       "      <td>Milwaukee Ave &amp; Grand Ave</td>\n",
       "      <td>Subscriber</td>\n",
       "      <td>Male</td>\n",
       "      <td>1989.0</td>\n",
       "      <td>6.500000</td>\n",
       "      <td>1.625000</td>\n",
       "    </tr>\n",
       "    <tr>\n",
       "      <th>1</th>\n",
       "      <td>21742444</td>\n",
       "      <td>2019-01-01 00:08:13</td>\n",
       "      <td>2019-01-01 00:15:34</td>\n",
       "      <td>4386</td>\n",
       "      <td>441.0</td>\n",
       "      <td>44</td>\n",
       "      <td>State St &amp; Randolph St</td>\n",
       "      <td>624</td>\n",
       "      <td>Dearborn St &amp; Van Buren St (*)</td>\n",
       "      <td>Subscriber</td>\n",
       "      <td>Female</td>\n",
       "      <td>1990.0</td>\n",
       "      <td>7.350000</td>\n",
       "      <td>1.837500</td>\n",
       "    </tr>\n",
       "    <tr>\n",
       "      <th>2</th>\n",
       "      <td>21742445</td>\n",
       "      <td>2019-01-01 00:13:23</td>\n",
       "      <td>2019-01-01 00:27:12</td>\n",
       "      <td>1524</td>\n",
       "      <td>829.0</td>\n",
       "      <td>15</td>\n",
       "      <td>Racine Ave &amp; 18th St</td>\n",
       "      <td>644</td>\n",
       "      <td>Western Ave &amp; Fillmore St (*)</td>\n",
       "      <td>Subscriber</td>\n",
       "      <td>Female</td>\n",
       "      <td>1994.0</td>\n",
       "      <td>13.816667</td>\n",
       "      <td>3.454167</td>\n",
       "    </tr>\n",
       "    <tr>\n",
       "      <th>3</th>\n",
       "      <td>21742446</td>\n",
       "      <td>2019-01-01 00:13:45</td>\n",
       "      <td>2019-01-01 00:43:28</td>\n",
       "      <td>252</td>\n",
       "      <td>1,783.0</td>\n",
       "      <td>123</td>\n",
       "      <td>California Ave &amp; Milwaukee Ave</td>\n",
       "      <td>176</td>\n",
       "      <td>Clark St &amp; Elm St</td>\n",
       "      <td>Subscriber</td>\n",
       "      <td>Male</td>\n",
       "      <td>1993.0</td>\n",
       "      <td>29.716667</td>\n",
       "      <td>7.429167</td>\n",
       "    </tr>\n",
       "    <tr>\n",
       "      <th>4</th>\n",
       "      <td>21742447</td>\n",
       "      <td>2019-01-01 00:14:52</td>\n",
       "      <td>2019-01-01 00:20:56</td>\n",
       "      <td>1170</td>\n",
       "      <td>364.0</td>\n",
       "      <td>173</td>\n",
       "      <td>Mies van der Rohe Way &amp; Chicago Ave</td>\n",
       "      <td>35</td>\n",
       "      <td>Streeter Dr &amp; Grand Ave</td>\n",
       "      <td>Subscriber</td>\n",
       "      <td>Male</td>\n",
       "      <td>1994.0</td>\n",
       "      <td>6.066667</td>\n",
       "      <td>1.516667</td>\n",
       "    </tr>\n",
       "  </tbody>\n",
       "</table>\n",
       "</div>"
      ],
      "text/plain": [
       "    trip_id          start_time            end_time  bikeid tripduration   \n",
       "0  21742443 2019-01-01 00:04:37 2019-01-01 00:11:07    2167        390.0  \\\n",
       "1  21742444 2019-01-01 00:08:13 2019-01-01 00:15:34    4386        441.0   \n",
       "2  21742445 2019-01-01 00:13:23 2019-01-01 00:27:12    1524        829.0   \n",
       "3  21742446 2019-01-01 00:13:45 2019-01-01 00:43:28     252      1,783.0   \n",
       "4  21742447 2019-01-01 00:14:52 2019-01-01 00:20:56    1170        364.0   \n",
       "\n",
       "   from_station_id                    from_station_name  to_station_id   \n",
       "0              199               Wabash Ave & Grand Ave             84  \\\n",
       "1               44               State St & Randolph St            624   \n",
       "2               15                 Racine Ave & 18th St            644   \n",
       "3              123       California Ave & Milwaukee Ave            176   \n",
       "4              173  Mies van der Rohe Way & Chicago Ave             35   \n",
       "\n",
       "                  to_station_name    usertype  gender  birthyear   duration   \n",
       "0       Milwaukee Ave & Grand Ave  Subscriber    Male     1989.0   6.500000  \\\n",
       "1  Dearborn St & Van Buren St (*)  Subscriber  Female     1990.0   7.350000   \n",
       "2   Western Ave & Fillmore St (*)  Subscriber  Female     1994.0  13.816667   \n",
       "3               Clark St & Elm St  Subscriber    Male     1993.0  29.716667   \n",
       "4         Streeter Dr & Grand Ave  Subscriber    Male     1994.0   6.066667   \n",
       "\n",
       "   distance  \n",
       "0  1.625000  \n",
       "1  1.837500  \n",
       "2  3.454167  \n",
       "3  7.429167  \n",
       "4  1.516667  "
      ]
     },
     "execution_count": 90,
     "metadata": {},
     "output_type": "execute_result"
    }
   ],
   "source": [
    "df.head()"
   ]
  },
  {
   "cell_type": "code",
   "execution_count": 91,
   "metadata": {
    "ExecuteTime": {
     "end_time": "2023-04-14T14:47:51.949333Z",
     "start_time": "2023-04-14T14:47:51.880325Z"
    }
   },
   "outputs": [],
   "source": [
    "# Приводим к числовому типу\n",
    "df[\"distance\"] = df[\"distance\"].astype(float)"
   ]
  },
  {
   "cell_type": "code",
   "execution_count": 92,
   "metadata": {
    "ExecuteTime": {
     "end_time": "2023-04-14T14:47:52.680570Z",
     "start_time": "2023-04-14T14:47:51.955326Z"
    }
   },
   "outputs": [],
   "source": [
    "# Убираем выбросы - поездки с километражем больше 20 км\n",
    "df = df[df[\"distance\"] < 20]"
   ]
  },
  {
   "cell_type": "code",
   "execution_count": 93,
   "metadata": {
    "ExecuteTime": {
     "end_time": "2023-04-14T14:47:53.145739Z",
     "start_time": "2023-04-14T14:47:52.692575Z"
    }
   },
   "outputs": [],
   "source": [
    "mean = df[\"distance\"].mean()\n",
    "median = df[\"distance\"].median()\n",
    "percentile_95 = df[\"distance\"].quantile(0.95)\n",
    "percentile_5 = df[\"distance\"].quantile(0.05)"
   ]
  },
  {
   "cell_type": "code",
   "execution_count": 94,
   "metadata": {
    "ExecuteTime": {
     "end_time": "2023-04-14T14:47:54.031614Z",
     "start_time": "2023-04-14T14:47:54.017615Z"
    }
   },
   "outputs": [
    {
     "data": {
      "text/plain": [
       "(3.4955320852622487, 2.75, 8.275, 0.7958333333333333)"
      ]
     },
     "execution_count": 94,
     "metadata": {},
     "output_type": "execute_result"
    }
   ],
   "source": [
    "mean, median, percentile_95, percentile_5"
   ]
  },
  {
   "cell_type": "code",
   "execution_count": 95,
   "metadata": {
    "ExecuteTime": {
     "end_time": "2023-04-14T14:47:55.187306Z",
     "start_time": "2023-04-14T14:47:54.036615Z"
    }
   },
   "outputs": [
    {
     "data": {
      "text/plain": [
       "Text(0, 0.5, 'Количество поездок')"
      ]
     },
     "execution_count": 95,
     "metadata": {},
     "output_type": "execute_result"
    },
    {
     "data": {
      "image/png": "[encoded data removed]",
      "text/plain": [
       "<Figure size 640x480 with 1 Axes>"
      ]
     },
     "metadata": {},
     "output_type": "display_data"
    }
   ],
   "source": [
    "plt.hist(df[\"distance\"], bins=100)\n",
    "plt.title(\"Распределение поездок по километражу\")\n",
    "plt.axvline(mean, color=\"r\", linestyle=\"dashed\", linewidth=2, label=\"Среднее\")\n",
    "plt.axvline(median, color=\"g\", linestyle=\"dashed\", linewidth=2, label=\"Медиана\")\n",
    "plt.axvline(\n",
    "    percentile_95, color=\"b\", linestyle=\"dashed\", linewidth=2, label=\"95-й перцентиль\"\n",
    ")\n",
    "plt.axvline(\n",
    "    percentile_5, color=\"b\", linestyle=\"dashed\", linewidth=2, label=\"5-й перцентиль\"\n",
    ")\n",
    "plt.legend(loc=\"best\")\n",
    "plt.xlabel(\"Километраж\")\n",
    "plt.ylabel(\"Количество поездок\")"
   ]
  },
  {
   "cell_type": "markdown",
   "metadata": {},
   "source": [
    "# Сколько проезжает один велосипед?"
   ]
  },
  {
   "cell_type": "code",
   "execution_count": null,
   "metadata": {
    "ExecuteTime": {
     "end_time": "2023-04-13T21:56:39.940305Z",
     "start_time": "2023-04-13T21:56:38.840810Z"
    }
   },
   "outputs": [],
   "source": [
    "# Сгруппируем поездки по велосипедам и посчитаем суммарный километраж\n",
    "grouped_by_bike = df.groupby(\"bikeid\").agg({\"distance\": \"sum\"})"
   ]
  },
  {
   "cell_type": "code",
   "execution_count": 27,
   "metadata": {
    "ExecuteTime": {
     "end_time": "2023-04-13T21:14:01.195803Z",
     "start_time": "2023-04-13T21:14:01.177798Z"
    }
   },
   "outputs": [
    {
     "data": {
      "text/html": [
       "<div>\n",
       "<style scoped>\n",
       "    .dataframe tbody tr th:only-of-type {\n",
       "        vertical-align: middle;\n",
       "    }\n",
       "\n",
       "    .dataframe tbody tr th {\n",
       "        vertical-align: top;\n",
       "    }\n",
       "\n",
       "    .dataframe thead th {\n",
       "        text-align: right;\n",
       "    }\n",
       "</style>\n",
       "<table border=\"1\" class=\"dataframe\">\n",
       "  <thead>\n",
       "    <tr style=\"text-align: right;\">\n",
       "      <th></th>\n",
       "      <th>distance</th>\n",
       "    </tr>\n",
       "    <tr>\n",
       "      <th>bikeid</th>\n",
       "      <th></th>\n",
       "    </tr>\n",
       "  </thead>\n",
       "  <tbody>\n",
       "    <tr>\n",
       "      <th>1</th>\n",
       "      <td>2265.362500</td>\n",
       "    </tr>\n",
       "    <tr>\n",
       "      <th>2</th>\n",
       "      <td>1573.987500</td>\n",
       "    </tr>\n",
       "    <tr>\n",
       "      <th>3</th>\n",
       "      <td>1564.937500</td>\n",
       "    </tr>\n",
       "    <tr>\n",
       "      <th>4</th>\n",
       "      <td>1541.462500</td>\n",
       "    </tr>\n",
       "    <tr>\n",
       "      <th>5</th>\n",
       "      <td>1826.491667</td>\n",
       "    </tr>\n",
       "  </tbody>\n",
       "</table>\n",
       "</div>"
      ],
      "text/plain": [
       "           distance\n",
       "bikeid             \n",
       "1       2265.362500\n",
       "2       1573.987500\n",
       "3       1564.937500\n",
       "4       1541.462500\n",
       "5       1826.491667"
      ]
     },
     "execution_count": 27,
     "metadata": {},
     "output_type": "execute_result"
    }
   ],
   "source": [
    "grouped_by_bike.head()"
   ]
  },
  {
   "cell_type": "code",
   "execution_count": 17,
   "metadata": {
    "ExecuteTime": {
     "end_time": "2023-04-13T21:05:26.013094Z",
     "start_time": "2023-04-13T21:05:25.960112Z"
    }
   },
   "outputs": [
    {
     "data": {
      "text/html": [
       "<div>\n",
       "<style scoped>\n",
       "    .dataframe tbody tr th:only-of-type {\n",
       "        vertical-align: middle;\n",
       "    }\n",
       "\n",
       "    .dataframe tbody tr th {\n",
       "        vertical-align: top;\n",
       "    }\n",
       "\n",
       "    .dataframe thead th {\n",
       "        text-align: right;\n",
       "    }\n",
       "</style>\n",
       "<table border=\"1\" class=\"dataframe\">\n",
       "  <thead>\n",
       "    <tr style=\"text-align: right;\">\n",
       "      <th></th>\n",
       "      <th>distance</th>\n",
       "    </tr>\n",
       "  </thead>\n",
       "  <tbody>\n",
       "    <tr>\n",
       "      <th>count</th>\n",
       "      <td>6257.000000</td>\n",
       "    </tr>\n",
       "    <tr>\n",
       "      <th>mean</th>\n",
       "      <td>2316.141124</td>\n",
       "    </tr>\n",
       "    <tr>\n",
       "      <th>std</th>\n",
       "      <td>805.231249</td>\n",
       "    </tr>\n",
       "    <tr>\n",
       "      <th>min</th>\n",
       "      <td>28.112500</td>\n",
       "    </tr>\n",
       "    <tr>\n",
       "      <th>25%</th>\n",
       "      <td>1871.500000</td>\n",
       "    </tr>\n",
       "    <tr>\n",
       "      <th>50%</th>\n",
       "      <td>2424.170833</td>\n",
       "    </tr>\n",
       "    <tr>\n",
       "      <th>75%</th>\n",
       "      <td>2867.154167</td>\n",
       "    </tr>\n",
       "    <tr>\n",
       "      <th>max</th>\n",
       "      <td>5220.725000</td>\n",
       "    </tr>\n",
       "  </tbody>\n",
       "</table>\n",
       "</div>"
      ],
      "text/plain": [
       "          distance\n",
       "count  6257.000000\n",
       "mean   2316.141124\n",
       "std     805.231249\n",
       "min      28.112500\n",
       "25%    1871.500000\n",
       "50%    2424.170833\n",
       "75%    2867.154167\n",
       "max    5220.725000"
      ]
     },
     "execution_count": 17,
     "metadata": {},
     "output_type": "execute_result"
    }
   ],
   "source": [
    "grouped_by_bike.describe()"
   ]
  },
  {
   "cell_type": "code",
   "execution_count": 18,
   "metadata": {
    "ExecuteTime": {
     "end_time": "2023-04-13T21:05:26.044098Z",
     "start_time": "2023-04-13T21:05:26.018105Z"
    }
   },
   "outputs": [],
   "source": [
    "mean = grouped_by_bike[\"distance\"].mean()\n",
    "median = grouped_by_bike[\"distance\"].median()\n",
    "percentile_95 = grouped_by_bike[\"distance\"].quantile(0.95)\n",
    "percentile_5 = grouped_by_bike[\"distance\"].quantile(0.05)"
   ]
  },
  {
   "cell_type": "code",
   "execution_count": 19,
   "metadata": {
    "ExecuteTime": {
     "end_time": "2023-04-13T21:05:27.021552Z",
     "start_time": "2023-04-13T21:05:26.053104Z"
    }
   },
   "outputs": [
    {
     "data": {
      "text/plain": [
       "Text(0, 0.5, 'Количество велосипедов')"
      ]
     },
     "execution_count": 19,
     "metadata": {},
     "output_type": "execute_result"
    },
    {
     "data": {
      "image/png": "[encoded data removed]",
      "text/plain": [
       "<Figure size 640x480 with 1 Axes>"
      ]
     },
     "metadata": {},
     "output_type": "display_data"
    }
   ],
   "source": [
    "plt.hist(grouped_by_bike[\"distance\"], bins=100)\n",
    "plt.title(\"Распределение велосипедов по километражу\")\n",
    "plt.axvline(mean, color=\"r\", linestyle=\"dashed\", linewidth=2, label=\"Среднее\")\n",
    "plt.axvline(median, color=\"g\", linestyle=\"dashed\", linewidth=2, label=\"Медиана\")\n",
    "plt.axvline(\n",
    "    percentile_95, color=\"b\", linestyle=\"dashed\", linewidth=2, label=\"95-й перцентиль\"\n",
    ")\n",
    "plt.axvline(\n",
    "    percentile_5, color=\"b\", linestyle=\"dashed\", linewidth=2, label=\"5-й перцентиль\"\n",
    ")\n",
    "plt.legend(loc=\"best\")\n",
    "plt.xlabel(\"Километраж\")\n",
    "plt.ylabel(\"Количество велосипедов\")"
   ]
  },
  {
   "cell_type": "markdown",
   "metadata": {},
   "source": [
    "# Сколько лет активен один велосипед?\n",
    "Сгруппируем каждый датасет по bikeid и возьмем первую и последнюю поездку. После этого объеденим все датасеты в один и найдем самую первую и самую последнюю поездку для каждого велосипеда => срок жизни велосипеда"
   ]
  },
  {
   "cell_type": "code",
   "execution_count": 24,
   "metadata": {
    "ExecuteTime": {
     "end_time": "2023-04-14T16:23:03.116710Z",
     "start_time": "2023-04-14T16:23:02.536989Z"
    }
   },
   "outputs": [],
   "source": [
    "grouped_by_bike_2019 = (\n",
    "    df.groupby(\"bikeid\").agg({\"start_time\": \"min\", \"end_time\": \"max\"}).reset_index()\n",
    ")"
   ]
  },
  {
   "cell_type": "code",
   "execution_count": 25,
   "metadata": {
    "ExecuteTime": {
     "end_time": "2023-04-14T16:23:37.432879Z",
     "start_time": "2023-04-14T16:23:03.839680Z"
    }
   },
   "outputs": [
    {
     "name": "stderr",
     "output_type": "stream",
     "text": [
      "C:\\Users\\fpokr\\AppData\\Local\\Temp\\ipykernel_16392\\3407659410.py:1: DtypeWarning: Columns (1,2,4,6,8,9,10,13,14,18,20,21,22) have mixed types. Specify dtype option on import or set low_memory=False.\n",
      "  df_2 = pd.read_csv(\"data/2018/Divvy_Trips_2018_full.csv.gz\", compression=\"gzip\")\n"
     ]
    }
   ],
   "source": [
    "df_2 = pd.read_csv(\"data/2018/Divvy_Trips_2018_full.csv.gz\", compression=\"gzip\")\n",
    "grouped_by_bike_2018 = df_2.groupby(\"01 - Rental Details Bike ID\").agg(\n",
    "    {\n",
    "        \"01 - Rental Details Local Start Time\": \"min\",\n",
    "        \"01 - Rental Details Local End Time\": \"max\",\n",
    "    }\n",
    ")\n",
    "grouped_by_bike_2018 = grouped_by_bike_2018.reset_index()\n",
    "grouped_by_bike_2018[\"01 - Rental Details Bike ID\"] = grouped_by_bike_2018[\n",
    "    \"01 - Rental Details Bike ID\"\n",
    "].astype(int)\n",
    "grouped_by_bike_2018 = grouped_by_bike_2018.rename(\n",
    "    columns={\n",
    "        \"01 - Rental Details Bike ID\": \"bikeid\",\n",
    "        \"01 - Rental Details Local Start Time\": \"start_time\",\n",
    "        \"01 - Rental Details Local End Time\": \"end_time\",\n",
    "    }\n",
    ")"
   ]
  },
  {
   "cell_type": "code",
   "execution_count": 26,
   "metadata": {
    "ExecuteTime": {
     "end_time": "2023-04-14T16:24:10.579110Z",
     "start_time": "2023-04-14T16:23:37.458082Z"
    }
   },
   "outputs": [],
   "source": [
    "df_2 = pd.read_csv(\"data/2017/Divvy_Trips_2017_full.csv.gz\", compression=\"gzip\")\n",
    "grouped_by_bike_2017 = (\n",
    "    df_2.groupby(\"bikeid\").agg({\"start_time\": \"min\", \"end_time\": \"max\"}).reset_index()\n",
    ")"
   ]
  },
  {
   "cell_type": "code",
   "execution_count": 27,
   "metadata": {
    "ExecuteTime": {
     "end_time": "2023-04-14T16:24:31.793207Z",
     "start_time": "2023-04-14T16:24:10.594108Z"
    }
   },
   "outputs": [],
   "source": [
    "df_2 = pd.read_csv(\"data/2016/Divvy_Trips_2016_full.csv.gz\", compression=\"gzip\")\n",
    "grouped_by_bike_2016 = (\n",
    "    df_2.groupby(\"bikeid\")\n",
    "    .agg({\"starttime\": \"min\", \"stoptime\": \"max\"})\n",
    "    .rename(columns={\"starttime\": \"start_time\", \"stoptime\": \"end_time\"})\n",
    "    .reset_index()\n",
    ")"
   ]
  },
  {
   "cell_type": "code",
   "execution_count": 28,
   "metadata": {
    "ExecuteTime": {
     "end_time": "2023-04-14T16:24:47.656551Z",
     "start_time": "2023-04-14T16:24:31.803211Z"
    }
   },
   "outputs": [],
   "source": [
    "df_2 = pd.read_csv(\"data/2015/Divvy_Trips_2015_full.csv.gz\", compression=\"gzip\")\n",
    "grouped_by_bike_2015 = (\n",
    "    df_2.groupby(\"bikeid\")\n",
    "    .agg({\"starttime\": \"min\", \"stoptime\": \"max\"})\n",
    "    .rename(columns={\"starttime\": \"start_time\", \"stoptime\": \"end_time\"})\n",
    "    .reset_index()\n",
    ")"
   ]
  },
  {
   "cell_type": "code",
   "execution_count": 29,
   "metadata": {
    "ExecuteTime": {
     "end_time": "2023-04-14T16:25:01.026285Z",
     "start_time": "2023-04-14T16:24:47.661549Z"
    }
   },
   "outputs": [],
   "source": [
    "df_2 = pd.read_csv(\"data/2014/Divvy_Trips_2014_full.csv.gz\", compression=\"gzip\")\n",
    "grouped_by_bike_2014 = (\n",
    "    df_2.groupby(\"bikeid\")\n",
    "    .agg({\"starttime\": \"min\", \"stoptime\": \"max\"})\n",
    "    .rename(columns={\"starttime\": \"start_time\", \"stoptime\": \"end_time\"})\n",
    "    .reset_index()\n",
    ")"
   ]
  },
  {
   "cell_type": "code",
   "execution_count": 30,
   "metadata": {
    "ExecuteTime": {
     "end_time": "2023-04-14T16:25:01.132168Z",
     "start_time": "2023-04-14T16:25:01.032513Z"
    }
   },
   "outputs": [],
   "source": [
    "full_grouped = pd.concat(\n",
    "    [\n",
    "        grouped_by_bike_2014,\n",
    "        grouped_by_bike_2015,\n",
    "        grouped_by_bike_2016,\n",
    "        grouped_by_bike_2017,\n",
    "        grouped_by_bike_2018,\n",
    "        grouped_by_bike_2019,\n",
    "    ]\n",
    ")"
   ]
  },
  {
   "cell_type": "code",
   "execution_count": 31,
   "metadata": {
    "ExecuteTime": {
     "end_time": "2023-04-14T16:25:06.442330Z",
     "start_time": "2023-04-14T16:25:01.135334Z"
    }
   },
   "outputs": [],
   "source": [
    "full_grouped[\"start_time\"] = pd.to_datetime(full_grouped[\"start_time\"], format=\"mixed\")\n",
    "full_grouped[\"end_time\"] = pd.to_datetime(full_grouped[\"end_time\"], format=\"mixed\")"
   ]
  },
  {
   "cell_type": "code",
   "execution_count": 32,
   "metadata": {
    "ExecuteTime": {
     "end_time": "2023-04-14T16:25:06.564736Z",
     "start_time": "2023-04-14T16:25:06.448578Z"
    }
   },
   "outputs": [
    {
     "data": {
      "text/html": [
       "<div>\n",
       "<style scoped>\n",
       "    .dataframe tbody tr th:only-of-type {\n",
       "        vertical-align: middle;\n",
       "    }\n",
       "\n",
       "    .dataframe tbody tr th {\n",
       "        vertical-align: top;\n",
       "    }\n",
       "\n",
       "    .dataframe thead th {\n",
       "        text-align: right;\n",
       "    }\n",
       "</style>\n",
       "<table border=\"1\" class=\"dataframe\">\n",
       "  <thead>\n",
       "    <tr style=\"text-align: right;\">\n",
       "      <th></th>\n",
       "      <th>bikeid</th>\n",
       "      <th>start_time</th>\n",
       "      <th>end_time</th>\n",
       "    </tr>\n",
       "  </thead>\n",
       "  <tbody>\n",
       "    <tr>\n",
       "      <th>0</th>\n",
       "      <td>1</td>\n",
       "      <td>2014-01-10 15:02:00</td>\n",
       "      <td>2014-09-09 08:44:00</td>\n",
       "    </tr>\n",
       "    <tr>\n",
       "      <th>1</th>\n",
       "      <td>2</td>\n",
       "      <td>2014-10-01 16:28:00</td>\n",
       "      <td>2014-09-09 08:26:00</td>\n",
       "    </tr>\n",
       "    <tr>\n",
       "      <th>2</th>\n",
       "      <td>3</td>\n",
       "      <td>2014-01-30 16:59:00</td>\n",
       "      <td>2014-09-30 12:55:00</td>\n",
       "    </tr>\n",
       "    <tr>\n",
       "      <th>3</th>\n",
       "      <td>4</td>\n",
       "      <td>2014-01-14 08:00:00</td>\n",
       "      <td>2014-07-09 18:22:00</td>\n",
       "    </tr>\n",
       "    <tr>\n",
       "      <th>4</th>\n",
       "      <td>5</td>\n",
       "      <td>2014-10-28 18:01:00</td>\n",
       "      <td>2014-09-09 18:19:00</td>\n",
       "    </tr>\n",
       "  </tbody>\n",
       "</table>\n",
       "</div>"
      ],
      "text/plain": [
       "   bikeid          start_time            end_time\n",
       "0       1 2014-01-10 15:02:00 2014-09-09 08:44:00\n",
       "1       2 2014-10-01 16:28:00 2014-09-09 08:26:00\n",
       "2       3 2014-01-30 16:59:00 2014-09-30 12:55:00\n",
       "3       4 2014-01-14 08:00:00 2014-07-09 18:22:00\n",
       "4       5 2014-10-28 18:01:00 2014-09-09 18:19:00"
      ]
     },
     "execution_count": 32,
     "metadata": {},
     "output_type": "execute_result"
    }
   ],
   "source": [
    "full_grouped.head()"
   ]
  },
  {
   "cell_type": "code",
   "execution_count": 33,
   "metadata": {
    "ExecuteTime": {
     "end_time": "2023-04-14T16:25:06.596830Z",
     "start_time": "2023-04-14T16:25:06.569746Z"
    }
   },
   "outputs": [],
   "source": [
    "# Получаем датасет с самой первой и последней поездкой для каждого велосипеда\n",
    "full_grouped_result = full_grouped.groupby(\"bikeid\").agg(\n",
    "    {\"start_time\": \"min\", \"end_time\": \"max\"}\n",
    ")"
   ]
  },
  {
   "cell_type": "code",
   "execution_count": 34,
   "metadata": {
    "ExecuteTime": {
     "end_time": "2023-04-14T16:25:06.627837Z",
     "start_time": "2023-04-14T16:25:06.604850Z"
    }
   },
   "outputs": [],
   "source": [
    "# Убираем выбросы - не может быть так, что первая поездка была позже последней\n",
    "full_grouped_result = full_grouped_result[\n",
    "    full_grouped_result[\"start_time\"] < full_grouped_result[\"end_time\"]\n",
    "]"
   ]
  },
  {
   "cell_type": "code",
   "execution_count": 35,
   "metadata": {
    "ExecuteTime": {
     "end_time": "2023-04-14T16:25:06.674079Z",
     "start_time": "2023-04-14T16:25:06.634834Z"
    }
   },
   "outputs": [],
   "source": [
    "full_grouped_result[\"years\"] = (\n",
    "    full_grouped_result[\"end_time\"].dt.year - full_grouped_result[\"start_time\"].dt.year\n",
    ")"
   ]
  },
  {
   "cell_type": "code",
   "execution_count": 36,
   "metadata": {
    "ExecuteTime": {
     "end_time": "2023-04-14T16:25:07.392167Z",
     "start_time": "2023-04-14T16:25:06.681296Z"
    }
   },
   "outputs": [
    {
     "data": {
      "text/plain": [
       "Text(0, 0.5, 'Количество велосипедов')"
      ]
     },
     "execution_count": 36,
     "metadata": {},
     "output_type": "execute_result"
    },
    {
     "data": {
      "image/png": "[encoded data removed]",
      "text/plain": [
       "<Figure size 640x480 with 1 Axes>"
      ]
     },
     "metadata": {},
     "output_type": "display_data"
    }
   ],
   "source": [
    "plt.hist(full_grouped_result[\"years\"], bins=100)\n",
    "plt.title(\"Распределение велосипедов по возрасту\")\n",
    "plt.xlabel(\"Возраст\")\n",
    "plt.ylabel(\"Количество велосипедов\")"
   ]
  },
  {
   "cell_type": "markdown",
   "metadata": {},
   "source": [
    "# Сколько проезжает велосипед за срок службы?"
   ]
  },
  {
   "cell_type": "code",
   "execution_count": 11,
   "metadata": {
    "ExecuteTime": {
     "end_time": "2023-04-14T16:19:15.158942Z",
     "start_time": "2023-04-14T16:19:14.786878Z"
    }
   },
   "outputs": [],
   "source": [
    "grouped_by_distance_2019 = df.groupby(\"bikeid\").agg({\"distance\": \"sum\"})"
   ]
  },
  {
   "cell_type": "code",
   "execution_count": 12,
   "metadata": {
    "ExecuteTime": {
     "end_time": "2023-04-14T16:19:52.520788Z",
     "start_time": "2023-04-14T16:19:16.378527Z"
    }
   },
   "outputs": [
    {
     "name": "stderr",
     "output_type": "stream",
     "text": [
      "C:\\Users\\fpokr\\AppData\\Local\\Temp\\ipykernel_16392\\3141766867.py:1: DtypeWarning: Columns (1,2,4,6,8,9,10,13,14,18,20,21,22) have mixed types. Specify dtype option on import or set low_memory=False.\n",
      "  df_2 = pd.read_csv(\"data/2018/Divvy_Trips_2018_full.csv.gz\", compression=\"gzip\")\n"
     ]
    }
   ],
   "source": [
    "df_2 = pd.read_csv(\"data/2018/Divvy_Trips_2018_full.csv.gz\", compression=\"gzip\")\n",
    "\n",
    "df_2[\"duration\"] = (\n",
    "    (\n",
    "        pd.to_datetime(df_2[\"01 - Rental Details Local End Time\"], format=\"mixed\")\n",
    "        - pd.to_datetime(df_2[\"01 - Rental Details Local Start Time\"], format=\"mixed\")\n",
    "    )\n",
    "    .dt.total_seconds()\n",
    "    .div(60)\n",
    ")\n",
    "\n",
    "df_2 = df_2[df_2[\"duration\"] < 60 * 12]\n",
    "\n",
    "df_2[\"distance\"] = df_2[\"duration\"] * 15 / 60\n",
    "\n",
    "grouped_by_distance_2018 = (\n",
    "    df_2.groupby(\"01 - Rental Details Bike ID\").agg({\"distance\": \"sum\"}).reset_index()\n",
    ")\n",
    "\n",
    "grouped_by_distance_2018.rename(\n",
    "    columns={\"01 - Rental Details Bike ID\": \"bikeid\"}, inplace=True\n",
    ")"
   ]
  },
  {
   "cell_type": "code",
   "execution_count": 14,
   "metadata": {
    "ExecuteTime": {
     "end_time": "2023-04-14T16:21:19.620616Z",
     "start_time": "2023-04-14T16:20:57.308840Z"
    }
   },
   "outputs": [],
   "source": [
    "df_2 = pd.read_csv(\"data/2017/Divvy_Trips_2017_full.csv.gz\", compression=\"gzip\")\n",
    "\n",
    "df_2[\"distance\"] = df_2[\"tripduration\"] * 15 / 3600\n",
    "\n",
    "df_2 = df_2[df_2[\"tripduration\"] < 60 * 60 * 12]\n",
    "\n",
    "grouped_by_distance_2017 = df_2.groupby(\"bikeid\").agg({\"distance\": \"sum\"}).reset_index()"
   ]
  },
  {
   "cell_type": "code",
   "execution_count": 15,
   "metadata": {
    "ExecuteTime": {
     "end_time": "2023-04-14T16:21:48.698912Z",
     "start_time": "2023-04-14T16:21:19.624752Z"
    }
   },
   "outputs": [],
   "source": [
    "df_2 = pd.read_csv(\"data/2016/Divvy_Trips_2016_full.csv.gz\", compression=\"gzip\")\n",
    "\n",
    "df_2[\"distance\"] = df_2[\"tripduration\"] * 15 / 3600\n",
    "\n",
    "df_2 = df_2[df_2[\"tripduration\"] < 60 * 60 * 12]\n",
    "\n",
    "grouped_by_distance_2016 = df_2.groupby(\"bikeid\").agg({\"distance\": \"sum\"}).reset_index()"
   ]
  },
  {
   "cell_type": "code",
   "execution_count": 16,
   "metadata": {
    "ExecuteTime": {
     "end_time": "2023-04-14T16:21:59.799574Z",
     "start_time": "2023-04-14T16:21:48.703920Z"
    }
   },
   "outputs": [],
   "source": [
    "df_2 = pd.read_csv(\"data/2015/Divvy_Trips_2015_full.csv.gz\", compression=\"gzip\")\n",
    "\n",
    "df_2[\"distance\"] = df_2[\"tripduration\"] * 15 / 3600\n",
    "\n",
    "df_2 = df_2[df_2[\"tripduration\"] < 60 * 60 * 12]\n",
    "\n",
    "grouped_by_distance_2015 = df_2.groupby(\"bikeid\").agg({\"distance\": \"sum\"}).reset_index()"
   ]
  },
  {
   "cell_type": "code",
   "execution_count": 17,
   "metadata": {
    "ExecuteTime": {
     "end_time": "2023-04-14T16:22:07.730881Z",
     "start_time": "2023-04-14T16:21:59.805273Z"
    }
   },
   "outputs": [],
   "source": [
    "df_2 = pd.read_csv(\"data/2014/Divvy_Trips_2014_full.csv.gz\", compression=\"gzip\")\n",
    "\n",
    "df_2[\"distance\"] = df_2[\"tripduration\"] * 15 / 3600\n",
    "\n",
    "df_2 = df_2[df_2[\"tripduration\"] < 60 * 60 * 12]\n",
    "\n",
    "grouped_by_distance_2014 = df_2.groupby(\"bikeid\").agg({\"distance\": \"sum\"}).reset_index()"
   ]
  },
  {
   "cell_type": "code",
   "execution_count": 18,
   "metadata": {
    "ExecuteTime": {
     "end_time": "2023-04-14T16:22:07.792757Z",
     "start_time": "2023-04-14T16:22:07.735897Z"
    }
   },
   "outputs": [],
   "source": [
    "full_grouped_distance = pd.concat(\n",
    "    [\n",
    "        grouped_by_distance_2014,\n",
    "        grouped_by_distance_2015,\n",
    "        grouped_by_distance_2016,\n",
    "        grouped_by_distance_2017,\n",
    "        grouped_by_distance_2018,\n",
    "        grouped_by_distance_2019,\n",
    "    ]\n",
    ")\n",
    "\n",
    "full_grouped_distance.dropna(subset=\"bikeid\", inplace=True)\n",
    "\n",
    "full_grouped_distance[\"bikeid\"] = full_grouped_distance[\"bikeid\"].astype(int)"
   ]
  },
  {
   "cell_type": "code",
   "execution_count": 19,
   "metadata": {
    "ExecuteTime": {
     "end_time": "2023-04-14T16:22:07.823984Z",
     "start_time": "2023-04-14T16:22:07.795765Z"
    }
   },
   "outputs": [],
   "source": [
    "full_grouped_distance = (\n",
    "    full_grouped_distance.groupby(\"bikeid\").agg({\"distance\": \"sum\"}).reset_index()\n",
    ")"
   ]
  },
  {
   "cell_type": "code",
   "execution_count": 20,
   "metadata": {
    "ExecuteTime": {
     "end_time": "2023-04-14T16:22:07.841987Z",
     "start_time": "2023-04-14T16:22:07.828979Z"
    }
   },
   "outputs": [],
   "source": [
    "full_grouped_distance = full_grouped_distance[full_grouped_distance[\"distance\"] < 16000]"
   ]
  },
  {
   "cell_type": "code",
   "execution_count": 21,
   "metadata": {
    "ExecuteTime": {
     "end_time": "2023-04-14T16:22:07.902299Z",
     "start_time": "2023-04-14T16:22:07.848986Z"
    }
   },
   "outputs": [],
   "source": [
    "median = full_grouped_distance[\"distance\"].median()\n",
    "mean = full_grouped_distance[\"distance\"].mean()\n",
    "percentile_5 = full_grouped_distance[\"distance\"].quantile(0.05)\n",
    "percentile_95 = full_grouped_distance[\"distance\"].quantile(0.95)"
   ]
  },
  {
   "cell_type": "code",
   "execution_count": 22,
   "metadata": {
    "ExecuteTime": {
     "end_time": "2023-04-14T16:22:07.949161Z",
     "start_time": "2023-04-14T16:22:07.905301Z"
    }
   },
   "outputs": [
    {
     "data": {
      "text/plain": [
       "(9179.0875, 8624.444853941104, 2592.7850000000003, 12993.3975)"
      ]
     },
     "execution_count": 22,
     "metadata": {},
     "output_type": "execute_result"
    }
   ],
   "source": [
    "median, mean, percentile_5, percentile_95"
   ]
  },
  {
   "cell_type": "code",
   "execution_count": 23,
   "metadata": {
    "ExecuteTime": {
     "end_time": "2023-04-14T16:22:09.823383Z",
     "start_time": "2023-04-14T16:22:07.957180Z"
    }
   },
   "outputs": [
    {
     "data": {
      "text/plain": [
       "Text(0, 0.5, 'Количество велосипедов')"
      ]
     },
     "execution_count": 23,
     "metadata": {},
     "output_type": "execute_result"
    },
    {
     "data": {
      "image/png": "[encoded data removed]",
      "text/plain": [
       "<Figure size 640x480 with 1 Axes>"
      ]
     },
     "metadata": {},
     "output_type": "display_data"
    }
   ],
   "source": [
    "plt.hist(full_grouped_distance[\"distance\"], bins=100)\n",
    "plt.title(\"Распределение велосипедов по пройденному расстоянию за все время\")\n",
    "plt.axvline(mean, color=\"r\", linestyle=\"dashed\", linewidth=2, label=\"Среднее\")\n",
    "plt.axvline(median, color=\"g\", linestyle=\"dashed\", linewidth=2, label=\"Медиана\")\n",
    "plt.axvline(\n",
    "    percentile_95, color=\"b\", linestyle=\"dashed\", linewidth=2, label=\"95-й перцентиль\"\n",
    ")\n",
    "plt.axvline(\n",
    "    percentile_5, color=\"b\", linestyle=\"dashed\", linewidth=2, label=\"5-й перцентиль\"\n",
    ")\n",
    "plt.legend(loc=\"best\")\n",
    "plt.xlabel(\"Километраж\")\n",
    "plt.ylabel(\"Количество велосипедов\")"
   ]
  },
  {
   "cell_type": "markdown",
   "metadata": {},
   "source": [
    "# Сколько нужно потратить на ремонт?"
   ]
  },
  {
   "cell_type": "code",
   "execution_count": 52,
   "metadata": {
    "ExecuteTime": {
     "end_time": "2023-04-14T16:31:55.771183Z",
     "start_time": "2023-04-14T16:31:55.762179Z"
    }
   },
   "outputs": [],
   "source": [
    "full_grouped_distance[\"tech\"] = full_grouped_distance[\"distance\"] / 4000"
   ]
  },
  {
   "cell_type": "code",
   "execution_count": 53,
   "metadata": {
    "ExecuteTime": {
     "end_time": "2023-04-14T16:31:56.162620Z",
     "start_time": "2023-04-14T16:31:56.146619Z"
    }
   },
   "outputs": [],
   "source": [
    "full_grouped_distance[\"tech\"] = full_grouped_distance[\"tech\"].apply(lambda x: floor(x))"
   ]
  },
  {
   "cell_type": "code",
   "execution_count": 54,
   "metadata": {
    "ExecuteTime": {
     "end_time": "2023-04-14T16:31:56.399438Z",
     "start_time": "2023-04-14T16:31:56.384430Z"
    }
   },
   "outputs": [],
   "source": [
    "# В цену входят\n",
    "# тормозные колодки\n",
    "# Кассета и её система\n",
    "# цепь\n",
    "# вилка\n",
    "# рулевая колонка\n",
    "price = (880 + 400 + 400 + 2200 + 1800 + 600) / 81.99"
   ]
  },
  {
   "cell_type": "code",
   "execution_count": 55,
   "metadata": {
    "ExecuteTime": {
     "end_time": "2023-04-14T16:31:56.620991Z",
     "start_time": "2023-04-14T16:31:56.608554Z"
    }
   },
   "outputs": [],
   "source": [
    "full_grouped_distance[\"price\"] = full_grouped_distance[\"tech\"] * price"
   ]
  },
  {
   "cell_type": "code",
   "execution_count": 57,
   "metadata": {
    "ExecuteTime": {
     "end_time": "2023-04-14T16:32:11.968596Z",
     "start_time": "2023-04-14T16:32:11.947594Z"
    }
   },
   "outputs": [
    {
     "data": {
      "text/plain": [
       "802636"
      ]
     },
     "execution_count": 57,
     "metadata": {},
     "output_type": "execute_result"
    }
   ],
   "source": [
    "round(full_grouped_distance[\"price\"].sum())"
   ]
  }
 ],
 "metadata": {
  "kernelspec": {
   "display_name": "Python 3 (ipykernel)",
   "language": "python",
   "name": "python3"
  },
  "language_info": {
   "codemirror_mode": {
    "name": "ipython",
    "version": 3
   },
   "file_extension": ".py",
   "mimetype": "text/x-python",
   "name": "python",
   "nbconvert_exporter": "python",
   "pygments_lexer": "ipython3",
   "version": "3.10.7"
  },
  "toc": {
   "base_numbering": 1,
   "nav_menu": {},
   "number_sections": true,
   "sideBar": true,
   "skip_h1_title": false,
   "title_cell": "Table of Contents",
   "title_sidebar": "Contents",
   "toc_cell": false,
   "toc_position": {},
   "toc_section_display": true,
   "toc_window_display": false
  }
 },
 "nbformat": 4,
 "nbformat_minor": 1
}
